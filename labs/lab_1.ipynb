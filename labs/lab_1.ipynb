{
 "cells": [
  {
   "metadata": {},
   "cell_type": "markdown",
   "source": [
    "# Zadania lab 1\n",
    "*(na podstawie zadań dra inż. Tomasza Krzywickiego)\n",
    "\n",
    "1. Utworzyć tablicę zawierającą 50 piątek.\n",
    "2. Utworzyć tablicę o rozmiarach 5x5 z wartościami od 1 do 25.\n",
    "3. Utworzyć tablicę tablicę liczb parzystych od 10 do 50.\n",
    "4. Utworzyć macierz, w której na przekątnej znajdą się wartości równe 8, a pozostałe będą wynosiły 0.\n",
    "5. Utworzyć tablicę o rozmiarach 10x10 z wartościami zwiększającymi się o 0.01.\n",
    "6. Utworzyć przestrzeń liniową 50 wartości z zakresu 0-1.\n",
    "7. Wybrać podtablicę 12-elementową, z tablicy utworzonej w zadaniu 2, z wartościami w zakresie 12-25.\n",
    "8. Wybrać 3 pierwsze elementy z ostatniej kolumny tablicy utworzonej w zadaniu 2, a następnie ułożyć z nich kolumnę.\n",
    "9. Wyznaczyć sumę wartości elementów znajdujących się w dwóch ostatnich wierszach macierzy utworzonej w zadaniu 2.\n",
    "10. Przygotować skrypt, który stworzy tensor zawierający losowe wartości całkowite, losowym wymiarze i losowym rozmiarze każdego z wymiarów.\n",
    "11. Przygotować macierz, która w każdym wierszu będzie zawierała wartości od 1 do 5. Uwaga, nie używać w tym celu gotowych list do utworzenia macierzy.\n",
    "12. Utworzyć wektor 10-elementowy składający się z wartości losowych, a następnie wstawić 0 w miejsce wartości najmniejszej.\n",
    "13. Napisać skrypt, który w losowym wektorze Z znajdzie najbliższą wartość losowego skalara v.\n",
    "14. Wygenerować losową macierz M o rozmiarach 5x8, a następnie zamienić kolejnością 2 losowo wskazane wiersze.\n",
    "15. Wygenerować macierz o rozmiarach 5x5 wypełnioną dowolnymi kolejnymi wartościami, a następnie przetransformować macierz do postaci wektora kolumnowego zachowując wszystkie wartości."
   ],
   "id": "8897fa43fb0f371d"
  },
  {
   "metadata": {},
   "cell_type": "code",
   "outputs": [],
   "execution_count": null,
   "source": "",
   "id": "ef210304c4e169a8"
  }
 ],
 "metadata": {
  "kernelspec": {
   "display_name": "Python 3",
   "language": "python",
   "name": "python3"
  },
  "language_info": {
   "codemirror_mode": {
    "name": "ipython",
    "version": 2
   },
   "file_extension": ".py",
   "mimetype": "text/x-python",
   "name": "python",
   "nbconvert_exporter": "python",
   "pygments_lexer": "ipython2",
   "version": "2.7.6"
  }
 },
 "nbformat": 4,
 "nbformat_minor": 5
}
