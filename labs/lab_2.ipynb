{
 "nbformat": 4,
 "nbformat_minor": 0,
 "metadata": {
  "colab": {
   "name": "lab_7.ipynb",
   "provenance": [],
   "collapsed_sections": []
  },
  "kernelspec": {
   "name": "python3",
   "language": "python",
   "display_name": "Python 3 (ipykernel)"
  },
  "language_info": {
   "name": "python"
  }
 },
 "cells": [
  {
   "cell_type": "markdown",
   "metadata": {},
   "source": [
    "# Lab 2 - biblioteka pandas: przetwarzanie danych\n",
    "*(na podstawie zadań dra inż. Tomasza Krzywickiego)"
   ]
  },
  {
   "cell_type": "markdown",
   "metadata": {
    "id": "yEJBKPzOJiMA"
   },
   "source": [
    "## Zadania\n",
    "\n",
    "1. Wczytać zbiór danych z pliku movie_new.csv do ramki movie_new. Przy użyciu parametru names funkcji read_csv nadać następujące nazwy kolumnom: color,director_name,num_critic_for_reviews,duration,director_facebook_likes,actor_3_facebook_likes,actor_2_name,actor_1_facebook_likes,gross,genres,actor_1_name,movie_title,num_voted_users,cast_total_facebook_likes,actor_3_name,facenumber_in_poster,plot_keywords,movie_imdb_link,num_user_for_reviews,language,country,content_rating,budget,title_year,actor_2_facebook_likes,imdb_score,aspect_ratio,movie_facebook_likes.\n",
    "\n",
    "2. Utworzyć ramkę movie_num, w której będą zawarte jedynie kolumny z wartościami typu numerycznego.\n",
    "\n",
    "3. Wypełnić brakujące wartości w ramce movie_num średnią arytmetyczną wyznaczoną dla każdej kolumny z osobna. \n",
    "\n",
    "4. Znaleźć kolumnę w ramce movie_num, której wartości mają największe odchylenie standardowe.\n",
    "\n",
    "5. Zastąpić kolumny numeryczne w ramce movie_new nowymi kolumnami z ramki movie_num.\n",
    "\n",
    "6. Zastąpić wszystkie wartości wybrakowane w ramce movie_new za pomocą pierwszej wartości występującej w kolumnie.\n",
    "\n",
    "7. Nadać nowe indeksy wierszom w ramce movie_new według następującego schematu: [imie i nazwisko rezysera] - [tytul filmu].\n",
    "\n",
    "8. Zwiększyć wartość kolumny imdb_score każdego filmu w ramce movie_new o 1.\n",
    "\n",
    "9. Zmienić nazwy wszystkich kolumn w ramce movie_new w taki sposób aby zlikwidować wszystkie znaki _ oraz pierwsze litery wszystkich słów w nazwach były wielkie.\n",
    "\n",
    "10. Utworzyć ramkę movie_random, w której zostaną wybrane wiersze o losowej ilości w zakresie pozycji [start, end], gdzie start i end będą liczbami pseudolosowymi.\n",
    "\n",
    "11. Zwiększyć wartości każdej kolumny numerycznej w ramce movie_random o wartość pseudolosową (po jednej wartości na kolumnę)."
   ]
  },
  {
   "cell_type": "code",
   "metadata": {
    "id": "aPhbry345u28",
    "ExecuteTime": {
     "end_time": "2024-01-20T10:43:35.297901Z",
     "start_time": "2024-01-20T10:43:35.035205Z"
    }
   },
   "source": [],
   "execution_count": 48,
   "outputs": []
  }
 ]
}
