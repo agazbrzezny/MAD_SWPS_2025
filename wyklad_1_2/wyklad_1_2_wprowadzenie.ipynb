{
 "cells": [
  {
   "cell_type": "markdown",
   "source": [
    "# **Wykład 1: Analiza danych - wprowadzenie**\n",
    "\n",
    "W dzisiejszym świecie mamy dostęp do ogromnych ilości danych, ale same dane nie mają wartości, dopóki nie zostaną odpowiednio przeanalizowane. Analiza danych pozwala na wyciąganie użytecznych wniosków, przewidywanie trendów i podejmowanie lepszych decyzji biznesowych i naukowych. Bez niej firmy, naukowcy i instytucje nie mogłyby efektywnie działać i rozwijać się.\n",
    "\n",
    "Analiza danych to jeden z procesów przetwarzania danych, który umożliwia uzyskanie na ich podstawie użytecznych wniosków i informacji. Analiza danych na ogół składa się z etapów eksploracyjnych i statystycznych."
   ],
   "metadata": {
    "collapsed": false,
    "pycharm": {
     "name": "#%% md\n"
    }
   }
  },
  {
   "metadata": {},
   "cell_type": "markdown",
   "source": [
    "\n",
    "\n",
    "### **Przykłady zastosowania analizy danych w rzeczywistych scenariuszach**\n",
    "\n",
    "#### 1. Rekomendacje na Netflixie i Spotify\n",
    "Serwisy streamingowe, takie jak **Netflix**, **Spotify** czy **YouTube**, wykorzystują analizę danych do personalizacji treści dla użytkowników. Jak to działa?\n",
    "- **Gromadzenie danych** – systemy zbierają informacje o oglądanych filmach, ulubionych gatunkach, czasie spędzonym na danej produkcji, a także o tym, czy użytkownik przerwał oglądanie.\n",
    "- **Uczenie maszynowe** – modele przewidują, które filmy lub utwory muzyczne mogą spodobać się użytkownikowi na podstawie jego wcześniejszych wyborów i preferencji podobnych osób.\n",
    "- **Systemy rekomendacyjne** – algorytmy takie jak **collaborative filtering** (analiza podobieństwa użytkowników) oraz **content-based filtering** (analiza cech filmów i utworów) sugerują treści, które mogą być interesujące.\n",
    "\n",
    "Dzięki analizie danych użytkownicy chętniej korzystają z platform, a firmy zwiększają zaangażowanie klientów i zyski."
   ]
  },
  {
   "metadata": {
    "ExecuteTime": {
     "end_time": "2025-02-25T17:31:48.777390Z",
     "start_time": "2025-02-25T17:31:48.763519Z"
    }
   },
   "cell_type": "code",
   "source": [
    "import numpy as np\n",
    "import pandas as pd\n",
    "import matplotlib.pyplot as plt\n",
    "import seaborn as sns\n",
    "from sklearn.metrics.pairwise import cosine_similarity\n",
    "from sklearn.ensemble import IsolationForest\n",
    "from sklearn.linear_model import LogisticRegression\n",
    "from sklearn.model_selection import train_test_split\n",
    "from sklearn.preprocessing import LabelEncoder\n",
    "from sklearn.metrics import accuracy_score"
   ],
   "outputs": [],
   "execution_count": 14
  },
  {
   "metadata": {
    "ExecuteTime": {
     "end_time": "2025-02-25T17:31:48.803373Z",
     "start_time": "2025-02-25T17:31:48.792317Z"
    }
   },
   "cell_type": "code",
   "source": [
    "# System rekomendacji (cosine similarity)\n",
    "ratings = np.array([\n",
    "    [5, 3, 4, 4],\n",
    "    [3, 1, 2, 3],\n",
    "    [4, 3, 4, 5],\n",
    "    [3, 3, 1, 2],\n",
    "    [1, 5, 5, 2]\n",
    "])\n",
    "user_similarity = cosine_similarity(ratings)\n",
    "user_sim_df = pd.DataFrame(user_similarity, columns=[f'User {i+1}' for i in range(len(ratings))],\n",
    "                           index=[f'User {i+1}' for i in range(len(ratings))])\n",
    "print(\"Macierz podobieństwa użytkowników:\\n\", user_sim_df, \"\\n\")"
   ],
   "outputs": [
    {
     "name": "stdout",
     "output_type": "stream",
     "text": [
      "Macierz podobieństwa użytkowników:\n",
      "           User 1    User 2    User 3    User 4    User 5\n",
      "User 1  1.000000  0.975321  0.984848  0.923989  0.796687\n",
      "User 2  0.975321  1.000000  0.975321  0.869565  0.674786\n",
      "User 3  0.984848  0.975321  1.000000  0.898322  0.813285\n",
      "User 4  0.923989  0.869565  0.898322  1.000000  0.759134\n",
      "User 5  0.796687  0.674786  0.813285  0.759134  1.000000 \n",
      "\n"
     ]
    }
   ],
   "execution_count": 15
  },
  {
   "metadata": {},
   "cell_type": "markdown",
   "source": [
    "\n",
    "#### 2. Wykrywanie oszustw bankowych\n",
    "Banki i instytucje finansowe stosują analizę danych do wykrywania podejrzanych transakcji i oszustw finansowych.\n",
    "- **Monitorowanie transakcji w czasie rzeczywistym** – systemy analizują miliony transakcji i wykrywają anomalie.\n",
    "- **Uczenie maszynowe i modele statystyczne** – np. algorytmy klasyfikacji potrafią oznaczyć podejrzane operacje na podstawie wcześniejszych przypadków oszustw.\n",
    "- **Analiza zachowań klientów** – jeśli klient zazwyczaj dokonuje zakupów w Polsce, a nagle jego karta jest używana na drugim końcu świata, system może zablokować transakcję i poprosić o potwierdzenie.\n",
    "\n",
    "Redukcja strat finansowych i większe bezpieczeństwo klientów."
   ]
  },
  {
   "metadata": {
    "ExecuteTime": {
     "end_time": "2025-02-25T17:31:49.886612Z",
     "start_time": "2025-02-25T17:31:49.821538Z"
    }
   },
   "cell_type": "code",
   "source": [
    "# Wykrywanie oszustw bankowych (Isolation Forest)\n",
    "data = np.array([\n",
    "    [100, 2],\n",
    "    [200, 3],\n",
    "    [150, 1],\n",
    "    [5000, 30],\n",
    "    [120, 2],\n",
    "    [300, 4],\n",
    "    [7000, 50]\n",
    "])\n",
    "\n",
    "from sklearn.ensemble import IsolationForest\n",
    "\n",
    "model = IsolationForest(contamination=0.2, random_state=42)\n",
    "model.fit(data)\n",
    "predictions = model.predict(data)\n",
    "df_fraud = pd.DataFrame(data, columns=[\"Kwota\", \"Liczba transakcji\"])\n",
    "df_fraud[\"Oszustwo\"] = [\"Tak\" if p == -1 else \"Nie\" for p in predictions]\n",
    "print(\"Wykrywanie oszustw bankowych:\\n\", df_fraud, \"\\n\")"
   ],
   "outputs": [
    {
     "name": "stdout",
     "output_type": "stream",
     "text": [
      "Wykrywanie oszustw bankowych:\n",
      "    Kwota  Liczba transakcji Oszustwo\n",
      "0    100                  2      Nie\n",
      "1    200                  3      Nie\n",
      "2    150                  1      Nie\n",
      "3   5000                 30      Tak\n",
      "4    120                  2      Nie\n",
      "5    300                  4      Nie\n",
      "6   7000                 50      Tak \n",
      "\n"
     ]
    }
   ],
   "execution_count": 16
  },
  {
   "metadata": {},
   "cell_type": "markdown",
   "source": ""
  },
  {
   "metadata": {},
   "cell_type": "markdown",
   "source": [
    "\n",
    "\n",
    "#### 3. Analiza danych medycznych\n",
    "W medycynie analiza danych ma ogromne znaczenie dla diagnozowania chorób, przewidywania epidemii i poprawy skuteczności leczenia.\n",
    "- **Analiza obrazów medycznych** – algorytmy uczą się rozpoznawać choroby na podstawie zdjęć RTG, tomografii czy MRI.\n",
    "- **Predykcja ryzyka chorób** – na podstawie historii pacjentów i czynników genetycznych modele potrafią przewidzieć ryzyko wystąpienia choroby (np. cukrzycy, raka).\n",
    "- **Optymalizacja leczenia** – analiza danych pomaga lekarzom dostosować leczenie do indywidualnych potrzeb pacjenta.\n",
    "\n",
    "Szybsze i dokładniejsze diagnozy, lepsza opieka zdrowotna."
   ]
  },
  {
   "metadata": {
    "ExecuteTime": {
     "end_time": "2025-02-25T17:31:50.645770Z",
     "start_time": "2025-02-25T17:31:50.587607Z"
    }
   },
   "cell_type": "code",
   "source": [
    "# Analiza medyczna (wykres zależności wieku i poziomu cukru)\n",
    "wiek = [25, 35, 45, 55, 65, 75]\n",
    "poziom_cukru = [90, 110, 130, 160, 190, 220]\n",
    "plt.figure(figsize=(8,5))\n",
    "sns.scatterplot(x=wiek, y=poziom_cukru, marker='o', color='b', s=100)\n",
    "plt.xlabel(\"Wiek pacjenta\")\n",
    "plt.ylabel(\"Poziom cukru we krwi (mg/dL)\")\n",
    "plt.title(\"Zależność między wiekiem a poziomem cukru we krwi\")\n",
    "plt.grid()\n",
    "plt.show()"
   ],
   "outputs": [
    {
     "data": {
      "text/plain": [
       "<Figure size 800x500 with 1 Axes>"
      ],
      "image/png": "[encoded data removed]"
     },
     "metadata": {},
     "output_type": "display_data"
    }
   ],
   "execution_count": 17
  },
  {
   "metadata": {},
   "cell_type": "markdown",
   "source": ""
  },
  {
   "metadata": {},
   "cell_type": "markdown",
   "source": [
    "\n",
    "\n",
    "\n",
    "#### 4. Analiza ruchu drogowego i nawigacja GPS\n",
    "Aplikacje nawigacyjne, takie jak **Google Maps, Waze czy Yanosik**, wykorzystują analizę danych do optymalizacji tras przejazdu i przewidywania korków.\n",
    "- **Dane z czujników i GPS** – aplikacje zbierają dane o prędkości poruszania się pojazdów w czasie rzeczywistym.\n",
    "- **Analiza historycznych wzorców ruchu** – na podstawie wcześniejszych danych system przewiduje korki w określonych godzinach.\n",
    "- **Predykcja czasu dojazdu** – algorytmy szacują, ile czasu zajmie podróż i sugerują alternatywne trasy.\n",
    "\n",
    "Oszczędność czasu, zmniejszenie korków, lepsza płynność ruchu.\n"
   ]
  },
  {
   "metadata": {
    "ExecuteTime": {
     "end_time": "2025-02-25T17:31:54.431780Z",
     "start_time": "2025-02-25T17:31:54.380898Z"
    }
   },
   "cell_type": "code",
   "source": [
    "# Predykcja korków drogowych (wykres ruchu)\n",
    "godzina = [\"06:00\", \"07:00\", \"08:00\", \"09:00\", \"10:00\", \"11:00\"]\n",
    "natężenie_ruchu = [30, 70, 150, 120, 60, 40]\n",
    "plt.figure(figsize=(8,5))\n",
    "plt.plot(godzina, natężenie_ruchu, marker='o', linestyle='-', color='r')\n",
    "plt.xlabel(\"Godzina dnia\")\n",
    "plt.ylabel(\"Liczba pojazdów na minutę\")\n",
    "plt.title(\"Predykcja korków w godzinach porannych\")\n",
    "plt.grid()\n",
    "plt.show()"
   ],
   "outputs": [
    {
     "data": {
      "text/plain": [
       "<Figure size 800x500 with 1 Axes>"
      ],
      "image/png": "[encoded data removed]"
     },
     "metadata": {},
     "output_type": "display_data"
    }
   ],
   "execution_count": 18
  },
  {
   "metadata": {},
   "cell_type": "markdown",
   "source": "#### 5. Analiza danych w informatyce – porównanie klasycznej analizy i uczenia maszynowego\n"
  },
  {
   "metadata": {
    "ExecuteTime": {
     "end_time": "2025-02-25T17:31:55.783378Z",
     "start_time": "2025-02-25T17:31:55.769093Z"
    }
   },
   "cell_type": "code",
   "source": [
    "# Analiza Titanic - klasyczna analiza i uczenie maszynowe\n",
    "df_titanic = sns.load_dataset(\"titanic\")\n",
    "survival_rate = df_titanic.groupby(\"sex\")[\"survived\"].mean()\n",
    "print(\"Średni wskaźnik przeżycia wg płci:\\n\", survival_rate, \"\\n\")\n",
    "\n",
    "df_titanic = df_titanic[[\"sex\", \"age\", \"fare\", \"survived\"]].dropna()\n",
    "df_titanic[\"sex\"] = LabelEncoder().fit_transform(df_titanic[\"sex\"])\n",
    "X = df_titanic[[\"sex\", \"age\", \"fare\"]]\n",
    "y = df_titanic[\"survived\"]\n",
    "X_train, X_test, y_train, y_test = train_test_split(X, y, test_size=0.2, random_state=42)\n",
    "\n",
    "model = LogisticRegression(max_iter=1000)\n",
    "model.fit(X_train, y_train)\n",
    "predictions = model.predict(X_test)\n",
    "accuracy = accuracy_score(y_test, predictions)\n",
    "print(f\"Dokładność modelu predykcyjnego: {accuracy:.2f}\")\n"
   ],
   "outputs": [
    {
     "name": "stdout",
     "output_type": "stream",
     "text": [
      "Średni wskaźnik przeżycia wg płci:\n",
      " sex\n",
      "female    0.742038\n",
      "male      0.188908\n",
      "Name: survived, dtype: float64 \n",
      "\n",
      "Dokładność modelu predykcyjnego: 0.75\n"
     ]
    }
   ],
   "execution_count": 19
  },
  {
   "metadata": {},
   "cell_type": "markdown",
   "source": [
    "\n",
    "\n",
    "### **Rola analizy danych w zawodzie informatyka – jak różni się od tradycyjnej statystyki?**\n",
    "W tradycyjnej statystyce celem jest formułowanie i testowanie hipotez przy użyciu metod matematycznych. Informatycy zajmujący się analizą danych często idą o krok dalej:\n",
    "- **Więcej danych** – informatycy pracują na ogromnych zbiorach danych (Big Data), podczas gdy statystyka często koncentruje się na mniejszych próbkach.\n",
    "- **Uczenie maszynowe** – w analizie danych stosuje się algorytmy, które uczą się na podstawie wzorców, zamiast ręcznie formułować modele.\n",
    "- **Automatyzacja procesów** – w informatyce kluczowe jest przetwarzanie i analizowanie danych w sposób zautomatyzowany (np. z użyciem języka Python i bibliotek takich jak Pandas, NumPy, Scikit-learn).\n",
    "\n",
    "Informatycy nie tylko analizują dane, ale również wdrażają modele predykcyjne i automatyczne systemy podejmowania decyzji.\n",
    "\n",
    "\n",
    "### **Data Science, Big Data i Sztuczna Inteligencja – gdzie się łączy z analizą danych?**\n",
    "\n",
    "**Data Science** – szeroka dziedzina obejmująca analizę danych, programowanie i statystykę. Obejmuje proces **zbierania, przetwarzania, analizy i wizualizacji danych** oraz budowania modeli predykcyjnych.\n",
    "\n",
    "**Big Data** – analiza ogromnych zbiorów danych, które są zbyt duże, aby można było je przetwarzać tradycyjnymi metodami. Przykłady:\n",
    "- Dane z sieci społecznościowych (Facebook, Twitter).\n",
    "- Logi serwerów i aplikacji internetowych.\n",
    "- Informacje o transakcjach w bankach i sklepach.\n",
    "\n",
    "**Sztuczna Inteligencja (AI)** – wykorzystuje analizę danych do nauki i podejmowania decyzji. Wykorzystywane są tu techniki takie jak:\n",
    "- **Uczenie maszynowe** – algorytmy potrafią uczyć się na podstawie danych i podejmować decyzje bez ludzkiej interwencji.\n",
    "- **Uczenie głębokie (Deep Learning)** – zaawansowane modele AI naśladujące działanie ludzkiego mózgu.\n",
    "\n",
    "Wszystkie te dziedziny są ze sobą powiązane i bazują na analizie danych jako kluczowym elemencie.\n",
    "\n"
   ]
  },
  {
   "cell_type": "markdown",
   "source": [
    "## Analiza eksploracyjna\n",
    "\n",
    "**Analiza eksploracyjna danych** (ang. Exploratory Data Analysis, EDA) to jeden z pierwszych kroków w pracy z danymi. Jej celem jest lepsze zrozumienie zestawu danych – sprawdzenie, jakie są w nim wzorce, czy występują jakieś błędy oraz jakie zależności można zauważyć.\n",
    "\n",
    "Tradycyjna statystyka skupiała się głównie na wnioskowaniu na temat dużych populacji na podstawie niewielkich próbek. W latach 60. XX wieku amerykański statystyk John W. Tukey zauważył, że analiza danych powinna obejmować nie tylko skomplikowane obliczenia, ale także bardziej intuicyjne metody eksploracji. W swojej pracy The Future of Data Analysis zaproponował nową dziedzinę – analizę danych, której częścią jest analiza eksploracyjna.\n",
    "\n",
    "Tukey wprowadził wiele narzędzi, które do dziś są podstawą analizy danych. Należą do nich:\n",
    "  - proste wykresy, takie jak wykresy pudełkowe (box plot) czy punktowe (scatter plot), a także\n",
    "  - podstawowe statystyki opisowe, np. średnia, mediana czy kwartyle. Dzięki nim można szybko zobaczyć, jak wyglądają dane i jakie mają właściwości.\n",
    "To właśnie na tej podstawie buduje się wiele metod stosowanych w dzisiejszym data science.\n",
    "\n",
    "Wraz z ułatwieniem dostępu do mocy obliczeniowej i oprogramowania dedykowanego analizie danych badania eksploracyjne wyszły poza ich oryginalne założenia. Głównym motorem napędowym były:\n",
    " - gwałtowny rozwój nowych technologii,\n",
    " - łatwy dostęp do większej liczby dużych zbiorów danych i\n",
    " - zwiększenie możliwości wykorzystania analizy ilościowej w różnych dyscyplinach naukowych.\n",
    "\n",
    "David Donoho, profesor statystyki na Uniwersytecie Stanforda i były student Tukeya, jest autorem świetnego artykułu bazującego na jego prezentacji z warsztatów zorganizowanych z okazji setnej rocznicy urodzin Tukeya, które odbyły się na Uniwersytecie Princeton w New Jersey. Donoho prześledził w swojej pracy początki data science, aż do pionierskiej pracy Tukeya dotyczącej analizy danych."
   ],
   "metadata": {
    "collapsed": false,
    "pycharm": {
     "name": "#%% md\n"
    }
   }
  },
  {
   "cell_type": "markdown",
   "source": [
    "## Analiza statystyczna\n",
    "\n",
    "Analiza statystyczna to proces **zbierania** i **analizowania danych** w celu określenia wzorców i trendów. Jest to metoda polegająca na używaniu liczb, aby spróbować wyeliminować wszelkie tendencje stronnicze podczas przeglądania informacji. Może być również postrzegana jako narzędzie naukowe, które może pomóc w podejmowaniu decyzji.\n",
    "\n",
    "Istnieją dwa główne rodzaje analizy statystycznej: **opisowa** i **wnioskowa**.\n",
    "\n",
    "**Statystyka opisowa** jest tym, co organizacje wykorzystują do podsumowania swoich danych. Mają na celu opisanie dużej ilości uzyskanych informacji za pomocą różnego rodzaju tabel oraz wykresów podsumowujących, ale starają się nie wyciągać wniosków na temat badanej populacji. Podsumowują zebrane informacje za pomocą **diagramów**. W tym opracowaniu znajdziemy kluczowe wyniki dotyczące badanego zjawiska. Ponieważ wykresy, schematy i tabele są podstawowymi składnikami statystyki opisowej to ułatwiają **zrozumienie** i wizualizację surowych danych. Osoby analizujące **nie wyciągają wniosków** wykraczających poza analizowane dane. Wśród niektórych przydatnych danych, które pochodzą ze statystyk opisowych, znajdują się m.in. **mediana** i **średnia**, a także **wariancja** i **odchylenie standardowe**.\n",
    "\n",
    "Drugim rodzajem analizy statystycznej jest **wnioskowanie**. Statystyki interferencyjne są sposobem na dalsze badanie danych. Statystyka inferencyjna pozwala organizacjom na **przetestowanie hipotezy** i wyciągnięcie wniosków na temat danych. W takich przypadkach zwykle bada się próbę całych danych, a wyniki stosuje się do grupy, jako całości.\n"
   ],
   "metadata": {
    "collapsed": false,
    "pycharm": {
     "name": "#%% md\n"
    }
   }
  },
  {
   "cell_type": "markdown",
   "source": [
    "## Dane uporządkowane"
   ],
   "metadata": {
    "collapsed": false,
    "pycharm": {
     "name": "#%% md\n"
    }
   }
  },
  {
   "cell_type": "markdown",
   "source": [
    "Dane mogą pochodzić z różnych źródeł; mogą to być na przykład:\n",
    "- pomiary z czujników,\n",
    "- wydarzeń,\n",
    "- tekstu,\n",
    "- obrazów,\n",
    "- filmów.\n",
    "-\n",
    " Internet rzeczy (IoT, ang. Internet of Things) wyrzuca potoki informacji. Większość tych danych jest nieuporządkowana: **obrazy** są zbiorem pikseli, a każdy piksel zawiera informacje o kanałach RGB (ang. R(ed) — czerwony, G(reen) — zielony, B(lue) — niebieski).\n",
    "         -\n",
    "  **Tekst** jest sekwencją słów i znaków, zazwyczaj uporządkowanych w rozdziały, podrozdziały itd. Z kolei **clickstreams** są sekwencjami przechodzenia przez kolejne elementy aplikacji lub podstrony strony internetowej.\n",
    "\n",
    "Tak naprawdę największym wyzwaniem data science jest **przekształcenie** wciąż spływającego **natłoku danych w użyteczne informacje**. Aby zagadnienia statystyczne, które podczas zajęć poruszymy, mogły zostać zastosowane w praktyce, **nieuporządkowane** dane muszą być przekształcone na **uporządkowane**.\n",
    "\n",
    "Jedną z najczęściej występujących form **danych uporządkowanych** jest **tabela** zawierająca rzędy i kolumny — tak jakby dane pochodziły z relacyjnej bazy danych lub były zbierane w celach badawczych."
   ],
   "metadata": {}
  },
  {
   "metadata": {
    "collapsed": false,
    "pycharm": {
     "name": "#%% md\n"
    }
   },
   "cell_type": "markdown",
   "source": [
    "\n",
    "Istnieją dwa podstawowe typy danych **uporządkowanych**:\n",
    "- **numeryczne** i\n",
    "- **skategoryzowane**.\n",
    "\n",
    "**Dane numeryczne** występują w dwóch formach:\n",
    "- **ciągłej**, np. prędkość wiatru, czas trwania, lub\n",
    "- **dyskretnej**, np. częstość występowania jakiegoś zjawiska.\n",
    "\n",
    "**Dane skategoryzowane** (ang. categorical data) przyjmują jedynie określone zbiory wartości, np. typy ekranów telewizorów (plazmowy, LCD, LED itp.) lub nazwy stanów (Alabama, Alaska itd.).\n",
    "\n",
    "**Dane binarne** (ang. binary data) są ważnym, szczególnym przypadkiem danych skategoryzowanych, w którym występują jedynie dwie wartości, tj. 0/1 lub prawda/fałsz.\n",
    "\n",
    "Innym użytecznym rodzajem danych skategoryzowanych są **dane porządkowe** (ang. ordinal data), w których kategorie są uporządkowane; przykładem jest ocenianie na podstawie ocen (1, 2, 3, 4 lub 5).\n",
    "\n",
    "Dlaczego w ogóle przejmujemy się nazewnictwem typów danych? Okazuje się, że w przypadku analizy danych i modelowania predykcyjnego typy danych są istotne dla określenia sposobu ich wizualizacji, analizy i doboru modelu statystycznego. W świecie data science oprogramowanie, jak R lub Python, wykorzystuje te typy do poprawy wydajności obliczeń. Co ważniejsze, określenie typu danych dla zmiennej warunkuje sposób, w jaki oprogramowanie będzie przetwarzać tę zmienną.\n",
    "\n"
   ]
  },
  {
   "cell_type": "markdown",
   "source": [
    "## Dane tabelaryczne\n",
    "\n",
    "Typowym przykładem analizy w data science są dane stabelaryzowane (ang. rectangular data), takie jak arkusz kalkulacyjny lub tabela bazy danych.\n",
    "\n",
    "Dane stabelaryzowane to w gruncie rzeczy dwuwymiarowa macierz, w której wiersze reprezentują rekordy (przypadki), a kolumny określają cechy (zmienne); w R i Pythonie występuje szczególny format, zwany ramką danych (ang. data frame). Dane nie zawsze od razu wstępują w tej formie: dane nieuporządkowane (np. tekst) muszą być przetworzone w taki sposób, by reprezentowały zestaw cech danych stabelaryzowanych. Do zastosowań w większości typów analiz i modelowania dane z relacyjnych baz danych muszą przyjąć formę jednej tabeli.\n",
    "\n",
    "## Kluczowe pojęcia związane z typami danych\n",
    "- **ramka danych**: dane stabelaryzowane (jak arkusz kalkulacyjny) są podstawową strukturą w statystyce i modelach uczenia maszynowego\n",
    "- **cecha**: kolumna w tabeli jest najczęściej nazywana cechą. Synonimy: atrybut, wejście, predyktor, zmienna.\n",
    "- **wynik**: wiele projektów w data science służy do przewidzenia wyniku — zazwyczaj w postaci tak/nie. Cechy są czasem wykorzystywane do przewidzenia wyniku w badaniach eksperymentalnych. Synonimy: zmienna zależna, odpowiedź, cel, wyjście.\n",
    "- **rekord**: wiersz w tabeli jest najczęściej nazywany rekordem. Synonimy: przypadek, przykład, instancja, obserwacja, wzorzec, próbka, obiekt.\n"
   ],
   "metadata": {
    "collapsed": false,
    "pycharm": {
     "name": "#%% md\n"
    }
   }
  },
  {
   "metadata": {},
   "cell_type": "markdown",
   "source": [
    "\n",
    "## Standardowy proces analizy danych\n",
    "\n",
    "Proces analizy danych polega na badaniu danych, uzyskiwaniu na ich podstawie spostrzeżeń i wyciąganiu z nich wniosków. Głównym celem tego procesu jest **zbieranie, filtrowanie, oczyszczanie, przekształcanie, przeglądanie, opisywanie i wizualizowanie danych** oraz przekazywanie tych spostrzeżeń w celu odkrywania informacji pomagających w podejmowaniu\n",
    "decyzji. Zasadniczo proces analizowania danych składa się z następujących etapów:\n",
    "\n",
    "1. **Zbieranie danych** – pozyskiwanie danych z różnych źródeł.\n",
    "2. **Wstępne przetwarzanie** – filtrowanie, oczyszczanie i przekształcanie danych.\n",
    "3. **Analizowanie danych** – opisywanie, wizualizacja i wyszukiwanie spostrzeżeń.\n",
    "4. **Interpretowanie wyników** – określanie wpływu zmiennych na dany system.\n",
    "5. **Prezentacja wyników** – storytelling, czyli przekształcanie wyników w zrozumiałą historię."
   ]
  },
  {
   "metadata": {},
   "cell_type": "markdown",
   "source": [
    "\n",
    "## Proces KDD (Knowledge Discovery from Data)\n",
    "\n",
    "KDD - knowledge discovery from data, czyli „odkrywanie wiedzy z danych” lub Knowledge Discovery in Databases („odkrywanie wiedzy w bazach danych”). Dla wielu\n",
    "osób proces KDD jest synonimem wydobywania danych (ang. data mining). Wydobywaniem\n",
    "danych nazywamy proces odkrywania wiedzy z interesujących wzorów danych. Głównym celem procesu KDD jest wydobywanie lub odkrywanie ukrytych, interesujących wzorów z dużych baz danych, hurtowni danych oraz innych repozytoriów informacji.\n",
    "\n",
    "Proces KDD składa się z siedmiu głównych etapów:\n",
    "1. **Oczyszczanie danych** – usuwanie błędów, brakujących wartości, anomalii.\n",
    "2. **Integrację danych** – łączenie danych z różnych źródeł.\n",
    "3. **Dobór danych** – wybór istotnych informacji.\n",
    "4. **Przekształcanie danych** – przygotowanie danych do analizy.\n",
    "5. **Wydobywanie danych** – stosowanie technik eksploracji danych (data mining).\n",
    "6. **Ocena wzorców** – analiza odkrytych wzorców.\n",
    "7. **Prezentacja wyników** – wizualizacja i interpretacja danych.\n",
    "\n",
    "KDD jest procesem iteracyjnym służącym poprawie jakości danych, a także ich integracji i przekształcaniu w celu usprawnienia systemu."
   ]
  },
  {
   "metadata": {},
   "cell_type": "markdown",
   "source": [
    "\n",
    "\n",
    "## Proces SEMMA\n",
    "\n",
    "Skrót SEMMA rozwijamy jako Sample, Explore, Modify, Model, Assess (czyli „próbkuj, eksploruj, modyfikuj, modeluj, oceniaj”). Ten sekwencyjny proces wydobywania danych został opracowany przez instytut SAS.\n",
    "\n",
    "Jest on pięcioetapowy:\n",
    "- **Sample (Próbkuj)** – wybór odpowiedniej próbki danych.\n",
    "- **Explore (Eksploruj)** – analiza i wizualizacja danych.\n",
    "- **Modify (Modyfikuj)** – oczyszczanie i przekształcanie danych.\n",
    "- **Model (Modeluj)** – tworzenie modeli analitycznych.\n",
    "- **Assess (Oceniaj)** – testowanie i ocena modeli predykcyjnych.\n",
    "\n",
    "Kluczowymi etapami są tutaj tworzenie modelu i jego ocena."
   ]
  },
  {
   "metadata": {},
   "cell_type": "markdown",
   "source": [
    "\n",
    "## Proces CRISP-DM\n",
    "\n",
    "Skrót CRISP-DM rozwijamy jako CRoss-InduStry Process for Data Mining (czyli „międzybranżowy proces wydobywania danych”). Jest to precyzyjnie zdefiniowany, ustrukturyzowany i skuteczny proces stosowany w projektach uczenia maszynowego, wydobywania danych i analizy biznesowej. Stanowi on solidną, elastyczną, cykliczną, przydatną i praktyczną metodologię rozwiązywania problemów biznesowych. Proces ten odkrywa niewidoczne, a przydatne informacje lub wzory z kilku baz danych.\n",
    "\n",
    "Na CRISP-DM składa się sześć głównych etapów:\n",
    "1. **Zrozumienie potrzeb biznesowych** – definiowanie problemu.\n",
    "2. **Zrozumienie danych** – analiza jakości i struktury danych.\n",
    "3. **Przygotowanie danych** – normalizacja, inżynieria cech.\n",
    "4. **Modelowanie** – wybór technik analizy.\n",
    "5. **Ocena modeli** – testowanie skuteczności.\n",
    "6. **Wdrożenie** – implementacja w systemach produkcyjnych.\n",
    "\n",
    "![alt text](crisp.png \"Title\")\n",
    "\n",
    "\n",
    "Standardowy proces kładzie nacisk na odkrywanie spostrzeżeń i przygotowywanie ich interpretacji w formie historyjek, natomiast proces KDD koncentruje się na odkrywaniu wzorów danych i ich wizualizowaniu. W procesie **SEMMA** skupiamy się na zadaniach tworzenia modelu, natomiast w procesie **CRISP-DM** najważniejsze są zrozumienie potrzeb biznesowych oraz wdrażanie."
   ]
  },
  {
   "metadata": {},
   "cell_type": "markdown",
   "source": [
    "\n",
    "## Analiza danych vs Data Science\n",
    "\n",
    "**Analiza danych** (ang. data analysis) jest procesem poznawania danych w celu odkrycia wzorów pomagających w podejmowaniu decyzji biznesowych. Stanowi ona jedną z dziedzin **danetyki** (ang. data science).\n",
    "\n",
    "Metody i narzędzia **analizy danych** są powszechnie stosowane w różnych kategoriach biznesowych przez analityków biznesowych, analityków danych i badaczy. Jej głównym celem jest zwiększanie produktywności i zysków.\n",
    "\n",
    "**Analityk danych:**\n",
    "- wydobywa i sprawdza dane z różnych źródeł,\n",
    "- realizuje eksploracyjną analizę danych,\n",
    "- wizualizuje dane,\n",
    "- przygotowuje raporty i prezentuje je kadrom kierowniczym.\n",
    "\n",
    "Z kolei **danetyka** stanowi interdyscyplinarną dziedzinę wykorzystującą **metody naukowe** do wydobywania spostrzeżeń z danych ustrukturyzowanych i nieustrukturyzowanych. Składa się na nią wiele dziedzin, takich jak analiza danych, wydobywanie danych, uczenie maszynowe itp.\n",
    "\n",
    "**Danetyka** nie ogranicza się jedynie do eksploracyjnej analizy danych i jest stosowana w tworzeniu modeli i algorytmów predykcyjnych w takich kategoriach jak prognozy cen akcji, pogody, epidemii czy oszustw, a także rekomendacje filmów, książek czy muzyki.\n",
    "\n",
    "\n",
    "\n",
    "Role analityka danych i danetyka\n",
    "Analityk danych zbiera, filtruje, przetwarza i wykorzystuje wymagane pojęcia statystyczne do wyłapywania wzorów, trendów i spostrzeżeń z danych, a także przygotowuje raporty przeznaczone dla decydentów. Głównym zadaniem analityka danych jest pomaganie firmom w rozwiązywaniu problemów biznesowych za pomocą odkrytych wzorów i trendów. Analityk danych ocenia także jakość danych i rozwiązuje problemy związane z ich pozyskiwaniem. Osoba taka powinna być biegła w tworzeniu kwerend SQL-a, wyszukiwaniu wzorów, korzystaniu z narzędzi wizualizacji, a także stosowaniu narzędzi raportujących, takich jak Microsoft Power\n",
    "BI, IBM Cognos, Tableau, QlikView, Oracle BI itd.\n",
    "\n",
    "Danetycy są bardziej zorientowani matematycznie i technicznie od analityków danych. Są raczej nastawieni na kwestie badawcze i akademickie, natomiast analitycy danych są ukierunkowani użytkowo. Po danetyku oczekuje się, że będzie przewidywał przyszłe zdarzenia, z kolei analityk danych ma wydobywać przydatne spostrzeżenia z danych. Danetycy sami określają pytania, na jakie chcą odpowiedzieć, podczas gdy analitycy znajdują odpowiedzi na zadane pytania. Ostatnia różnica jest taka, że danetycy koncentrują się na tym, co się wydarzy, a analitycy danych skupiają się na tym, co już się wydarzyło.\n",
    "\n",
    "| Cecha | Data Scientist | Analityk Danych |\n",
    "|---|---|---|\n",
    "| Zadanie | Przewidywanie przyszłych zdarzeń | Odkrywanie trendów |\n",
    "| Typ danych | Ustrukturyzowane i nieustrukturyzowane | Ustrukturyzowane |\n",
    "| Programowanie | Zaawansowane (Python, R) | Podstawowe (SQL, Excel) |\n",
    "| Narzędzia | TensorFlow, Keras, Hadoop | Tableau, Power BI |\n",
    "\n",
    "### Umiejętności analityka danych oraz danetyka\n",
    "Analityk danych odkrywa spostrzeżenia w danych i tworzy z nich wartość. Dzięki temu osoby podejmujące decyzje poznają stan firmy. Analityk danych musi posiadać następujące umiejętności:\n",
    "- Eksploracyjna analiza danych (ang. Exploratory Data Analysis — EDA). EDA jest kluczową umiejętnością analityka danych. Pomaga ona podczas wyszukiwania wzorów w danych, testowania hipotez i potwierdzania założeń\n",
    "- Relacyjne bazy danych — obowiązkowa jest znajomość przynajmniej jednego narzędzia relacyjnych baz danych, takiego jak MySQL czy Postgre. Niezbędna jest znajomość języka SQL podczas pracy na relacyjnych bazach danych.\n",
    "- Narzędzia wizualizacji i analityki biznesowej — obraz mówi więcej niż tysiąc słów. Obrazy mają olbrzymi wpływ na ludzi i za ich pomocą można łatwo oraz precyzyjnie przekazywać spostrzeżenia. Takie narzędzia jak Tableau, QlikView,MS Power BI czy IBM Cognos pomagają analitykom wizualizować dane i przygotowywać raporty.\n",
    " - Umiejętność opowiadania historyjek i przygotowywania prezentacji — sztuka\n",
    "opowiadania historyjek jest kolejną obowiązkową umiejętnością. Analityk danych powinien potrafić po mistrzowsku łączyć fakty z ideą lub zdarzeniem i przekształcać je w historyjki.\n",
    "\n",
    "Z kolei głównym zadaniem danetyka jest rozwiązywanie problemów za pomocą danych.\n",
    "W tym celu musi on znać potrzeby klienta, badany obszar, przestrzeń problemów i upewnić się, że klient otrzyma dokładnie to, czego rzeczywiście potrzebuje. Zadania realizowane przez danetyka różnią się w poszczególnych firmach. W niektórych firmach przydaje się analityk danych, a stanowisko danetyka jest tworzone jedynie na pokaz. Pewne firmy pod nazwą tego stanowiska łączą zadania analityka danych z zadaniami inżyniera danych; w innych natomiast przydzielają osoby na tym stanowisku do zadań uczenia maszynowego i wizualizacji danych.\n",
    "Zadania danetyka różnią się pomiędzy firmami. Niektóre przedsiębiorstwa zatrudniają dane tyków jako sławnych analityków danych i łączą ich obowiązki z obowiązkami inżynierów danych. W innych firmach zajmują się oni skomplikowanymi wizualizacjami danych.\n",
    "\n",
    "Danetyk musi być złotą rączką i umieć dopasowywać się do różnych ról, również analityka danych, statystyka, matematyka, programisty, inżyniera uczenia maszynowego lub przetwarzania języka naturalnego. Niewiele jest osób, które są ekspertami lub mają wystarczające umiejętności w każdej z tych ról. Poza tym wyrobienie umiejętności na wystarczającym poziomie wymaga mnóstwa wysiłku i cierpliwości. Z tego właśnie powodu nie można zostać danetykiem w trzy miesiące czy pół roku.\n",
    "\n",
    "Danetyk musi posiadać wszechstronny szereg umiejętności, w tym takie jak:\n",
    "- Matematyka i statystyka — większość algorytmów uczenia maszynowego ma podstawy w matematyce i statystyce. Znajomość matematyki pomaga danetykom tworzyć nieszablonowe rozwiązania.\n",
    "- Bazy danych — znajomość języka SQL pozwala danetykom oddziaływać z bazami danych i gromadzić dane używane w predykcji i rekomendacjach.\n",
    "- Uczenie maszynowe — znajomość technik nadzorowanego uczenia maszynowego, takich jak analiza regresyjna, techniki klasyfikacji, a także technik nienadzorowanego uczenia maszynowego, np.: analiza skupień, wykrywanie elementów odstających\n",
    "czy redukcja wymiarowości.\n",
    "- Umiejętności programistyczne — umiejętność programowania pomaga danetykom w automatyzacji sugerowanych rozwiązań. Zalecana jest znajomość języków Python i R.\n",
    " - Umiejętność opowiadania historyjek i przygotowywania prezentacji -przekazywanie wyników w postaci historyjek za pomocą prezentacji.\n",
    "  - Technologia danych wielkoskalowych (ang. Big Data) — znajomość platform danych wielkoskalowych, takich jak Hadoop czy Spark, pomaga danetykom projektować rozwiązania dla bardzo dużych firm\n",
    "  -Narzędzia uczenia głębokiego — narzędzia uczenia głębokiego, takie jak biblioteki TensorFlow czy Keras, stosowane są w zadaniach przetwarzania języka naturalnego i przetwarzania obrazów.\n",
    "\n",
    "Oprócz tych umiejętności przydatna jest także znajomość pakietów/narzędzi do ekstrakcji danych z różnych źródeł internetowych, a także struktur aplikacji sieciowych, takich jak Flask czy Django, do projektowania prototypowych rozwiązań. Umiejętności te cechują najlepszych danetyków.\n",
    "\n",
    "## Podsumowanie\n",
    "\n",
    "Analiza danych obejmuje eksplorację, modelowanie i interpretację informacji, co jest kluczowe w podejmowaniu decyzji biznesowych.\n",
    "Procesy takie jak KDD, SEMMA i CRISP-DM pozwalają uporządkować pracę z danymi.\n",
    "\n",
    "\n"
   ]
  },
  {
   "metadata": {
    "ExecuteTime": {
     "end_time": "2025-02-25T17:32:00.643436Z",
     "start_time": "2025-02-25T17:32:00.640499Z"
    }
   },
   "cell_type": "code",
   "source": "",
   "outputs": [],
   "execution_count": null
  },
  {
   "metadata": {
    "ExecuteTime": {
     "end_time": "2025-02-25T17:32:01.318974Z",
     "start_time": "2025-02-25T17:32:01.317375Z"
    }
   },
   "cell_type": "code",
   "source": "",
   "outputs": [],
   "execution_count": null
  },
  {
   "metadata": {},
   "cell_type": "code",
   "outputs": [],
   "execution_count": null,
   "source": ""
  }
 ],
 "metadata": {
  "kernelspec": {
   "display_name": "Python 3",
   "language": "python",
   "name": "python3"
  },
  "language_info": {
   "codemirror_mode": {
    "name": "ipython",
    "version": 2
   },
   "file_extension": ".py",
   "mimetype": "text/x-python",
   "name": "python",
   "nbconvert_exporter": "python",
   "pygments_lexer": "ipython2",
   "version": "2.7.6"
  }
 },
 "nbformat": 4,
 "nbformat_minor": 0
}
