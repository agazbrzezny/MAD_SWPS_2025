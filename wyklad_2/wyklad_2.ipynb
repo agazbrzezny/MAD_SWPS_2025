{
 "nbformat": 4,
 "nbformat_minor": 0,
 "metadata": {
  "colab": {
   "name": "lab_7.ipynb",
   "provenance": [],
   "collapsed_sections": []
  },
  "kernelspec": {
   "name": "python3",
   "language": "python",
   "display_name": "Python 3 (ipykernel)"
  },
  "language_info": {
   "name": "python"
  }
 },
 "cells": [
  {
   "cell_type": "markdown",
   "metadata": {
    "id": "-4Nx2g2vr42D"
   },
   "source": [
    "# Lab 2 - biblioteka pandas: przetwarzanie danych\n",
    "*(na podstawie zadań dra inż. Tomasza Krzywickiego)\n",
    "\n",
    "Pandas jest biblioteką języka Python umożliwiającą przetwarzanie i wizualizację danych. Dzięki wygodnemu i przejrzystemu interfejsowi, jest jednym z najczęściej wykorzystywanych rozwiązań w analizie danych. \n",
    "\n",
    "## Instalacja\n",
    "\n",
    "W celu instalacji biblioteki pandas należy użyć polecenia **pip install pandas**.\n",
    "\n",
    "## Pierwsze kroki z biblioteką Pandas\n",
    "\n",
    "Biblioteka pandas jest narzędziem zewnętrznym, więc w pierwszej kolejności należy ją zaimportować:"
   ]
  },
  {
   "cell_type": "code",
   "metadata": {
    "id": "cca7U7S4r1XR",
    "ExecuteTime": {
     "end_time": "2024-01-21T14:02:29.698422Z",
     "start_time": "2024-01-21T14:02:29.290525Z"
    }
   },
   "source": [
    "import pandas as pd  "
   ],
   "execution_count": 1,
   "outputs": [
    {
     "name": "stderr",
     "output_type": "stream",
     "text": [
      "/var/folders/y8/mwnkg67s66bf_qqx7zbfr_zc0000gn/T/ipykernel_13714/3483695352.py:1: DeprecationWarning: \n",
      "Pyarrow will become a required dependency of pandas in the next major release of pandas (pandas 3.0),\n",
      "(to allow more performant data types, such as the Arrow string type, and better interoperability with other libraries)\n",
      "but was not found to be installed on your system.\n",
      "If this would cause problems for you,\n",
      "please provide us feedback at https://github.com/pandas-dev/pandas/issues/54466\n",
      "        \n",
      "  import pandas as pd\n"
     ]
    }
   ]
  },
  {
   "cell_type": "markdown",
   "metadata": {
    "id": "_8WFvXfntpnY"
   },
   "source": [
    "### Wczytywanie danych\n",
    "\n",
    "Dane w celu ich przeanalizowania powinny zostać wczytane z dowolnego zewnętrznego źródła. Jednym z najpopularniejszych formatów transferu ustraukturyzowanych danych są pliki csv. Można je wczytać za pomocą funkcji read_csv z pakietu pandas."
   ]
  },
  {
   "cell_type": "code",
   "metadata": {
    "id": "Dnn-pqPltMLw",
    "ExecuteTime": {
     "end_time": "2024-01-21T14:02:29.744447Z",
     "start_time": "2024-01-21T14:02:29.697522Z"
    }
   },
   "source": [
    "movie: pd.DataFrame = pd.read_csv('../data/movie.csv')  "
   ],
   "execution_count": 2,
   "outputs": []
  },
  {
   "cell_type": "markdown",
   "metadata": {
    "id": "XOsK4uE6utjr"
   },
   "source": [
    "Dane z pliku csv zostały wczytane do obiektu klasy DataFrame, czyli ramki danych w formie tabeli. Wczytane dane można wyświetlić w łatwy sposób, przy użyciu notatnika Jupyter:"
   ]
  },
  {
   "cell_type": "code",
   "metadata": {
    "colab": {
     "base_uri": "https://localhost:8080/",
     "height": 660
    },
    "id": "Dfd068HpuheH",
    "executionInfo": {
     "status": "ok",
     "timestamp": 1618402196747,
     "user_tz": -120,
     "elapsed": 1608,
     "user": {
      "displayName": "Tomasz",
      "photoUrl": "",
      "userId": "05358483110003930735"
     }
    },
    "outputId": "df8d43e8-3a06-4eef-ee87-ae34c2fc8151",
    "ExecuteTime": {
     "end_time": "2024-01-21T14:02:30.164479Z",
     "start_time": "2024-01-21T14:02:30.125963Z"
    }
   },
   "source": [
    "movie  "
   ],
   "execution_count": 3,
   "outputs": [
    {
     "data": {
      "text/plain": "      color      director_name  num_critic_for_reviews  duration  \\\n0     Color      James Cameron                   723.0     178.0   \n1     Color     Gore Verbinski                   302.0     169.0   \n2     Color         Sam Mendes                   602.0     148.0   \n3     Color  Christopher Nolan                   813.0     164.0   \n4       NaN        Doug Walker                     NaN       NaN   \n...     ...                ...                     ...       ...   \n4911  Color        Scott Smith                     1.0      87.0   \n4912  Color                NaN                    43.0      43.0   \n4913  Color   Benjamin Roberds                    13.0      76.0   \n4914  Color        Daniel Hsia                    14.0     100.0   \n4915  Color           Jon Gunn                    43.0      90.0   \n\n      director_facebook_likes  actor_3_facebook_likes      actor_2_name  \\\n0                         0.0                   855.0  Joel David Moore   \n1                       563.0                  1000.0     Orlando Bloom   \n2                         0.0                   161.0      Rory Kinnear   \n3                     22000.0                 23000.0    Christian Bale   \n4                       131.0                     NaN        Rob Walker   \n...                       ...                     ...               ...   \n4911                      2.0                   318.0     Daphne Zuniga   \n4912                      NaN                   319.0     Valorie Curry   \n4913                      0.0                     0.0     Maxwell Moody   \n4914                      0.0                   489.0     Daniel Henney   \n4915                     16.0                    16.0  Brian Herzlinger   \n\n      actor_1_facebook_likes        gross                           genres  \\\n0                     1000.0  760505847.0  Action|Adventure|Fantasy|Sci-Fi   \n1                    40000.0  309404152.0         Action|Adventure|Fantasy   \n2                    11000.0  200074175.0        Action|Adventure|Thriller   \n3                    27000.0  448130642.0                  Action|Thriller   \n4                      131.0          NaN                      Documentary   \n...                      ...          ...                              ...   \n4911                   637.0          NaN                     Comedy|Drama   \n4912                   841.0          NaN     Crime|Drama|Mystery|Thriller   \n4913                     0.0          NaN            Drama|Horror|Thriller   \n4914                   946.0      10443.0             Comedy|Drama|Romance   \n4915                    86.0      85222.0                      Documentary   \n\n      ... num_user_for_reviews language  country  content_rating       budget  \\\n0     ...               3054.0  English      USA           PG-13  237000000.0   \n1     ...               1238.0  English      USA           PG-13  300000000.0   \n2     ...                994.0  English       UK           PG-13  245000000.0   \n3     ...               2701.0  English      USA           PG-13  250000000.0   \n4     ...                  NaN      NaN      NaN             NaN          NaN   \n...   ...                  ...      ...      ...             ...          ...   \n4911  ...                  6.0  English   Canada             NaN          NaN   \n4912  ...                359.0  English      USA           TV-14          NaN   \n4913  ...                  3.0  English      USA             NaN       1400.0   \n4914  ...                  9.0  English      USA           PG-13          NaN   \n4915  ...                 84.0  English      USA              PG       1100.0   \n\n      title_year actor_2_facebook_likes imdb_score  aspect_ratio  \\\n0         2009.0                  936.0        7.9          1.78   \n1         2007.0                 5000.0        7.1          2.35   \n2         2015.0                  393.0        6.8          2.35   \n3         2012.0                23000.0        8.5          2.35   \n4            NaN                   12.0        7.1           NaN   \n...          ...                    ...        ...           ...   \n4911      2013.0                  470.0        7.7           NaN   \n4912         NaN                  593.0        7.5         16.00   \n4913      2013.0                    0.0        6.3           NaN   \n4914      2012.0                  719.0        6.3          2.35   \n4915      2004.0                   23.0        6.6          1.85   \n\n     movie_facebook_likes  \n0                   33000  \n1                       0  \n2                   85000  \n3                  164000  \n4                       0  \n...                   ...  \n4911                   84  \n4912                32000  \n4913                   16  \n4914                  660  \n4915                  456  \n\n[4916 rows x 28 columns]",
      "text/html": "<div>\n<style scoped>\n    .dataframe tbody tr th:only-of-type {\n        vertical-align: middle;\n    }\n\n    .dataframe tbody tr th {\n        vertical-align: top;\n    }\n\n    .dataframe thead th {\n        text-align: right;\n    }\n</style>\n<table border=\"1\" class=\"dataframe\">\n  <thead>\n    <tr style=\"text-align: right;\">\n      <th></th>\n      <th>color</th>\n      <th>director_name</th>\n      <th>num_critic_for_reviews</th>\n      <th>duration</th>\n      <th>director_facebook_likes</th>\n      <th>actor_3_facebook_likes</th>\n      <th>actor_2_name</th>\n      <th>actor_1_facebook_likes</th>\n      <th>gross</th>\n      <th>genres</th>\n      <th>...</th>\n      <th>num_user_for_reviews</th>\n      <th>language</th>\n      <th>country</th>\n      <th>content_rating</th>\n      <th>budget</th>\n      <th>title_year</th>\n      <th>actor_2_facebook_likes</th>\n      <th>imdb_score</th>\n      <th>aspect_ratio</th>\n      <th>movie_facebook_likes</th>\n    </tr>\n  </thead>\n  <tbody>\n    <tr>\n      <th>0</th>\n      <td>Color</td>\n      <td>James Cameron</td>\n      <td>723.0</td>\n      <td>178.0</td>\n      <td>0.0</td>\n      <td>855.0</td>\n      <td>Joel David Moore</td>\n      <td>1000.0</td>\n      <td>760505847.0</td>\n      <td>Action|Adventure|Fantasy|Sci-Fi</td>\n      <td>...</td>\n      <td>3054.0</td>\n      <td>English</td>\n      <td>USA</td>\n      <td>PG-13</td>\n      <td>237000000.0</td>\n      <td>2009.0</td>\n      <td>936.0</td>\n      <td>7.9</td>\n      <td>1.78</td>\n      <td>33000</td>\n    </tr>\n    <tr>\n      <th>1</th>\n      <td>Color</td>\n      <td>Gore Verbinski</td>\n      <td>302.0</td>\n      <td>169.0</td>\n      <td>563.0</td>\n      <td>1000.0</td>\n      <td>Orlando Bloom</td>\n      <td>40000.0</td>\n      <td>309404152.0</td>\n      <td>Action|Adventure|Fantasy</td>\n      <td>...</td>\n      <td>1238.0</td>\n      <td>English</td>\n      <td>USA</td>\n      <td>PG-13</td>\n      <td>300000000.0</td>\n      <td>2007.0</td>\n      <td>5000.0</td>\n      <td>7.1</td>\n      <td>2.35</td>\n      <td>0</td>\n    </tr>\n    <tr>\n      <th>2</th>\n      <td>Color</td>\n      <td>Sam Mendes</td>\n      <td>602.0</td>\n      <td>148.0</td>\n      <td>0.0</td>\n      <td>161.0</td>\n      <td>Rory Kinnear</td>\n      <td>11000.0</td>\n      <td>200074175.0</td>\n      <td>Action|Adventure|Thriller</td>\n      <td>...</td>\n      <td>994.0</td>\n      <td>English</td>\n      <td>UK</td>\n      <td>PG-13</td>\n      <td>245000000.0</td>\n      <td>2015.0</td>\n      <td>393.0</td>\n      <td>6.8</td>\n      <td>2.35</td>\n      <td>85000</td>\n    </tr>\n    <tr>\n      <th>3</th>\n      <td>Color</td>\n      <td>Christopher Nolan</td>\n      <td>813.0</td>\n      <td>164.0</td>\n      <td>22000.0</td>\n      <td>23000.0</td>\n      <td>Christian Bale</td>\n      <td>27000.0</td>\n      <td>448130642.0</td>\n      <td>Action|Thriller</td>\n      <td>...</td>\n      <td>2701.0</td>\n      <td>English</td>\n      <td>USA</td>\n      <td>PG-13</td>\n      <td>250000000.0</td>\n      <td>2012.0</td>\n      <td>23000.0</td>\n      <td>8.5</td>\n      <td>2.35</td>\n      <td>164000</td>\n    </tr>\n    <tr>\n      <th>4</th>\n      <td>NaN</td>\n      <td>Doug Walker</td>\n      <td>NaN</td>\n      <td>NaN</td>\n      <td>131.0</td>\n      <td>NaN</td>\n      <td>Rob Walker</td>\n      <td>131.0</td>\n      <td>NaN</td>\n      <td>Documentary</td>\n      <td>...</td>\n      <td>NaN</td>\n      <td>NaN</td>\n      <td>NaN</td>\n      <td>NaN</td>\n      <td>NaN</td>\n      <td>NaN</td>\n      <td>12.0</td>\n      <td>7.1</td>\n      <td>NaN</td>\n      <td>0</td>\n    </tr>\n    <tr>\n      <th>...</th>\n      <td>...</td>\n      <td>...</td>\n      <td>...</td>\n      <td>...</td>\n      <td>...</td>\n      <td>...</td>\n      <td>...</td>\n      <td>...</td>\n      <td>...</td>\n      <td>...</td>\n      <td>...</td>\n      <td>...</td>\n      <td>...</td>\n      <td>...</td>\n      <td>...</td>\n      <td>...</td>\n      <td>...</td>\n      <td>...</td>\n      <td>...</td>\n      <td>...</td>\n      <td>...</td>\n    </tr>\n    <tr>\n      <th>4911</th>\n      <td>Color</td>\n      <td>Scott Smith</td>\n      <td>1.0</td>\n      <td>87.0</td>\n      <td>2.0</td>\n      <td>318.0</td>\n      <td>Daphne Zuniga</td>\n      <td>637.0</td>\n      <td>NaN</td>\n      <td>Comedy|Drama</td>\n      <td>...</td>\n      <td>6.0</td>\n      <td>English</td>\n      <td>Canada</td>\n      <td>NaN</td>\n      <td>NaN</td>\n      <td>2013.0</td>\n      <td>470.0</td>\n      <td>7.7</td>\n      <td>NaN</td>\n      <td>84</td>\n    </tr>\n    <tr>\n      <th>4912</th>\n      <td>Color</td>\n      <td>NaN</td>\n      <td>43.0</td>\n      <td>43.0</td>\n      <td>NaN</td>\n      <td>319.0</td>\n      <td>Valorie Curry</td>\n      <td>841.0</td>\n      <td>NaN</td>\n      <td>Crime|Drama|Mystery|Thriller</td>\n      <td>...</td>\n      <td>359.0</td>\n      <td>English</td>\n      <td>USA</td>\n      <td>TV-14</td>\n      <td>NaN</td>\n      <td>NaN</td>\n      <td>593.0</td>\n      <td>7.5</td>\n      <td>16.00</td>\n      <td>32000</td>\n    </tr>\n    <tr>\n      <th>4913</th>\n      <td>Color</td>\n      <td>Benjamin Roberds</td>\n      <td>13.0</td>\n      <td>76.0</td>\n      <td>0.0</td>\n      <td>0.0</td>\n      <td>Maxwell Moody</td>\n      <td>0.0</td>\n      <td>NaN</td>\n      <td>Drama|Horror|Thriller</td>\n      <td>...</td>\n      <td>3.0</td>\n      <td>English</td>\n      <td>USA</td>\n      <td>NaN</td>\n      <td>1400.0</td>\n      <td>2013.0</td>\n      <td>0.0</td>\n      <td>6.3</td>\n      <td>NaN</td>\n      <td>16</td>\n    </tr>\n    <tr>\n      <th>4914</th>\n      <td>Color</td>\n      <td>Daniel Hsia</td>\n      <td>14.0</td>\n      <td>100.0</td>\n      <td>0.0</td>\n      <td>489.0</td>\n      <td>Daniel Henney</td>\n      <td>946.0</td>\n      <td>10443.0</td>\n      <td>Comedy|Drama|Romance</td>\n      <td>...</td>\n      <td>9.0</td>\n      <td>English</td>\n      <td>USA</td>\n      <td>PG-13</td>\n      <td>NaN</td>\n      <td>2012.0</td>\n      <td>719.0</td>\n      <td>6.3</td>\n      <td>2.35</td>\n      <td>660</td>\n    </tr>\n    <tr>\n      <th>4915</th>\n      <td>Color</td>\n      <td>Jon Gunn</td>\n      <td>43.0</td>\n      <td>90.0</td>\n      <td>16.0</td>\n      <td>16.0</td>\n      <td>Brian Herzlinger</td>\n      <td>86.0</td>\n      <td>85222.0</td>\n      <td>Documentary</td>\n      <td>...</td>\n      <td>84.0</td>\n      <td>English</td>\n      <td>USA</td>\n      <td>PG</td>\n      <td>1100.0</td>\n      <td>2004.0</td>\n      <td>23.0</td>\n      <td>6.6</td>\n      <td>1.85</td>\n      <td>456</td>\n    </tr>\n  </tbody>\n</table>\n<p>4916 rows × 28 columns</p>\n</div>"
     },
     "execution_count": 3,
     "metadata": {},
     "output_type": "execute_result"
    }
   ]
  },
  {
   "cell_type": "markdown",
   "metadata": {
    "id": "n1uqJ1_jvaUe"
   },
   "source": [
    "Ramka danych składa się z nazwanych kolumn oraz z indeksów wierszy w zakresie od 0 do 4915.\n",
    "\n",
    "W przypadku gdy ramka danych zawiera wiele wierszy, można wykorzystać metodę head wywołaną na obiekcie klasy DataFrame, która wyświetli tylko n pierwszych wierszy:"
   ]
  },
  {
   "cell_type": "code",
   "metadata": {
    "colab": {
     "base_uri": "https://localhost:8080/",
     "height": 230
    },
    "id": "4S-SXCKSvQw9",
    "executionInfo": {
     "status": "ok",
     "timestamp": 1618402196748,
     "user_tz": -120,
     "elapsed": 1606,
     "user": {
      "displayName": "Tomasz",
      "photoUrl": "",
      "userId": "05358483110003930735"
     }
    },
    "outputId": "0658a3f2-164e-4cae-b035-d8d49b39f56c",
    "ExecuteTime": {
     "end_time": "2024-01-21T14:02:32.391108Z",
     "start_time": "2024-01-21T14:02:32.380906Z"
    }
   },
   "source": [
    "movie.head(n=3)  "
   ],
   "execution_count": 4,
   "outputs": [
    {
     "data": {
      "text/plain": "   color   director_name  num_critic_for_reviews  duration  \\\n0  Color   James Cameron                   723.0     178.0   \n1  Color  Gore Verbinski                   302.0     169.0   \n2  Color      Sam Mendes                   602.0     148.0   \n\n   director_facebook_likes  actor_3_facebook_likes      actor_2_name  \\\n0                      0.0                   855.0  Joel David Moore   \n1                    563.0                  1000.0     Orlando Bloom   \n2                      0.0                   161.0      Rory Kinnear   \n\n   actor_1_facebook_likes        gross                           genres  ...  \\\n0                  1000.0  760505847.0  Action|Adventure|Fantasy|Sci-Fi  ...   \n1                 40000.0  309404152.0         Action|Adventure|Fantasy  ...   \n2                 11000.0  200074175.0        Action|Adventure|Thriller  ...   \n\n  num_user_for_reviews language  country  content_rating       budget  \\\n0               3054.0  English      USA           PG-13  237000000.0   \n1               1238.0  English      USA           PG-13  300000000.0   \n2                994.0  English       UK           PG-13  245000000.0   \n\n   title_year actor_2_facebook_likes imdb_score  aspect_ratio  \\\n0      2009.0                  936.0        7.9          1.78   \n1      2007.0                 5000.0        7.1          2.35   \n2      2015.0                  393.0        6.8          2.35   \n\n  movie_facebook_likes  \n0                33000  \n1                    0  \n2                85000  \n\n[3 rows x 28 columns]",
      "text/html": "<div>\n<style scoped>\n    .dataframe tbody tr th:only-of-type {\n        vertical-align: middle;\n    }\n\n    .dataframe tbody tr th {\n        vertical-align: top;\n    }\n\n    .dataframe thead th {\n        text-align: right;\n    }\n</style>\n<table border=\"1\" class=\"dataframe\">\n  <thead>\n    <tr style=\"text-align: right;\">\n      <th></th>\n      <th>color</th>\n      <th>director_name</th>\n      <th>num_critic_for_reviews</th>\n      <th>duration</th>\n      <th>director_facebook_likes</th>\n      <th>actor_3_facebook_likes</th>\n      <th>actor_2_name</th>\n      <th>actor_1_facebook_likes</th>\n      <th>gross</th>\n      <th>genres</th>\n      <th>...</th>\n      <th>num_user_for_reviews</th>\n      <th>language</th>\n      <th>country</th>\n      <th>content_rating</th>\n      <th>budget</th>\n      <th>title_year</th>\n      <th>actor_2_facebook_likes</th>\n      <th>imdb_score</th>\n      <th>aspect_ratio</th>\n      <th>movie_facebook_likes</th>\n    </tr>\n  </thead>\n  <tbody>\n    <tr>\n      <th>0</th>\n      <td>Color</td>\n      <td>James Cameron</td>\n      <td>723.0</td>\n      <td>178.0</td>\n      <td>0.0</td>\n      <td>855.0</td>\n      <td>Joel David Moore</td>\n      <td>1000.0</td>\n      <td>760505847.0</td>\n      <td>Action|Adventure|Fantasy|Sci-Fi</td>\n      <td>...</td>\n      <td>3054.0</td>\n      <td>English</td>\n      <td>USA</td>\n      <td>PG-13</td>\n      <td>237000000.0</td>\n      <td>2009.0</td>\n      <td>936.0</td>\n      <td>7.9</td>\n      <td>1.78</td>\n      <td>33000</td>\n    </tr>\n    <tr>\n      <th>1</th>\n      <td>Color</td>\n      <td>Gore Verbinski</td>\n      <td>302.0</td>\n      <td>169.0</td>\n      <td>563.0</td>\n      <td>1000.0</td>\n      <td>Orlando Bloom</td>\n      <td>40000.0</td>\n      <td>309404152.0</td>\n      <td>Action|Adventure|Fantasy</td>\n      <td>...</td>\n      <td>1238.0</td>\n      <td>English</td>\n      <td>USA</td>\n      <td>PG-13</td>\n      <td>300000000.0</td>\n      <td>2007.0</td>\n      <td>5000.0</td>\n      <td>7.1</td>\n      <td>2.35</td>\n      <td>0</td>\n    </tr>\n    <tr>\n      <th>2</th>\n      <td>Color</td>\n      <td>Sam Mendes</td>\n      <td>602.0</td>\n      <td>148.0</td>\n      <td>0.0</td>\n      <td>161.0</td>\n      <td>Rory Kinnear</td>\n      <td>11000.0</td>\n      <td>200074175.0</td>\n      <td>Action|Adventure|Thriller</td>\n      <td>...</td>\n      <td>994.0</td>\n      <td>English</td>\n      <td>UK</td>\n      <td>PG-13</td>\n      <td>245000000.0</td>\n      <td>2015.0</td>\n      <td>393.0</td>\n      <td>6.8</td>\n      <td>2.35</td>\n      <td>85000</td>\n    </tr>\n  </tbody>\n</table>\n<p>3 rows × 28 columns</p>\n</div>"
     },
     "execution_count": 4,
     "metadata": {},
     "output_type": "execute_result"
    }
   ]
  },
  {
   "cell_type": "markdown",
   "metadata": {
    "id": "DcHcpsgJv5wA"
   },
   "source": [
    "Analogicznie metoda tail wyświetli n ostatnich wierszy:"
   ]
  },
  {
   "cell_type": "code",
   "metadata": {
    "colab": {
     "base_uri": "https://localhost:8080/",
     "height": 278
    },
    "id": "TBRiWiglvuhc",
    "executionInfo": {
     "status": "ok",
     "timestamp": 1618402196749,
     "user_tz": -120,
     "elapsed": 1605,
     "user": {
      "displayName": "Tomasz",
      "photoUrl": "",
      "userId": "05358483110003930735"
     }
    },
    "outputId": "9be1ef0a-97ea-4b26-c52e-01db2d50a1c9",
    "ExecuteTime": {
     "end_time": "2024-01-21T14:02:45.518357Z",
     "start_time": "2024-01-21T14:02:45.507993Z"
    }
   },
   "source": [
    "movie.tail(n=4) "
   ],
   "execution_count": 5,
   "outputs": [
    {
     "data": {
      "text/plain": "      color     director_name  num_critic_for_reviews  duration  \\\n4912  Color               NaN                    43.0      43.0   \n4913  Color  Benjamin Roberds                    13.0      76.0   \n4914  Color       Daniel Hsia                    14.0     100.0   \n4915  Color          Jon Gunn                    43.0      90.0   \n\n      director_facebook_likes  actor_3_facebook_likes      actor_2_name  \\\n4912                      NaN                   319.0     Valorie Curry   \n4913                      0.0                     0.0     Maxwell Moody   \n4914                      0.0                   489.0     Daniel Henney   \n4915                     16.0                    16.0  Brian Herzlinger   \n\n      actor_1_facebook_likes    gross                        genres  ...  \\\n4912                   841.0      NaN  Crime|Drama|Mystery|Thriller  ...   \n4913                     0.0      NaN         Drama|Horror|Thriller  ...   \n4914                   946.0  10443.0          Comedy|Drama|Romance  ...   \n4915                    86.0  85222.0                   Documentary  ...   \n\n     num_user_for_reviews language  country  content_rating  budget  \\\n4912                359.0  English      USA           TV-14     NaN   \n4913                  3.0  English      USA             NaN  1400.0   \n4914                  9.0  English      USA           PG-13     NaN   \n4915                 84.0  English      USA              PG  1100.0   \n\n      title_year actor_2_facebook_likes imdb_score  aspect_ratio  \\\n4912         NaN                  593.0        7.5         16.00   \n4913      2013.0                    0.0        6.3           NaN   \n4914      2012.0                  719.0        6.3          2.35   \n4915      2004.0                   23.0        6.6          1.85   \n\n     movie_facebook_likes  \n4912                32000  \n4913                   16  \n4914                  660  \n4915                  456  \n\n[4 rows x 28 columns]",
      "text/html": "<div>\n<style scoped>\n    .dataframe tbody tr th:only-of-type {\n        vertical-align: middle;\n    }\n\n    .dataframe tbody tr th {\n        vertical-align: top;\n    }\n\n    .dataframe thead th {\n        text-align: right;\n    }\n</style>\n<table border=\"1\" class=\"dataframe\">\n  <thead>\n    <tr style=\"text-align: right;\">\n      <th></th>\n      <th>color</th>\n      <th>director_name</th>\n      <th>num_critic_for_reviews</th>\n      <th>duration</th>\n      <th>director_facebook_likes</th>\n      <th>actor_3_facebook_likes</th>\n      <th>actor_2_name</th>\n      <th>actor_1_facebook_likes</th>\n      <th>gross</th>\n      <th>genres</th>\n      <th>...</th>\n      <th>num_user_for_reviews</th>\n      <th>language</th>\n      <th>country</th>\n      <th>content_rating</th>\n      <th>budget</th>\n      <th>title_year</th>\n      <th>actor_2_facebook_likes</th>\n      <th>imdb_score</th>\n      <th>aspect_ratio</th>\n      <th>movie_facebook_likes</th>\n    </tr>\n  </thead>\n  <tbody>\n    <tr>\n      <th>4912</th>\n      <td>Color</td>\n      <td>NaN</td>\n      <td>43.0</td>\n      <td>43.0</td>\n      <td>NaN</td>\n      <td>319.0</td>\n      <td>Valorie Curry</td>\n      <td>841.0</td>\n      <td>NaN</td>\n      <td>Crime|Drama|Mystery|Thriller</td>\n      <td>...</td>\n      <td>359.0</td>\n      <td>English</td>\n      <td>USA</td>\n      <td>TV-14</td>\n      <td>NaN</td>\n      <td>NaN</td>\n      <td>593.0</td>\n      <td>7.5</td>\n      <td>16.00</td>\n      <td>32000</td>\n    </tr>\n    <tr>\n      <th>4913</th>\n      <td>Color</td>\n      <td>Benjamin Roberds</td>\n      <td>13.0</td>\n      <td>76.0</td>\n      <td>0.0</td>\n      <td>0.0</td>\n      <td>Maxwell Moody</td>\n      <td>0.0</td>\n      <td>NaN</td>\n      <td>Drama|Horror|Thriller</td>\n      <td>...</td>\n      <td>3.0</td>\n      <td>English</td>\n      <td>USA</td>\n      <td>NaN</td>\n      <td>1400.0</td>\n      <td>2013.0</td>\n      <td>0.0</td>\n      <td>6.3</td>\n      <td>NaN</td>\n      <td>16</td>\n    </tr>\n    <tr>\n      <th>4914</th>\n      <td>Color</td>\n      <td>Daniel Hsia</td>\n      <td>14.0</td>\n      <td>100.0</td>\n      <td>0.0</td>\n      <td>489.0</td>\n      <td>Daniel Henney</td>\n      <td>946.0</td>\n      <td>10443.0</td>\n      <td>Comedy|Drama|Romance</td>\n      <td>...</td>\n      <td>9.0</td>\n      <td>English</td>\n      <td>USA</td>\n      <td>PG-13</td>\n      <td>NaN</td>\n      <td>2012.0</td>\n      <td>719.0</td>\n      <td>6.3</td>\n      <td>2.35</td>\n      <td>660</td>\n    </tr>\n    <tr>\n      <th>4915</th>\n      <td>Color</td>\n      <td>Jon Gunn</td>\n      <td>43.0</td>\n      <td>90.0</td>\n      <td>16.0</td>\n      <td>16.0</td>\n      <td>Brian Herzlinger</td>\n      <td>86.0</td>\n      <td>85222.0</td>\n      <td>Documentary</td>\n      <td>...</td>\n      <td>84.0</td>\n      <td>English</td>\n      <td>USA</td>\n      <td>PG</td>\n      <td>1100.0</td>\n      <td>2004.0</td>\n      <td>23.0</td>\n      <td>6.6</td>\n      <td>1.85</td>\n      <td>456</td>\n    </tr>\n  </tbody>\n</table>\n<p>4 rows × 28 columns</p>\n</div>"
     },
     "execution_count": 5,
     "metadata": {},
     "output_type": "execute_result"
    }
   ]
  },
  {
   "cell_type": "markdown",
   "metadata": {
    "id": "fkVmjLG8wKRv"
   },
   "source": [
    "Plik movie.csv został wczytany za pomocą funkcji read_csv przy wskazaniu jedynie ścieżki. Funkcja read_csv udostępnia więcej opcji, które umożliwiają personalizację wczytywania danych. Przykładowo, plik csv jest klasycznym plikiem tekstowym, w którym wartości są odseparowane dowolnym znakiem. Pliki csv mogą również posiadać nagłówki kolumn, które nie różnią się niczym od pozostałych wierszy. Poniżej znajduje się przykład wczytania zbioru z pliku movies.csv przy jawnym wskazaniu parametrów charakteryzujących zawartość, takich jak separator w postaci przecinka, czy nagłówek w wierszu 0:"
   ]
  },
  {
   "cell_type": "code",
   "metadata": {
    "id": "3O0vIDwYv-ol",
    "ExecuteTime": {
     "end_time": "2024-01-20T10:43:35.165264Z",
     "start_time": "2024-01-20T10:43:34.751542Z"
    }
   },
   "source": [
    "movie: pd.DataFrame = pd.read_csv('../data/movie.csv', sep=',', header=0)  "
   ],
   "execution_count": 21,
   "outputs": []
  },
  {
   "cell_type": "markdown",
   "metadata": {
    "id": "IhmpRqUBxvgO"
   },
   "source": [
    "Parametr sep wskazuje separator wartości w pliku csv, którego domyślną wartością jest przecinek. Argument header jest przeznaczony do wskazywania pozycji wiersza nagłówkowego w pliku csv. Jeżeli nagłówek nie istnieje, należy w parametrze header przekazać wartość None, a nazwy kolumn zostaną dopasowane automatycznie. \n",
    "\n",
    "### Reprezentacja kolumn oraz wierszy w ramce\n",
    "\n",
    "W celu uzyskania listy nazw kolumn należy użyć atrybutu columns na obiekcie klasy DataFrame:"
   ]
  },
  {
   "cell_type": "code",
   "metadata": {
    "colab": {
     "base_uri": "https://localhost:8080/"
    },
    "id": "LgZfF3UxxtX_",
    "executionInfo": {
     "status": "ok",
     "timestamp": 1618402196750,
     "user_tz": -120,
     "elapsed": 1601,
     "user": {
      "displayName": "Tomasz",
      "photoUrl": "",
      "userId": "05358483110003930735"
     }
    },
    "outputId": "f04a77c2-9206-4d5f-a559-7d4bc9b885f4",
    "ExecuteTime": {
     "end_time": "2024-01-20T10:43:35.165686Z",
     "start_time": "2024-01-20T10:43:34.775449Z"
    }
   },
   "source": [
    "movie.columns  "
   ],
   "execution_count": 22,
   "outputs": [
    {
     "data": {
      "text/plain": "Index(['color', 'director_name', 'num_critic_for_reviews', 'duration',\n       'director_facebook_likes', 'actor_3_facebook_likes', 'actor_2_name',\n       'actor_1_facebook_likes', 'gross', 'genres', 'actor_1_name',\n       'movie_title', 'num_voted_users', 'cast_total_facebook_likes',\n       'actor_3_name', 'facenumber_in_poster', 'plot_keywords',\n       'movie_imdb_link', 'num_user_for_reviews', 'language', 'country',\n       'content_rating', 'budget', 'title_year', 'actor_2_facebook_likes',\n       'imdb_score', 'aspect_ratio', 'movie_facebook_likes'],\n      dtype='object')"
     },
     "execution_count": 22,
     "metadata": {},
     "output_type": "execute_result"
    }
   ]
  },
  {
   "cell_type": "markdown",
   "metadata": {
    "id": "gMR5GzI_ylmL"
   },
   "source": [
    "W podobny sposób można uzyskać indeksy (lub nazwy) wierszy:"
   ]
  },
  {
   "cell_type": "code",
   "metadata": {
    "colab": {
     "base_uri": "https://localhost:8080/"
    },
    "id": "zGTlqDW8yiSr",
    "executionInfo": {
     "status": "ok",
     "timestamp": 1618402196750,
     "user_tz": -120,
     "elapsed": 1598,
     "user": {
      "displayName": "Tomasz",
      "photoUrl": "",
      "userId": "05358483110003930735"
     }
    },
    "outputId": "613290a5-c4d0-4f01-dfa5-c3f6e7e1cc7c",
    "ExecuteTime": {
     "end_time": "2024-01-20T10:43:35.193826Z",
     "start_time": "2024-01-20T10:43:34.778781Z"
    }
   },
   "source": [
    "movie.index "
   ],
   "execution_count": 23,
   "outputs": [
    {
     "data": {
      "text/plain": "RangeIndex(start=0, stop=4916, step=1)"
     },
     "execution_count": 23,
     "metadata": {},
     "output_type": "execute_result"
    }
   ]
  },
  {
   "cell_type": "markdown",
   "metadata": {
    "id": "qoc4l9GFzXkn"
   },
   "source": [
    "W przypadku zbioru filmów, wiersze są opatrzone indeksami numerycznymi w zakresie od 0 do 4915 włącznie. Istnieje jednak możliwość nadania dowolnych (w tym tekstowych) indeksów wierszom w ramce.\n",
    "\n",
    "### Typy wartości w kolumnach ramki danych\n",
    "\n",
    "W celu sprawdzenia typów danych, które znajdują się w poszczególnych kolumnach należy użyć atrybutu dtypes wywołanego na obiekcie DataFrame:"
   ]
  },
  {
   "cell_type": "code",
   "metadata": {
    "colab": {
     "base_uri": "https://localhost:8080/"
    },
    "id": "vrQ8tfoQzVZh",
    "executionInfo": {
     "status": "ok",
     "timestamp": 1618402196751,
     "user_tz": -120,
     "elapsed": 1597,
     "user": {
      "displayName": "Tomasz",
      "photoUrl": "",
      "userId": "05358483110003930735"
     }
    },
    "outputId": "613c066e-d769-42b0-ecdd-a054f434913e",
    "ExecuteTime": {
     "end_time": "2024-01-20T10:43:35.198481Z",
     "start_time": "2024-01-20T10:43:34.782692Z"
    }
   },
   "source": [
    "movie.dtypes  "
   ],
   "execution_count": 24,
   "outputs": [
    {
     "data": {
      "text/plain": "color                         object\ndirector_name                 object\nnum_critic_for_reviews       float64\nduration                     float64\ndirector_facebook_likes      float64\nactor_3_facebook_likes       float64\nactor_2_name                  object\nactor_1_facebook_likes       float64\ngross                        float64\ngenres                        object\nactor_1_name                  object\nmovie_title                   object\nnum_voted_users                int64\ncast_total_facebook_likes      int64\nactor_3_name                  object\nfacenumber_in_poster         float64\nplot_keywords                 object\nmovie_imdb_link               object\nnum_user_for_reviews         float64\nlanguage                      object\ncountry                       object\ncontent_rating                object\nbudget                       float64\ntitle_year                   float64\nactor_2_facebook_likes       float64\nimdb_score                   float64\naspect_ratio                 float64\nmovie_facebook_likes           int64\ndtype: object"
     },
     "execution_count": 24,
     "metadata": {},
     "output_type": "execute_result"
    }
   ]
  },
  {
   "cell_type": "markdown",
   "metadata": {
    "id": "LWAC16Ws0O2g"
   },
   "source": [
    "Metoda value_counts jest przeznaczona do zliczania częstości wystąpień poszczególnych wartości. Można ją z powodzeniem zastosować w podsumowaniu częstości występowania typów danych w konkretnych kolumnach:"
   ]
  },
  {
   "cell_type": "code",
   "metadata": {
    "colab": {
     "base_uri": "https://localhost:8080/"
    },
    "id": "w5y338Ot0BWy",
    "executionInfo": {
     "status": "ok",
     "timestamp": 1618402196751,
     "user_tz": -120,
     "elapsed": 1594,
     "user": {
      "displayName": "Tomasz",
      "photoUrl": "",
      "userId": "05358483110003930735"
     }
    },
    "outputId": "3767d426-e8c6-45cd-ffb5-d630e6720f91",
    "ExecuteTime": {
     "end_time": "2024-01-20T10:43:35.199018Z",
     "start_time": "2024-01-20T10:43:34.786142Z"
    }
   },
   "source": [
    "movie.dtypes.value_counts()  "
   ],
   "execution_count": 25,
   "outputs": [
    {
     "data": {
      "text/plain": "float64    13\nobject     12\nint64       3\nName: count, dtype: int64"
     },
     "execution_count": 25,
     "metadata": {},
     "output_type": "execute_result"
    }
   ]
  },
  {
   "cell_type": "markdown",
   "metadata": {
    "id": "hUIL2yubG1R9"
   },
   "source": [
    "### Parametry statystyczne kolumn w ramce\n",
    "\n",
    "Za pomocą metody describe wywoływanej na obiekcie klasy DataFrame można uzyskać informacje o podstawowych parametrach statystycznych kolumn zawierających wartości numeryczne:"
   ]
  },
  {
   "cell_type": "code",
   "metadata": {
    "colab": {
     "base_uri": "https://localhost:8080/",
     "height": 317
    },
    "id": "B7U2zamgHF9o",
    "executionInfo": {
     "status": "ok",
     "timestamp": 1618402197677,
     "user_tz": -120,
     "elapsed": 2517,
     "user": {
      "displayName": "Tomasz",
      "photoUrl": "",
      "userId": "05358483110003930735"
     }
    },
    "outputId": "95afc9f6-ecfb-4d65-c0d5-2d253bda0bbc",
    "ExecuteTime": {
     "end_time": "2024-01-20T10:43:35.230042Z",
     "start_time": "2024-01-20T10:43:34.790644Z"
    }
   },
   "source": [
    "movie.describe()  "
   ],
   "execution_count": 26,
   "outputs": [
    {
     "data": {
      "text/plain": "       num_critic_for_reviews     duration  director_facebook_likes  \\\ncount             4867.000000  4901.000000              4814.000000   \nmean               137.988905   107.090798               691.014541   \nstd                120.239379    25.286015              2832.954125   \nmin                  1.000000     7.000000                 0.000000   \n25%                 49.000000    93.000000                 7.000000   \n50%                108.000000   103.000000                48.000000   \n75%                191.000000   118.000000               189.750000   \nmax                813.000000   511.000000             23000.000000   \n\n       actor_3_facebook_likes  actor_1_facebook_likes         gross  \\\ncount             4893.000000             4909.000000  4.054000e+03   \nmean               631.276313             6494.488491  4.764451e+07   \nstd               1625.874802            15106.986884  6.737255e+07   \nmin                  0.000000                0.000000  1.620000e+02   \n25%                132.000000              607.000000  5.019656e+06   \n50%                366.000000              982.000000  2.504396e+07   \n75%                633.000000            11000.000000  6.110841e+07   \nmax              23000.000000           640000.000000  7.605058e+08   \n\n       num_voted_users  cast_total_facebook_likes  facenumber_in_poster  \\\ncount     4.916000e+03                4916.000000           4903.000000   \nmean      8.264492e+04                9579.815907              1.377320   \nstd       1.383222e+05               18164.316990              2.023826   \nmin       5.000000e+00                   0.000000              0.000000   \n25%       8.361750e+03                1394.750000              0.000000   \n50%       3.313250e+04                3049.000000              1.000000   \n75%       9.377275e+04               13616.750000              2.000000   \nmax       1.689764e+06              656730.000000             43.000000   \n\n       num_user_for_reviews        budget   title_year  \\\ncount           4895.000000  4.432000e+03  4810.000000   \nmean             267.668846  3.654749e+07  2002.447609   \nstd              372.934839  1.002427e+08    12.453977   \nmin                1.000000  2.180000e+02  1916.000000   \n25%               64.000000  6.000000e+06  1999.000000   \n50%              153.000000  1.985000e+07  2005.000000   \n75%              320.500000  4.300000e+07  2011.000000   \nmax             5060.000000  4.200000e+09  2016.000000   \n\n       actor_2_facebook_likes   imdb_score  aspect_ratio  movie_facebook_likes  \ncount             4903.000000  4916.000000   4590.000000           4916.000000  \nmean              1621.923516     6.437429      2.222349           7348.294142  \nstd               4011.299523     1.127802      1.402940          19206.016458  \nmin                  0.000000     1.600000      1.180000              0.000000  \n25%                277.000000     5.800000      1.850000              0.000000  \n50%                593.000000     6.600000      2.350000            159.000000  \n75%                912.000000     7.200000      2.350000           2000.000000  \nmax             137000.000000     9.500000     16.000000         349000.000000  ",
      "text/html": "<div>\n<style scoped>\n    .dataframe tbody tr th:only-of-type {\n        vertical-align: middle;\n    }\n\n    .dataframe tbody tr th {\n        vertical-align: top;\n    }\n\n    .dataframe thead th {\n        text-align: right;\n    }\n</style>\n<table border=\"1\" class=\"dataframe\">\n  <thead>\n    <tr style=\"text-align: right;\">\n      <th></th>\n      <th>num_critic_for_reviews</th>\n      <th>duration</th>\n      <th>director_facebook_likes</th>\n      <th>actor_3_facebook_likes</th>\n      <th>actor_1_facebook_likes</th>\n      <th>gross</th>\n      <th>num_voted_users</th>\n      <th>cast_total_facebook_likes</th>\n      <th>facenumber_in_poster</th>\n      <th>num_user_for_reviews</th>\n      <th>budget</th>\n      <th>title_year</th>\n      <th>actor_2_facebook_likes</th>\n      <th>imdb_score</th>\n      <th>aspect_ratio</th>\n      <th>movie_facebook_likes</th>\n    </tr>\n  </thead>\n  <tbody>\n    <tr>\n      <th>count</th>\n      <td>4867.000000</td>\n      <td>4901.000000</td>\n      <td>4814.000000</td>\n      <td>4893.000000</td>\n      <td>4909.000000</td>\n      <td>4.054000e+03</td>\n      <td>4.916000e+03</td>\n      <td>4916.000000</td>\n      <td>4903.000000</td>\n      <td>4895.000000</td>\n      <td>4.432000e+03</td>\n      <td>4810.000000</td>\n      <td>4903.000000</td>\n      <td>4916.000000</td>\n      <td>4590.000000</td>\n      <td>4916.000000</td>\n    </tr>\n    <tr>\n      <th>mean</th>\n      <td>137.988905</td>\n      <td>107.090798</td>\n      <td>691.014541</td>\n      <td>631.276313</td>\n      <td>6494.488491</td>\n      <td>4.764451e+07</td>\n      <td>8.264492e+04</td>\n      <td>9579.815907</td>\n      <td>1.377320</td>\n      <td>267.668846</td>\n      <td>3.654749e+07</td>\n      <td>2002.447609</td>\n      <td>1621.923516</td>\n      <td>6.437429</td>\n      <td>2.222349</td>\n      <td>7348.294142</td>\n    </tr>\n    <tr>\n      <th>std</th>\n      <td>120.239379</td>\n      <td>25.286015</td>\n      <td>2832.954125</td>\n      <td>1625.874802</td>\n      <td>15106.986884</td>\n      <td>6.737255e+07</td>\n      <td>1.383222e+05</td>\n      <td>18164.316990</td>\n      <td>2.023826</td>\n      <td>372.934839</td>\n      <td>1.002427e+08</td>\n      <td>12.453977</td>\n      <td>4011.299523</td>\n      <td>1.127802</td>\n      <td>1.402940</td>\n      <td>19206.016458</td>\n    </tr>\n    <tr>\n      <th>min</th>\n      <td>1.000000</td>\n      <td>7.000000</td>\n      <td>0.000000</td>\n      <td>0.000000</td>\n      <td>0.000000</td>\n      <td>1.620000e+02</td>\n      <td>5.000000e+00</td>\n      <td>0.000000</td>\n      <td>0.000000</td>\n      <td>1.000000</td>\n      <td>2.180000e+02</td>\n      <td>1916.000000</td>\n      <td>0.000000</td>\n      <td>1.600000</td>\n      <td>1.180000</td>\n      <td>0.000000</td>\n    </tr>\n    <tr>\n      <th>25%</th>\n      <td>49.000000</td>\n      <td>93.000000</td>\n      <td>7.000000</td>\n      <td>132.000000</td>\n      <td>607.000000</td>\n      <td>5.019656e+06</td>\n      <td>8.361750e+03</td>\n      <td>1394.750000</td>\n      <td>0.000000</td>\n      <td>64.000000</td>\n      <td>6.000000e+06</td>\n      <td>1999.000000</td>\n      <td>277.000000</td>\n      <td>5.800000</td>\n      <td>1.850000</td>\n      <td>0.000000</td>\n    </tr>\n    <tr>\n      <th>50%</th>\n      <td>108.000000</td>\n      <td>103.000000</td>\n      <td>48.000000</td>\n      <td>366.000000</td>\n      <td>982.000000</td>\n      <td>2.504396e+07</td>\n      <td>3.313250e+04</td>\n      <td>3049.000000</td>\n      <td>1.000000</td>\n      <td>153.000000</td>\n      <td>1.985000e+07</td>\n      <td>2005.000000</td>\n      <td>593.000000</td>\n      <td>6.600000</td>\n      <td>2.350000</td>\n      <td>159.000000</td>\n    </tr>\n    <tr>\n      <th>75%</th>\n      <td>191.000000</td>\n      <td>118.000000</td>\n      <td>189.750000</td>\n      <td>633.000000</td>\n      <td>11000.000000</td>\n      <td>6.110841e+07</td>\n      <td>9.377275e+04</td>\n      <td>13616.750000</td>\n      <td>2.000000</td>\n      <td>320.500000</td>\n      <td>4.300000e+07</td>\n      <td>2011.000000</td>\n      <td>912.000000</td>\n      <td>7.200000</td>\n      <td>2.350000</td>\n      <td>2000.000000</td>\n    </tr>\n    <tr>\n      <th>max</th>\n      <td>813.000000</td>\n      <td>511.000000</td>\n      <td>23000.000000</td>\n      <td>23000.000000</td>\n      <td>640000.000000</td>\n      <td>7.605058e+08</td>\n      <td>1.689764e+06</td>\n      <td>656730.000000</td>\n      <td>43.000000</td>\n      <td>5060.000000</td>\n      <td>4.200000e+09</td>\n      <td>2016.000000</td>\n      <td>137000.000000</td>\n      <td>9.500000</td>\n      <td>16.000000</td>\n      <td>349000.000000</td>\n    </tr>\n  </tbody>\n</table>\n</div>"
     },
     "execution_count": 26,
     "metadata": {},
     "output_type": "execute_result"
    }
   ]
  },
  {
   "cell_type": "markdown",
   "metadata": {
    "id": "FPwbVM3n2GW1"
   },
   "source": [
    "## Wybieranie kolumn\n",
    "\n",
    "Istnieje kilka sposobów na wybór kolumn z ramki danych:"
   ]
  },
  {
   "cell_type": "code",
   "metadata": {
    "colab": {
     "base_uri": "https://localhost:8080/"
    },
    "id": "TbVfo0uD0lkE",
    "executionInfo": {
     "status": "ok",
     "timestamp": 1618402197678,
     "user_tz": -120,
     "elapsed": 2516,
     "user": {
      "displayName": "Tomasz",
      "photoUrl": "",
      "userId": "05358483110003930735"
     }
    },
    "outputId": "cf7f6bb6-b64b-4a24-c583-7fc685283cd3",
    "ExecuteTime": {
     "end_time": "2024-01-20T10:43:35.243379Z",
     "start_time": "2024-01-20T10:43:34.810542Z"
    }
   },
   "source": [
    "col: pd.Series = movie['genres']  \n",
    "\n",
    "col"
   ],
   "execution_count": 27,
   "outputs": [
    {
     "data": {
      "text/plain": "0       Action|Adventure|Fantasy|Sci-Fi\n1              Action|Adventure|Fantasy\n2             Action|Adventure|Thriller\n3                       Action|Thriller\n4                           Documentary\n                     ...               \n4911                       Comedy|Drama\n4912       Crime|Drama|Mystery|Thriller\n4913              Drama|Horror|Thriller\n4914               Comedy|Drama|Romance\n4915                        Documentary\nName: genres, Length: 4916, dtype: object"
     },
     "execution_count": 27,
     "metadata": {},
     "output_type": "execute_result"
    }
   ]
  },
  {
   "cell_type": "code",
   "metadata": {
    "colab": {
     "base_uri": "https://localhost:8080/"
    },
    "id": "moOGAuw02YE5",
    "executionInfo": {
     "status": "ok",
     "timestamp": 1618402197678,
     "user_tz": -120,
     "elapsed": 2513,
     "user": {
      "displayName": "Tomasz",
      "photoUrl": "",
      "userId": "05358483110003930735"
     }
    },
    "outputId": "42da177b-ac1e-4d33-eda2-de00b941720e",
    "ExecuteTime": {
     "end_time": "2024-01-20T10:43:35.251446Z",
     "start_time": "2024-01-20T10:43:34.814368Z"
    }
   },
   "source": [
    "movie.genres "
   ],
   "execution_count": 28,
   "outputs": [
    {
     "data": {
      "text/plain": "0       Action|Adventure|Fantasy|Sci-Fi\n1              Action|Adventure|Fantasy\n2             Action|Adventure|Thriller\n3                       Action|Thriller\n4                           Documentary\n                     ...               \n4911                       Comedy|Drama\n4912       Crime|Drama|Mystery|Thriller\n4913              Drama|Horror|Thriller\n4914               Comedy|Drama|Romance\n4915                        Documentary\nName: genres, Length: 4916, dtype: object"
     },
     "execution_count": 28,
     "metadata": {},
     "output_type": "execute_result"
    }
   ]
  },
  {
   "cell_type": "markdown",
   "metadata": {
    "id": "Z8785nHp2mbr"
   },
   "source": [
    "Kolumny w ramkach danych opatrzone są typem Series, co oznacza że składają się z wartości opatrzonych indeksami wierszy z ramki. Oba sposoby wybierania kolumn zapewniają taki sam efekt, jednak użycie operatora kropki wyklucza wybór kolumny zawierającej w nazwie np. spację.\n",
    "\n",
    "W podobny sposób można wybrać wiele kolumn z ramki danych przekazując listę ich nazw:"
   ]
  },
  {
   "cell_type": "code",
   "metadata": {
    "colab": {
     "base_uri": "https://localhost:8080/",
     "height": 204
    },
    "id": "_70ygm8EFWvO",
    "executionInfo": {
     "status": "ok",
     "timestamp": 1618402197679,
     "user_tz": -120,
     "elapsed": 2512,
     "user": {
      "displayName": "Tomasz",
      "photoUrl": "",
      "userId": "05358483110003930735"
     }
    },
    "outputId": "132cfa13-0639-4a8c-940b-3e358603ae22",
    "ExecuteTime": {
     "end_time": "2024-01-20T10:43:35.265790Z",
     "start_time": "2024-01-20T10:43:34.819365Z"
    }
   },
   "source": [
    "movie[['actor_1_name', 'actor_2_name', 'actor_3_name']].head()  "
   ],
   "execution_count": 29,
   "outputs": [
    {
     "data": {
      "text/plain": "      actor_1_name      actor_2_name          actor_3_name\n0      CCH Pounder  Joel David Moore             Wes Studi\n1      Johnny Depp     Orlando Bloom        Jack Davenport\n2  Christoph Waltz      Rory Kinnear      Stephanie Sigman\n3        Tom Hardy    Christian Bale  Joseph Gordon-Levitt\n4      Doug Walker        Rob Walker                   NaN",
      "text/html": "<div>\n<style scoped>\n    .dataframe tbody tr th:only-of-type {\n        vertical-align: middle;\n    }\n\n    .dataframe tbody tr th {\n        vertical-align: top;\n    }\n\n    .dataframe thead th {\n        text-align: right;\n    }\n</style>\n<table border=\"1\" class=\"dataframe\">\n  <thead>\n    <tr style=\"text-align: right;\">\n      <th></th>\n      <th>actor_1_name</th>\n      <th>actor_2_name</th>\n      <th>actor_3_name</th>\n    </tr>\n  </thead>\n  <tbody>\n    <tr>\n      <th>0</th>\n      <td>CCH Pounder</td>\n      <td>Joel David Moore</td>\n      <td>Wes Studi</td>\n    </tr>\n    <tr>\n      <th>1</th>\n      <td>Johnny Depp</td>\n      <td>Orlando Bloom</td>\n      <td>Jack Davenport</td>\n    </tr>\n    <tr>\n      <th>2</th>\n      <td>Christoph Waltz</td>\n      <td>Rory Kinnear</td>\n      <td>Stephanie Sigman</td>\n    </tr>\n    <tr>\n      <th>3</th>\n      <td>Tom Hardy</td>\n      <td>Christian Bale</td>\n      <td>Joseph Gordon-Levitt</td>\n    </tr>\n    <tr>\n      <th>4</th>\n      <td>Doug Walker</td>\n      <td>Rob Walker</td>\n      <td>NaN</td>\n    </tr>\n  </tbody>\n</table>\n</div>"
     },
     "execution_count": 29,
     "metadata": {},
     "output_type": "execute_result"
    }
   ]
  },
  {
   "cell_type": "markdown",
   "metadata": {
    "id": "Of9kPWiaFmMc"
   },
   "source": [
    "### Wybór kolumn według typu danych\n",
    "\n",
    "Kolumny z ramki można również wybrać na podstawie charakteru danych, które się w nich znajdują. Służy do tego metoda select_dtypes wywoływana na obiekcie klasy Dataframe."
   ]
  },
  {
   "cell_type": "code",
   "metadata": {
    "colab": {
     "base_uri": "https://localhost:8080/",
     "height": 224
    },
    "id": "FHBbaFlVF021",
    "executionInfo": {
     "status": "ok",
     "timestamp": 1618402197679,
     "user_tz": -120,
     "elapsed": 2510,
     "user": {
      "displayName": "Tomasz",
      "photoUrl": "",
      "userId": "05358483110003930735"
     }
    },
    "outputId": "3de025c4-d773-4dbe-e6ff-1cfd5f7b87d6",
    "ExecuteTime": {
     "end_time": "2024-01-20T10:43:35.278043Z",
     "start_time": "2024-01-20T10:43:34.827412Z"
    }
   },
   "source": [
    "movie.select_dtypes(include=['float']).head()  "
   ],
   "execution_count": 30,
   "outputs": [
    {
     "data": {
      "text/plain": "   num_critic_for_reviews  duration  director_facebook_likes  \\\n0                   723.0     178.0                      0.0   \n1                   302.0     169.0                    563.0   \n2                   602.0     148.0                      0.0   \n3                   813.0     164.0                  22000.0   \n4                     NaN       NaN                    131.0   \n\n   actor_3_facebook_likes  actor_1_facebook_likes        gross  \\\n0                   855.0                  1000.0  760505847.0   \n1                  1000.0                 40000.0  309404152.0   \n2                   161.0                 11000.0  200074175.0   \n3                 23000.0                 27000.0  448130642.0   \n4                     NaN                   131.0          NaN   \n\n   facenumber_in_poster  num_user_for_reviews       budget  title_year  \\\n0                   0.0                3054.0  237000000.0      2009.0   \n1                   0.0                1238.0  300000000.0      2007.0   \n2                   1.0                 994.0  245000000.0      2015.0   \n3                   0.0                2701.0  250000000.0      2012.0   \n4                   0.0                   NaN          NaN         NaN   \n\n   actor_2_facebook_likes  imdb_score  aspect_ratio  \n0                   936.0         7.9          1.78  \n1                  5000.0         7.1          2.35  \n2                   393.0         6.8          2.35  \n3                 23000.0         8.5          2.35  \n4                    12.0         7.1           NaN  ",
      "text/html": "<div>\n<style scoped>\n    .dataframe tbody tr th:only-of-type {\n        vertical-align: middle;\n    }\n\n    .dataframe tbody tr th {\n        vertical-align: top;\n    }\n\n    .dataframe thead th {\n        text-align: right;\n    }\n</style>\n<table border=\"1\" class=\"dataframe\">\n  <thead>\n    <tr style=\"text-align: right;\">\n      <th></th>\n      <th>num_critic_for_reviews</th>\n      <th>duration</th>\n      <th>director_facebook_likes</th>\n      <th>actor_3_facebook_likes</th>\n      <th>actor_1_facebook_likes</th>\n      <th>gross</th>\n      <th>facenumber_in_poster</th>\n      <th>num_user_for_reviews</th>\n      <th>budget</th>\n      <th>title_year</th>\n      <th>actor_2_facebook_likes</th>\n      <th>imdb_score</th>\n      <th>aspect_ratio</th>\n    </tr>\n  </thead>\n  <tbody>\n    <tr>\n      <th>0</th>\n      <td>723.0</td>\n      <td>178.0</td>\n      <td>0.0</td>\n      <td>855.0</td>\n      <td>1000.0</td>\n      <td>760505847.0</td>\n      <td>0.0</td>\n      <td>3054.0</td>\n      <td>237000000.0</td>\n      <td>2009.0</td>\n      <td>936.0</td>\n      <td>7.9</td>\n      <td>1.78</td>\n    </tr>\n    <tr>\n      <th>1</th>\n      <td>302.0</td>\n      <td>169.0</td>\n      <td>563.0</td>\n      <td>1000.0</td>\n      <td>40000.0</td>\n      <td>309404152.0</td>\n      <td>0.0</td>\n      <td>1238.0</td>\n      <td>300000000.0</td>\n      <td>2007.0</td>\n      <td>5000.0</td>\n      <td>7.1</td>\n      <td>2.35</td>\n    </tr>\n    <tr>\n      <th>2</th>\n      <td>602.0</td>\n      <td>148.0</td>\n      <td>0.0</td>\n      <td>161.0</td>\n      <td>11000.0</td>\n      <td>200074175.0</td>\n      <td>1.0</td>\n      <td>994.0</td>\n      <td>245000000.0</td>\n      <td>2015.0</td>\n      <td>393.0</td>\n      <td>6.8</td>\n      <td>2.35</td>\n    </tr>\n    <tr>\n      <th>3</th>\n      <td>813.0</td>\n      <td>164.0</td>\n      <td>22000.0</td>\n      <td>23000.0</td>\n      <td>27000.0</td>\n      <td>448130642.0</td>\n      <td>0.0</td>\n      <td>2701.0</td>\n      <td>250000000.0</td>\n      <td>2012.0</td>\n      <td>23000.0</td>\n      <td>8.5</td>\n      <td>2.35</td>\n    </tr>\n    <tr>\n      <th>4</th>\n      <td>NaN</td>\n      <td>NaN</td>\n      <td>131.0</td>\n      <td>NaN</td>\n      <td>131.0</td>\n      <td>NaN</td>\n      <td>0.0</td>\n      <td>NaN</td>\n      <td>NaN</td>\n      <td>NaN</td>\n      <td>12.0</td>\n      <td>7.1</td>\n      <td>NaN</td>\n    </tr>\n  </tbody>\n</table>\n</div>"
     },
     "execution_count": 30,
     "metadata": {},
     "output_type": "execute_result"
    }
   ]
  },
  {
   "cell_type": "markdown",
   "metadata": {
    "id": "DKfQ8EQ-F9eF"
   },
   "source": [
    "### Wybór kolumn według frazy w nazwie\n",
    "\n",
    "Metoda filter wywoływana na obiekcie klasy DataFrame zwróci ramkę danych z kolumnami, które zawierają wskazanę frazę za pomocą parametru like:"
   ]
  },
  {
   "cell_type": "code",
   "metadata": {
    "colab": {
     "base_uri": "https://localhost:8080/",
     "height": 224
    },
    "id": "M_s4wVdWGpFA",
    "executionInfo": {
     "status": "ok",
     "timestamp": 1618402197680,
     "user_tz": -120,
     "elapsed": 2508,
     "user": {
      "displayName": "Tomasz",
      "photoUrl": "",
      "userId": "05358483110003930735"
     }
    },
    "outputId": "458fc775-93e4-482a-b84e-f5c6e703f4bf",
    "ExecuteTime": {
     "end_time": "2024-01-20T10:43:35.281345Z",
     "start_time": "2024-01-20T10:43:34.833360Z"
    }
   },
   "source": [
    "movie.filter(like='facebook').head()  "
   ],
   "execution_count": 31,
   "outputs": [
    {
     "data": {
      "text/plain": "   director_facebook_likes  actor_3_facebook_likes  actor_1_facebook_likes  \\\n0                      0.0                   855.0                  1000.0   \n1                    563.0                  1000.0                 40000.0   \n2                      0.0                   161.0                 11000.0   \n3                  22000.0                 23000.0                 27000.0   \n4                    131.0                     NaN                   131.0   \n\n   cast_total_facebook_likes  actor_2_facebook_likes  movie_facebook_likes  \n0                       4834                   936.0                 33000  \n1                      48350                  5000.0                     0  \n2                      11700                   393.0                 85000  \n3                     106759                 23000.0                164000  \n4                        143                    12.0                     0  ",
      "text/html": "<div>\n<style scoped>\n    .dataframe tbody tr th:only-of-type {\n        vertical-align: middle;\n    }\n\n    .dataframe tbody tr th {\n        vertical-align: top;\n    }\n\n    .dataframe thead th {\n        text-align: right;\n    }\n</style>\n<table border=\"1\" class=\"dataframe\">\n  <thead>\n    <tr style=\"text-align: right;\">\n      <th></th>\n      <th>director_facebook_likes</th>\n      <th>actor_3_facebook_likes</th>\n      <th>actor_1_facebook_likes</th>\n      <th>cast_total_facebook_likes</th>\n      <th>actor_2_facebook_likes</th>\n      <th>movie_facebook_likes</th>\n    </tr>\n  </thead>\n  <tbody>\n    <tr>\n      <th>0</th>\n      <td>0.0</td>\n      <td>855.0</td>\n      <td>1000.0</td>\n      <td>4834</td>\n      <td>936.0</td>\n      <td>33000</td>\n    </tr>\n    <tr>\n      <th>1</th>\n      <td>563.0</td>\n      <td>1000.0</td>\n      <td>40000.0</td>\n      <td>48350</td>\n      <td>5000.0</td>\n      <td>0</td>\n    </tr>\n    <tr>\n      <th>2</th>\n      <td>0.0</td>\n      <td>161.0</td>\n      <td>11000.0</td>\n      <td>11700</td>\n      <td>393.0</td>\n      <td>85000</td>\n    </tr>\n    <tr>\n      <th>3</th>\n      <td>22000.0</td>\n      <td>23000.0</td>\n      <td>27000.0</td>\n      <td>106759</td>\n      <td>23000.0</td>\n      <td>164000</td>\n    </tr>\n    <tr>\n      <th>4</th>\n      <td>131.0</td>\n      <td>NaN</td>\n      <td>131.0</td>\n      <td>143</td>\n      <td>12.0</td>\n      <td>0</td>\n    </tr>\n  </tbody>\n</table>\n</div>"
     },
     "execution_count": 31,
     "metadata": {},
     "output_type": "execute_result"
    }
   ]
  },
  {
   "cell_type": "markdown",
   "metadata": {
    "id": "GFKNyGDYFLht"
   },
   "source": [
    "## Praca z wartościami wybrakowanymi\n",
    "\n",
    "Niektóre wartości w kolumnach ramki mogą być wybrakowane. Metoda isnull wywołana na obiekcie klasy Series zwróci serię wartości logicznych odpowiadających temu czy dana wartośc w kolumnie jest wybrakowana czy nie:"
   ]
  },
  {
   "cell_type": "code",
   "metadata": {
    "colab": {
     "base_uri": "https://localhost:8080/"
    },
    "id": "t2-uPCR32lVZ",
    "executionInfo": {
     "status": "ok",
     "timestamp": 1618402197680,
     "user_tz": -120,
     "elapsed": 2506,
     "user": {
      "displayName": "Tomasz",
      "photoUrl": "",
      "userId": "05358483110003930735"
     }
    },
    "outputId": "8fdca73c-8938-4faf-d1d9-04fe093c085d",
    "ExecuteTime": {
     "end_time": "2024-01-21T14:33:08.074143Z",
     "start_time": "2024-01-21T14:33:08.062463Z"
    }
   },
   "source": [
    "movie['genres'].isnull()  "
   ],
   "execution_count": 6,
   "outputs": [
    {
     "data": {
      "text/plain": "0       False\n1       False\n2       False\n3       False\n4       False\n        ...  \n4911    False\n4912    False\n4913    False\n4914    False\n4915    False\nName: genres, Length: 4916, dtype: bool"
     },
     "execution_count": 6,
     "metadata": {},
     "output_type": "execute_result"
    }
   ]
  },
  {
   "cell_type": "markdown",
   "metadata": {
    "id": "3ttVrrJ1CA2V"
   },
   "source": [
    "Za pomocą metody any wywołanej na powstałej w ten sposób ramce można sprawdzić czy występuje tam przynajmniej jedna wartość prawdziwa:"
   ]
  },
  {
   "cell_type": "code",
   "metadata": {
    "colab": {
     "base_uri": "https://localhost:8080/"
    },
    "id": "BkiE1kXmCO9q",
    "executionInfo": {
     "status": "ok",
     "timestamp": 1618402197681,
     "user_tz": -120,
     "elapsed": 2504,
     "user": {
      "displayName": "Tomasz",
      "photoUrl": "",
      "userId": "05358483110003930735"
     }
    },
    "outputId": "72da6cb3-478c-4a77-b4db-c2afa2bbde64",
    "ExecuteTime": {
     "end_time": "2024-01-21T14:33:50.264826Z",
     "start_time": "2024-01-21T14:33:50.249387Z"
    }
   },
   "source": [
    "movie['genres'].isnull().any()  "
   ],
   "execution_count": 9,
   "outputs": [
    {
     "data": {
      "text/plain": "False"
     },
     "execution_count": 9,
     "metadata": {},
     "output_type": "execute_result"
    }
   ]
  },
  {
   "cell_type": "markdown",
   "metadata": {
    "id": "b2E56Uxo4Zdp"
   },
   "source": [
    "Metoda all umożliwia sprawdzenie czy w ramce występują tylko i wyłącznie wartości prawdziwe.\n",
    "\n",
    "Jeżeli w kolumnie występują wartości wybrakowane, można je uzupełnić wskazaną wartością, np. zerem:"
   ]
  },
  {
   "cell_type": "code",
   "metadata": {
    "colab": {
     "base_uri": "https://localhost:8080/"
    },
    "id": "hf3S7a7Z4X_-",
    "executionInfo": {
     "status": "ok",
     "timestamp": 1618402197681,
     "user_tz": -120,
     "elapsed": 2502,
     "user": {
      "displayName": "Tomasz",
      "photoUrl": "",
      "userId": "05358483110003930735"
     }
    },
    "outputId": "37c94d24-19e0-4e08-f6a6-f22049af94a8",
    "ExecuteTime": {
     "end_time": "2024-01-20T10:43:35.282430Z",
     "start_time": "2024-01-20T10:43:34.877449Z"
    }
   },
   "source": [
    "movie['actor_1_facebook_likes'].fillna(0)  "
   ],
   "execution_count": 34,
   "outputs": [
    {
     "data": {
      "text/plain": "0        1000.0\n1       40000.0\n2       11000.0\n3       27000.0\n4         131.0\n         ...   \n4911      637.0\n4912      841.0\n4913        0.0\n4914      946.0\n4915       86.0\nName: actor_1_facebook_likes, Length: 4916, dtype: float64"
     },
     "execution_count": 34,
     "metadata": {},
     "output_type": "execute_result"
    }
   ]
  },
  {
   "cell_type": "markdown",
   "metadata": {
    "id": "VSCnVNJURb5b"
   },
   "source": [
    "Aby umieścić wartości wybrakowane w oryginalnej ramce danych należy użyć metody fillna na obiekcie klasy DataFrame przekazując jako parametr słownik mapujący nazwy kolumn na wartości, którymi mają zostać zastąpione wartości wybrakowane:"
   ]
  },
  {
   "cell_type": "code",
   "metadata": {
    "colab": {
     "base_uri": "https://localhost:8080/",
     "height": 660
    },
    "id": "NQzaqRPoRiiO",
    "executionInfo": {
     "status": "ok",
     "timestamp": 1618402266208,
     "user_tz": -120,
     "elapsed": 793,
     "user": {
      "displayName": "Tomasz",
      "photoUrl": "",
      "userId": "05358483110003930735"
     }
    },
    "outputId": "2ab77ba4-5c7d-40db-939d-f7471c070f8b",
    "ExecuteTime": {
     "end_time": "2024-01-20T10:43:35.282946Z",
     "start_time": "2024-01-20T10:43:34.880148Z"
    }
   },
   "source": [
    "movie.fillna({  \n",
    "    'actor_1_facebook_likes': 200,\n",
    "    'actor_3_facebook_likes': 100,\n",
    "})  "
   ],
   "execution_count": 35,
   "outputs": [
    {
     "data": {
      "text/plain": "      color      director_name  num_critic_for_reviews  duration  \\\n0     Color      James Cameron                   723.0     178.0   \n1     Color     Gore Verbinski                   302.0     169.0   \n2     Color         Sam Mendes                   602.0     148.0   \n3     Color  Christopher Nolan                   813.0     164.0   \n4       NaN        Doug Walker                     NaN       NaN   \n...     ...                ...                     ...       ...   \n4911  Color        Scott Smith                     1.0      87.0   \n4912  Color                NaN                    43.0      43.0   \n4913  Color   Benjamin Roberds                    13.0      76.0   \n4914  Color        Daniel Hsia                    14.0     100.0   \n4915  Color           Jon Gunn                    43.0      90.0   \n\n      director_facebook_likes  actor_3_facebook_likes      actor_2_name  \\\n0                         0.0                   855.0  Joel David Moore   \n1                       563.0                  1000.0     Orlando Bloom   \n2                         0.0                   161.0      Rory Kinnear   \n3                     22000.0                 23000.0    Christian Bale   \n4                       131.0                   100.0        Rob Walker   \n...                       ...                     ...               ...   \n4911                      2.0                   318.0     Daphne Zuniga   \n4912                      NaN                   319.0     Valorie Curry   \n4913                      0.0                     0.0     Maxwell Moody   \n4914                      0.0                   489.0     Daniel Henney   \n4915                     16.0                    16.0  Brian Herzlinger   \n\n      actor_1_facebook_likes        gross                           genres  \\\n0                     1000.0  760505847.0  Action|Adventure|Fantasy|Sci-Fi   \n1                    40000.0  309404152.0         Action|Adventure|Fantasy   \n2                    11000.0  200074175.0        Action|Adventure|Thriller   \n3                    27000.0  448130642.0                  Action|Thriller   \n4                      131.0          NaN                      Documentary   \n...                      ...          ...                              ...   \n4911                   637.0          NaN                     Comedy|Drama   \n4912                   841.0          NaN     Crime|Drama|Mystery|Thriller   \n4913                     0.0          NaN            Drama|Horror|Thriller   \n4914                   946.0      10443.0             Comedy|Drama|Romance   \n4915                    86.0      85222.0                      Documentary   \n\n      ... num_user_for_reviews language  country  content_rating       budget  \\\n0     ...               3054.0  English      USA           PG-13  237000000.0   \n1     ...               1238.0  English      USA           PG-13  300000000.0   \n2     ...                994.0  English       UK           PG-13  245000000.0   \n3     ...               2701.0  English      USA           PG-13  250000000.0   \n4     ...                  NaN      NaN      NaN             NaN          NaN   \n...   ...                  ...      ...      ...             ...          ...   \n4911  ...                  6.0  English   Canada             NaN          NaN   \n4912  ...                359.0  English      USA           TV-14          NaN   \n4913  ...                  3.0  English      USA             NaN       1400.0   \n4914  ...                  9.0  English      USA           PG-13          NaN   \n4915  ...                 84.0  English      USA              PG       1100.0   \n\n      title_year actor_2_facebook_likes imdb_score  aspect_ratio  \\\n0         2009.0                  936.0        7.9          1.78   \n1         2007.0                 5000.0        7.1          2.35   \n2         2015.0                  393.0        6.8          2.35   \n3         2012.0                23000.0        8.5          2.35   \n4            NaN                   12.0        7.1           NaN   \n...          ...                    ...        ...           ...   \n4911      2013.0                  470.0        7.7           NaN   \n4912         NaN                  593.0        7.5         16.00   \n4913      2013.0                    0.0        6.3           NaN   \n4914      2012.0                  719.0        6.3          2.35   \n4915      2004.0                   23.0        6.6          1.85   \n\n     movie_facebook_likes  \n0                   33000  \n1                       0  \n2                   85000  \n3                  164000  \n4                       0  \n...                   ...  \n4911                   84  \n4912                32000  \n4913                   16  \n4914                  660  \n4915                  456  \n\n[4916 rows x 28 columns]",
      "text/html": "<div>\n<style scoped>\n    .dataframe tbody tr th:only-of-type {\n        vertical-align: middle;\n    }\n\n    .dataframe tbody tr th {\n        vertical-align: top;\n    }\n\n    .dataframe thead th {\n        text-align: right;\n    }\n</style>\n<table border=\"1\" class=\"dataframe\">\n  <thead>\n    <tr style=\"text-align: right;\">\n      <th></th>\n      <th>color</th>\n      <th>director_name</th>\n      <th>num_critic_for_reviews</th>\n      <th>duration</th>\n      <th>director_facebook_likes</th>\n      <th>actor_3_facebook_likes</th>\n      <th>actor_2_name</th>\n      <th>actor_1_facebook_likes</th>\n      <th>gross</th>\n      <th>genres</th>\n      <th>...</th>\n      <th>num_user_for_reviews</th>\n      <th>language</th>\n      <th>country</th>\n      <th>content_rating</th>\n      <th>budget</th>\n      <th>title_year</th>\n      <th>actor_2_facebook_likes</th>\n      <th>imdb_score</th>\n      <th>aspect_ratio</th>\n      <th>movie_facebook_likes</th>\n    </tr>\n  </thead>\n  <tbody>\n    <tr>\n      <th>0</th>\n      <td>Color</td>\n      <td>James Cameron</td>\n      <td>723.0</td>\n      <td>178.0</td>\n      <td>0.0</td>\n      <td>855.0</td>\n      <td>Joel David Moore</td>\n      <td>1000.0</td>\n      <td>760505847.0</td>\n      <td>Action|Adventure|Fantasy|Sci-Fi</td>\n      <td>...</td>\n      <td>3054.0</td>\n      <td>English</td>\n      <td>USA</td>\n      <td>PG-13</td>\n      <td>237000000.0</td>\n      <td>2009.0</td>\n      <td>936.0</td>\n      <td>7.9</td>\n      <td>1.78</td>\n      <td>33000</td>\n    </tr>\n    <tr>\n      <th>1</th>\n      <td>Color</td>\n      <td>Gore Verbinski</td>\n      <td>302.0</td>\n      <td>169.0</td>\n      <td>563.0</td>\n      <td>1000.0</td>\n      <td>Orlando Bloom</td>\n      <td>40000.0</td>\n      <td>309404152.0</td>\n      <td>Action|Adventure|Fantasy</td>\n      <td>...</td>\n      <td>1238.0</td>\n      <td>English</td>\n      <td>USA</td>\n      <td>PG-13</td>\n      <td>300000000.0</td>\n      <td>2007.0</td>\n      <td>5000.0</td>\n      <td>7.1</td>\n      <td>2.35</td>\n      <td>0</td>\n    </tr>\n    <tr>\n      <th>2</th>\n      <td>Color</td>\n      <td>Sam Mendes</td>\n      <td>602.0</td>\n      <td>148.0</td>\n      <td>0.0</td>\n      <td>161.0</td>\n      <td>Rory Kinnear</td>\n      <td>11000.0</td>\n      <td>200074175.0</td>\n      <td>Action|Adventure|Thriller</td>\n      <td>...</td>\n      <td>994.0</td>\n      <td>English</td>\n      <td>UK</td>\n      <td>PG-13</td>\n      <td>245000000.0</td>\n      <td>2015.0</td>\n      <td>393.0</td>\n      <td>6.8</td>\n      <td>2.35</td>\n      <td>85000</td>\n    </tr>\n    <tr>\n      <th>3</th>\n      <td>Color</td>\n      <td>Christopher Nolan</td>\n      <td>813.0</td>\n      <td>164.0</td>\n      <td>22000.0</td>\n      <td>23000.0</td>\n      <td>Christian Bale</td>\n      <td>27000.0</td>\n      <td>448130642.0</td>\n      <td>Action|Thriller</td>\n      <td>...</td>\n      <td>2701.0</td>\n      <td>English</td>\n      <td>USA</td>\n      <td>PG-13</td>\n      <td>250000000.0</td>\n      <td>2012.0</td>\n      <td>23000.0</td>\n      <td>8.5</td>\n      <td>2.35</td>\n      <td>164000</td>\n    </tr>\n    <tr>\n      <th>4</th>\n      <td>NaN</td>\n      <td>Doug Walker</td>\n      <td>NaN</td>\n      <td>NaN</td>\n      <td>131.0</td>\n      <td>100.0</td>\n      <td>Rob Walker</td>\n      <td>131.0</td>\n      <td>NaN</td>\n      <td>Documentary</td>\n      <td>...</td>\n      <td>NaN</td>\n      <td>NaN</td>\n      <td>NaN</td>\n      <td>NaN</td>\n      <td>NaN</td>\n      <td>NaN</td>\n      <td>12.0</td>\n      <td>7.1</td>\n      <td>NaN</td>\n      <td>0</td>\n    </tr>\n    <tr>\n      <th>...</th>\n      <td>...</td>\n      <td>...</td>\n      <td>...</td>\n      <td>...</td>\n      <td>...</td>\n      <td>...</td>\n      <td>...</td>\n      <td>...</td>\n      <td>...</td>\n      <td>...</td>\n      <td>...</td>\n      <td>...</td>\n      <td>...</td>\n      <td>...</td>\n      <td>...</td>\n      <td>...</td>\n      <td>...</td>\n      <td>...</td>\n      <td>...</td>\n      <td>...</td>\n      <td>...</td>\n    </tr>\n    <tr>\n      <th>4911</th>\n      <td>Color</td>\n      <td>Scott Smith</td>\n      <td>1.0</td>\n      <td>87.0</td>\n      <td>2.0</td>\n      <td>318.0</td>\n      <td>Daphne Zuniga</td>\n      <td>637.0</td>\n      <td>NaN</td>\n      <td>Comedy|Drama</td>\n      <td>...</td>\n      <td>6.0</td>\n      <td>English</td>\n      <td>Canada</td>\n      <td>NaN</td>\n      <td>NaN</td>\n      <td>2013.0</td>\n      <td>470.0</td>\n      <td>7.7</td>\n      <td>NaN</td>\n      <td>84</td>\n    </tr>\n    <tr>\n      <th>4912</th>\n      <td>Color</td>\n      <td>NaN</td>\n      <td>43.0</td>\n      <td>43.0</td>\n      <td>NaN</td>\n      <td>319.0</td>\n      <td>Valorie Curry</td>\n      <td>841.0</td>\n      <td>NaN</td>\n      <td>Crime|Drama|Mystery|Thriller</td>\n      <td>...</td>\n      <td>359.0</td>\n      <td>English</td>\n      <td>USA</td>\n      <td>TV-14</td>\n      <td>NaN</td>\n      <td>NaN</td>\n      <td>593.0</td>\n      <td>7.5</td>\n      <td>16.00</td>\n      <td>32000</td>\n    </tr>\n    <tr>\n      <th>4913</th>\n      <td>Color</td>\n      <td>Benjamin Roberds</td>\n      <td>13.0</td>\n      <td>76.0</td>\n      <td>0.0</td>\n      <td>0.0</td>\n      <td>Maxwell Moody</td>\n      <td>0.0</td>\n      <td>NaN</td>\n      <td>Drama|Horror|Thriller</td>\n      <td>...</td>\n      <td>3.0</td>\n      <td>English</td>\n      <td>USA</td>\n      <td>NaN</td>\n      <td>1400.0</td>\n      <td>2013.0</td>\n      <td>0.0</td>\n      <td>6.3</td>\n      <td>NaN</td>\n      <td>16</td>\n    </tr>\n    <tr>\n      <th>4914</th>\n      <td>Color</td>\n      <td>Daniel Hsia</td>\n      <td>14.0</td>\n      <td>100.0</td>\n      <td>0.0</td>\n      <td>489.0</td>\n      <td>Daniel Henney</td>\n      <td>946.0</td>\n      <td>10443.0</td>\n      <td>Comedy|Drama|Romance</td>\n      <td>...</td>\n      <td>9.0</td>\n      <td>English</td>\n      <td>USA</td>\n      <td>PG-13</td>\n      <td>NaN</td>\n      <td>2012.0</td>\n      <td>719.0</td>\n      <td>6.3</td>\n      <td>2.35</td>\n      <td>660</td>\n    </tr>\n    <tr>\n      <th>4915</th>\n      <td>Color</td>\n      <td>Jon Gunn</td>\n      <td>43.0</td>\n      <td>90.0</td>\n      <td>16.0</td>\n      <td>16.0</td>\n      <td>Brian Herzlinger</td>\n      <td>86.0</td>\n      <td>85222.0</td>\n      <td>Documentary</td>\n      <td>...</td>\n      <td>84.0</td>\n      <td>English</td>\n      <td>USA</td>\n      <td>PG</td>\n      <td>1100.0</td>\n      <td>2004.0</td>\n      <td>23.0</td>\n      <td>6.6</td>\n      <td>1.85</td>\n      <td>456</td>\n    </tr>\n  </tbody>\n</table>\n<p>4916 rows × 28 columns</p>\n</div>"
     },
     "execution_count": 35,
     "metadata": {},
     "output_type": "execute_result"
    }
   ]
  },
  {
   "cell_type": "markdown",
   "metadata": {
    "id": "iTLOdicd5JSp"
   },
   "source": [
    "## Arytmetyka serii danych\n",
    "\n",
    "Na obiektach klasy Series można stosować podstawowe operatory arytmetyczne. Przykładowo, do pięciu pierwszych wierszy kolumny imdb_score zostanie dodana wartość 1:"
   ]
  },
  {
   "cell_type": "code",
   "metadata": {
    "colab": {
     "base_uri": "https://localhost:8080/"
    },
    "id": "qpX7JdIR409v",
    "executionInfo": {
     "status": "ok",
     "timestamp": 1618402197682,
     "user_tz": -120,
     "elapsed": 2498,
     "user": {
      "displayName": "Tomasz",
      "photoUrl": "",
      "userId": "05358483110003930735"
     }
    },
    "outputId": "1cd034bf-27db-4727-98f7-c40cb88449b0",
    "ExecuteTime": {
     "end_time": "2024-01-20T10:43:35.287801Z",
     "start_time": "2024-01-20T10:43:34.921048Z"
    }
   },
   "source": [
    "movie['imdb_score'].head()  "
   ],
   "execution_count": 36,
   "outputs": [
    {
     "data": {
      "text/plain": "0    7.9\n1    7.1\n2    6.8\n3    8.5\n4    7.1\nName: imdb_score, dtype: float64"
     },
     "execution_count": 36,
     "metadata": {},
     "output_type": "execute_result"
    }
   ]
  },
  {
   "cell_type": "code",
   "metadata": {
    "colab": {
     "base_uri": "https://localhost:8080/"
    },
    "id": "d9R9zDq65lFB",
    "executionInfo": {
     "status": "ok",
     "timestamp": 1618402197682,
     "user_tz": -120,
     "elapsed": 2496,
     "user": {
      "displayName": "Tomasz",
      "photoUrl": "",
      "userId": "05358483110003930735"
     }
    },
    "outputId": "d4e91a1f-4d77-49cb-8205-56a0ad830a97",
    "ExecuteTime": {
     "end_time": "2024-01-20T10:43:35.289265Z",
     "start_time": "2024-01-20T10:43:34.925619Z"
    }
   },
   "source": [
    "movie['imdb_score'].head() + 3 "
   ],
   "execution_count": 37,
   "outputs": [
    {
     "data": {
      "text/plain": "0    10.9\n1    10.1\n2     9.8\n3    11.5\n4    10.1\nName: imdb_score, dtype: float64"
     },
     "execution_count": 37,
     "metadata": {},
     "output_type": "execute_result"
    }
   ]
  },
  {
   "cell_type": "markdown",
   "metadata": {
    "id": "2zxB2deV5vIy"
   },
   "source": [
    "W analogiczny sposób można dokonywać innych operacji arytmetycznych, takich jak odejmowanie, mnożenie, dzielenie.\n",
    "\n",
    "## Operacje logiczne na serii danych\n",
    "\n",
    "W wyniku operacji na ramkach danych, zostanie zwrócona nowa ramka zawierająca wartości logiczne będące wynikiem dokonanej operacji. Przykładowo, sprawdzenie czy 5 pierwszych wartości w kolumnie imdb_score są większe od 7.5:\n"
   ]
  },
  {
   "cell_type": "code",
   "metadata": {
    "colab": {
     "base_uri": "https://localhost:8080/"
    },
    "id": "ZPpldrYP5pMX",
    "executionInfo": {
     "status": "ok",
     "timestamp": 1618402197682,
     "user_tz": -120,
     "elapsed": 2493,
     "user": {
      "displayName": "Tomasz",
      "photoUrl": "",
      "userId": "05358483110003930735"
     }
    },
    "outputId": "e4a26aff-199f-4da8-cc7a-89513dffe5c4",
    "ExecuteTime": {
     "end_time": "2024-01-20T10:43:35.289480Z",
     "start_time": "2024-01-20T10:43:34.929505Z"
    }
   },
   "source": [
    "movie['imdb_score'].head() > 7.5  "
   ],
   "execution_count": 38,
   "outputs": [
    {
     "data": {
      "text/plain": "0     True\n1    False\n2    False\n3     True\n4    False\nName: imdb_score, dtype: bool"
     },
     "execution_count": 38,
     "metadata": {},
     "output_type": "execute_result"
    }
   ]
  },
  {
   "cell_type": "markdown",
   "metadata": {
    "id": "8u4Youib6yzE"
   },
   "source": [
    "W analogiczny sposób można dokonywać operacji logicznych porównania, większości, mniejszości itd."
   ]
  },
  {
   "cell_type": "markdown",
   "metadata": {
    "id": "A2Sax_v967mP"
   },
   "source": [
    "## Ustawianie indeksów w ramce danych\n",
    "\n",
    "Metoda set_index umożliwia ustawienie wskazanej kolumny jako indeks ramki:"
   ]
  },
  {
   "cell_type": "code",
   "metadata": {
    "colab": {
     "base_uri": "https://localhost:8080/",
     "height": 708
    },
    "id": "OuUJlhF36t4t",
    "executionInfo": {
     "status": "ok",
     "timestamp": 1618402197683,
     "user_tz": -120,
     "elapsed": 2492,
     "user": {
      "displayName": "Tomasz",
      "photoUrl": "",
      "userId": "05358483110003930735"
     }
    },
    "outputId": "b2387e85-d192-44f0-a44c-2769f9084b6a",
    "ExecuteTime": {
     "end_time": "2024-01-21T14:40:33.781497Z",
     "start_time": "2024-01-21T14:40:33.736748Z"
    }
   },
   "source": [
    "movie_new_idx: pd.DataFrame = movie.set_index('movie_title')  \n",
    "\n",
    "movie_new_idx"
   ],
   "execution_count": 10,
   "outputs": [
    {
     "data": {
      "text/plain": "                                            color      director_name  \\\nmovie_title                                                            \nAvatar                                      Color      James Cameron   \nPirates of the Caribbean: At World's End    Color     Gore Verbinski   \nSpectre                                     Color         Sam Mendes   \nThe Dark Knight Rises                       Color  Christopher Nolan   \nStar Wars: Episode VII - The Force Awakens    NaN        Doug Walker   \n...                                           ...                ...   \nSigned Sealed Delivered                     Color        Scott Smith   \nThe Following                               Color                NaN   \nA Plague So Pleasant                        Color   Benjamin Roberds   \nShanghai Calling                            Color        Daniel Hsia   \nMy Date with Drew                           Color           Jon Gunn   \n\n                                            num_critic_for_reviews  duration  \\\nmovie_title                                                                    \nAvatar                                                       723.0     178.0   \nPirates of the Caribbean: At World's End                     302.0     169.0   \nSpectre                                                      602.0     148.0   \nThe Dark Knight Rises                                        813.0     164.0   \nStar Wars: Episode VII - The Force Awakens                     NaN       NaN   \n...                                                            ...       ...   \nSigned Sealed Delivered                                        1.0      87.0   \nThe Following                                                 43.0      43.0   \nA Plague So Pleasant                                          13.0      76.0   \nShanghai Calling                                              14.0     100.0   \nMy Date with Drew                                             43.0      90.0   \n\n                                            director_facebook_likes  \\\nmovie_title                                                           \nAvatar                                                          0.0   \nPirates of the Caribbean: At World's End                      563.0   \nSpectre                                                         0.0   \nThe Dark Knight Rises                                       22000.0   \nStar Wars: Episode VII - The Force Awakens                    131.0   \n...                                                             ...   \nSigned Sealed Delivered                                         2.0   \nThe Following                                                   NaN   \nA Plague So Pleasant                                            0.0   \nShanghai Calling                                                0.0   \nMy Date with Drew                                              16.0   \n\n                                            actor_3_facebook_likes  \\\nmovie_title                                                          \nAvatar                                                       855.0   \nPirates of the Caribbean: At World's End                    1000.0   \nSpectre                                                      161.0   \nThe Dark Knight Rises                                      23000.0   \nStar Wars: Episode VII - The Force Awakens                     NaN   \n...                                                            ...   \nSigned Sealed Delivered                                      318.0   \nThe Following                                                319.0   \nA Plague So Pleasant                                           0.0   \nShanghai Calling                                             489.0   \nMy Date with Drew                                             16.0   \n\n                                                actor_2_name  \\\nmovie_title                                                    \nAvatar                                      Joel David Moore   \nPirates of the Caribbean: At World's End       Orlando Bloom   \nSpectre                                         Rory Kinnear   \nThe Dark Knight Rises                         Christian Bale   \nStar Wars: Episode VII - The Force Awakens        Rob Walker   \n...                                                      ...   \nSigned Sealed Delivered                        Daphne Zuniga   \nThe Following                                  Valorie Curry   \nA Plague So Pleasant                           Maxwell Moody   \nShanghai Calling                               Daniel Henney   \nMy Date with Drew                           Brian Herzlinger   \n\n                                            actor_1_facebook_likes  \\\nmovie_title                                                          \nAvatar                                                      1000.0   \nPirates of the Caribbean: At World's End                   40000.0   \nSpectre                                                    11000.0   \nThe Dark Knight Rises                                      27000.0   \nStar Wars: Episode VII - The Force Awakens                   131.0   \n...                                                            ...   \nSigned Sealed Delivered                                      637.0   \nThe Following                                                841.0   \nA Plague So Pleasant                                           0.0   \nShanghai Calling                                             946.0   \nMy Date with Drew                                             86.0   \n\n                                                  gross  \\\nmovie_title                                               \nAvatar                                      760505847.0   \nPirates of the Caribbean: At World's End    309404152.0   \nSpectre                                     200074175.0   \nThe Dark Knight Rises                       448130642.0   \nStar Wars: Episode VII - The Force Awakens          NaN   \n...                                                 ...   \nSigned Sealed Delivered                             NaN   \nThe Following                                       NaN   \nA Plague So Pleasant                                NaN   \nShanghai Calling                                10443.0   \nMy Date with Drew                               85222.0   \n\n                                                                     genres  \\\nmovie_title                                                                   \nAvatar                                      Action|Adventure|Fantasy|Sci-Fi   \nPirates of the Caribbean: At World's End           Action|Adventure|Fantasy   \nSpectre                                           Action|Adventure|Thriller   \nThe Dark Knight Rises                                       Action|Thriller   \nStar Wars: Episode VII - The Force Awakens                      Documentary   \n...                                                                     ...   \nSigned Sealed Delivered                                        Comedy|Drama   \nThe Following                                  Crime|Drama|Mystery|Thriller   \nA Plague So Pleasant                                  Drama|Horror|Thriller   \nShanghai Calling                                       Comedy|Drama|Romance   \nMy Date with Drew                                               Documentary   \n\n                                            ... num_user_for_reviews  \\\nmovie_title                                 ...                        \nAvatar                                      ...               3054.0   \nPirates of the Caribbean: At World's End    ...               1238.0   \nSpectre                                     ...                994.0   \nThe Dark Knight Rises                       ...               2701.0   \nStar Wars: Episode VII - The Force Awakens  ...                  NaN   \n...                                         ...                  ...   \nSigned Sealed Delivered                     ...                  6.0   \nThe Following                               ...                359.0   \nA Plague So Pleasant                        ...                  3.0   \nShanghai Calling                            ...                  9.0   \nMy Date with Drew                           ...                 84.0   \n\n                                            language  country content_rating  \\\nmovie_title                                                                    \nAvatar                                       English      USA          PG-13   \nPirates of the Caribbean: At World's End     English      USA          PG-13   \nSpectre                                      English       UK          PG-13   \nThe Dark Knight Rises                        English      USA          PG-13   \nStar Wars: Episode VII - The Force Awakens       NaN      NaN            NaN   \n...                                              ...      ...            ...   \nSigned Sealed Delivered                      English   Canada            NaN   \nThe Following                                English      USA          TV-14   \nA Plague So Pleasant                         English      USA            NaN   \nShanghai Calling                             English      USA          PG-13   \nMy Date with Drew                            English      USA             PG   \n\n                                                 budget title_year  \\\nmovie_title                                                          \nAvatar                                      237000000.0     2009.0   \nPirates of the Caribbean: At World's End    300000000.0     2007.0   \nSpectre                                     245000000.0     2015.0   \nThe Dark Knight Rises                       250000000.0     2012.0   \nStar Wars: Episode VII - The Force Awakens          NaN        NaN   \n...                                                 ...        ...   \nSigned Sealed Delivered                             NaN     2013.0   \nThe Following                                       NaN        NaN   \nA Plague So Pleasant                             1400.0     2013.0   \nShanghai Calling                                    NaN     2012.0   \nMy Date with Drew                                1100.0     2004.0   \n\n                                           actor_2_facebook_likes  imdb_score  \\\nmovie_title                                                                     \nAvatar                                                      936.0         7.9   \nPirates of the Caribbean: At World's End                   5000.0         7.1   \nSpectre                                                     393.0         6.8   \nThe Dark Knight Rises                                     23000.0         8.5   \nStar Wars: Episode VII - The Force Awakens                   12.0         7.1   \n...                                                           ...         ...   \nSigned Sealed Delivered                                     470.0         7.7   \nThe Following                                               593.0         7.5   \nA Plague So Pleasant                                          0.0         6.3   \nShanghai Calling                                            719.0         6.3   \nMy Date with Drew                                            23.0         6.6   \n\n                                           aspect_ratio movie_facebook_likes  \nmovie_title                                                                   \nAvatar                                             1.78                33000  \nPirates of the Caribbean: At World's End           2.35                    0  \nSpectre                                            2.35                85000  \nThe Dark Knight Rises                              2.35               164000  \nStar Wars: Episode VII - The Force Awakens          NaN                    0  \n...                                                 ...                  ...  \nSigned Sealed Delivered                             NaN                   84  \nThe Following                                     16.00                32000  \nA Plague So Pleasant                                NaN                   16  \nShanghai Calling                                   2.35                  660  \nMy Date with Drew                                  1.85                  456  \n\n[4916 rows x 27 columns]",
      "text/html": "<div>\n<style scoped>\n    .dataframe tbody tr th:only-of-type {\n        vertical-align: middle;\n    }\n\n    .dataframe tbody tr th {\n        vertical-align: top;\n    }\n\n    .dataframe thead th {\n        text-align: right;\n    }\n</style>\n<table border=\"1\" class=\"dataframe\">\n  <thead>\n    <tr style=\"text-align: right;\">\n      <th></th>\n      <th>color</th>\n      <th>director_name</th>\n      <th>num_critic_for_reviews</th>\n      <th>duration</th>\n      <th>director_facebook_likes</th>\n      <th>actor_3_facebook_likes</th>\n      <th>actor_2_name</th>\n      <th>actor_1_facebook_likes</th>\n      <th>gross</th>\n      <th>genres</th>\n      <th>...</th>\n      <th>num_user_for_reviews</th>\n      <th>language</th>\n      <th>country</th>\n      <th>content_rating</th>\n      <th>budget</th>\n      <th>title_year</th>\n      <th>actor_2_facebook_likes</th>\n      <th>imdb_score</th>\n      <th>aspect_ratio</th>\n      <th>movie_facebook_likes</th>\n    </tr>\n    <tr>\n      <th>movie_title</th>\n      <th></th>\n      <th></th>\n      <th></th>\n      <th></th>\n      <th></th>\n      <th></th>\n      <th></th>\n      <th></th>\n      <th></th>\n      <th></th>\n      <th></th>\n      <th></th>\n      <th></th>\n      <th></th>\n      <th></th>\n      <th></th>\n      <th></th>\n      <th></th>\n      <th></th>\n      <th></th>\n      <th></th>\n    </tr>\n  </thead>\n  <tbody>\n    <tr>\n      <th>Avatar</th>\n      <td>Color</td>\n      <td>James Cameron</td>\n      <td>723.0</td>\n      <td>178.0</td>\n      <td>0.0</td>\n      <td>855.0</td>\n      <td>Joel David Moore</td>\n      <td>1000.0</td>\n      <td>760505847.0</td>\n      <td>Action|Adventure|Fantasy|Sci-Fi</td>\n      <td>...</td>\n      <td>3054.0</td>\n      <td>English</td>\n      <td>USA</td>\n      <td>PG-13</td>\n      <td>237000000.0</td>\n      <td>2009.0</td>\n      <td>936.0</td>\n      <td>7.9</td>\n      <td>1.78</td>\n      <td>33000</td>\n    </tr>\n    <tr>\n      <th>Pirates of the Caribbean: At World's End</th>\n      <td>Color</td>\n      <td>Gore Verbinski</td>\n      <td>302.0</td>\n      <td>169.0</td>\n      <td>563.0</td>\n      <td>1000.0</td>\n      <td>Orlando Bloom</td>\n      <td>40000.0</td>\n      <td>309404152.0</td>\n      <td>Action|Adventure|Fantasy</td>\n      <td>...</td>\n      <td>1238.0</td>\n      <td>English</td>\n      <td>USA</td>\n      <td>PG-13</td>\n      <td>300000000.0</td>\n      <td>2007.0</td>\n      <td>5000.0</td>\n      <td>7.1</td>\n      <td>2.35</td>\n      <td>0</td>\n    </tr>\n    <tr>\n      <th>Spectre</th>\n      <td>Color</td>\n      <td>Sam Mendes</td>\n      <td>602.0</td>\n      <td>148.0</td>\n      <td>0.0</td>\n      <td>161.0</td>\n      <td>Rory Kinnear</td>\n      <td>11000.0</td>\n      <td>200074175.0</td>\n      <td>Action|Adventure|Thriller</td>\n      <td>...</td>\n      <td>994.0</td>\n      <td>English</td>\n      <td>UK</td>\n      <td>PG-13</td>\n      <td>245000000.0</td>\n      <td>2015.0</td>\n      <td>393.0</td>\n      <td>6.8</td>\n      <td>2.35</td>\n      <td>85000</td>\n    </tr>\n    <tr>\n      <th>The Dark Knight Rises</th>\n      <td>Color</td>\n      <td>Christopher Nolan</td>\n      <td>813.0</td>\n      <td>164.0</td>\n      <td>22000.0</td>\n      <td>23000.0</td>\n      <td>Christian Bale</td>\n      <td>27000.0</td>\n      <td>448130642.0</td>\n      <td>Action|Thriller</td>\n      <td>...</td>\n      <td>2701.0</td>\n      <td>English</td>\n      <td>USA</td>\n      <td>PG-13</td>\n      <td>250000000.0</td>\n      <td>2012.0</td>\n      <td>23000.0</td>\n      <td>8.5</td>\n      <td>2.35</td>\n      <td>164000</td>\n    </tr>\n    <tr>\n      <th>Star Wars: Episode VII - The Force Awakens</th>\n      <td>NaN</td>\n      <td>Doug Walker</td>\n      <td>NaN</td>\n      <td>NaN</td>\n      <td>131.0</td>\n      <td>NaN</td>\n      <td>Rob Walker</td>\n      <td>131.0</td>\n      <td>NaN</td>\n      <td>Documentary</td>\n      <td>...</td>\n      <td>NaN</td>\n      <td>NaN</td>\n      <td>NaN</td>\n      <td>NaN</td>\n      <td>NaN</td>\n      <td>NaN</td>\n      <td>12.0</td>\n      <td>7.1</td>\n      <td>NaN</td>\n      <td>0</td>\n    </tr>\n    <tr>\n      <th>...</th>\n      <td>...</td>\n      <td>...</td>\n      <td>...</td>\n      <td>...</td>\n      <td>...</td>\n      <td>...</td>\n      <td>...</td>\n      <td>...</td>\n      <td>...</td>\n      <td>...</td>\n      <td>...</td>\n      <td>...</td>\n      <td>...</td>\n      <td>...</td>\n      <td>...</td>\n      <td>...</td>\n      <td>...</td>\n      <td>...</td>\n      <td>...</td>\n      <td>...</td>\n      <td>...</td>\n    </tr>\n    <tr>\n      <th>Signed Sealed Delivered</th>\n      <td>Color</td>\n      <td>Scott Smith</td>\n      <td>1.0</td>\n      <td>87.0</td>\n      <td>2.0</td>\n      <td>318.0</td>\n      <td>Daphne Zuniga</td>\n      <td>637.0</td>\n      <td>NaN</td>\n      <td>Comedy|Drama</td>\n      <td>...</td>\n      <td>6.0</td>\n      <td>English</td>\n      <td>Canada</td>\n      <td>NaN</td>\n      <td>NaN</td>\n      <td>2013.0</td>\n      <td>470.0</td>\n      <td>7.7</td>\n      <td>NaN</td>\n      <td>84</td>\n    </tr>\n    <tr>\n      <th>The Following</th>\n      <td>Color</td>\n      <td>NaN</td>\n      <td>43.0</td>\n      <td>43.0</td>\n      <td>NaN</td>\n      <td>319.0</td>\n      <td>Valorie Curry</td>\n      <td>841.0</td>\n      <td>NaN</td>\n      <td>Crime|Drama|Mystery|Thriller</td>\n      <td>...</td>\n      <td>359.0</td>\n      <td>English</td>\n      <td>USA</td>\n      <td>TV-14</td>\n      <td>NaN</td>\n      <td>NaN</td>\n      <td>593.0</td>\n      <td>7.5</td>\n      <td>16.00</td>\n      <td>32000</td>\n    </tr>\n    <tr>\n      <th>A Plague So Pleasant</th>\n      <td>Color</td>\n      <td>Benjamin Roberds</td>\n      <td>13.0</td>\n      <td>76.0</td>\n      <td>0.0</td>\n      <td>0.0</td>\n      <td>Maxwell Moody</td>\n      <td>0.0</td>\n      <td>NaN</td>\n      <td>Drama|Horror|Thriller</td>\n      <td>...</td>\n      <td>3.0</td>\n      <td>English</td>\n      <td>USA</td>\n      <td>NaN</td>\n      <td>1400.0</td>\n      <td>2013.0</td>\n      <td>0.0</td>\n      <td>6.3</td>\n      <td>NaN</td>\n      <td>16</td>\n    </tr>\n    <tr>\n      <th>Shanghai Calling</th>\n      <td>Color</td>\n      <td>Daniel Hsia</td>\n      <td>14.0</td>\n      <td>100.0</td>\n      <td>0.0</td>\n      <td>489.0</td>\n      <td>Daniel Henney</td>\n      <td>946.0</td>\n      <td>10443.0</td>\n      <td>Comedy|Drama|Romance</td>\n      <td>...</td>\n      <td>9.0</td>\n      <td>English</td>\n      <td>USA</td>\n      <td>PG-13</td>\n      <td>NaN</td>\n      <td>2012.0</td>\n      <td>719.0</td>\n      <td>6.3</td>\n      <td>2.35</td>\n      <td>660</td>\n    </tr>\n    <tr>\n      <th>My Date with Drew</th>\n      <td>Color</td>\n      <td>Jon Gunn</td>\n      <td>43.0</td>\n      <td>90.0</td>\n      <td>16.0</td>\n      <td>16.0</td>\n      <td>Brian Herzlinger</td>\n      <td>86.0</td>\n      <td>85222.0</td>\n      <td>Documentary</td>\n      <td>...</td>\n      <td>84.0</td>\n      <td>English</td>\n      <td>USA</td>\n      <td>PG</td>\n      <td>1100.0</td>\n      <td>2004.0</td>\n      <td>23.0</td>\n      <td>6.6</td>\n      <td>1.85</td>\n      <td>456</td>\n    </tr>\n  </tbody>\n</table>\n<p>4916 rows × 27 columns</p>\n</div>"
     },
     "execution_count": 10,
     "metadata": {},
     "output_type": "execute_result"
    }
   ]
  },
  {
   "cell_type": "markdown",
   "metadata": {
    "id": "l7MYYHjf72SW"
   },
   "source": [
    "Taki sam efekt można uzyskać wskazując nazwę kolumny przy wczytywaniu pliku csv (funkcja read_csv) w parametrze index_col.\n",
    "\n",
    "## Zmiana nazw kolumn oraz indeksów wierszy\n",
    "\n",
    "W tym celu należy użyć metody rename wywołanej na obiekcie klasy DataFrame przekazując słowniki mapujące stare nazwy na nowe:"
   ]
  },
  {
   "cell_type": "code",
   "metadata": {
    "colab": {
     "base_uri": "https://localhost:8080/",
     "height": 538
    },
    "id": "hcDaXzVL7lFL",
    "executionInfo": {
     "status": "ok",
     "timestamp": 1618402197683,
     "user_tz": -120,
     "elapsed": 2490,
     "user": {
      "displayName": "Tomasz",
      "photoUrl": "",
      "userId": "05358483110003930735"
     }
    },
    "outputId": "8e2409b6-08a7-4609-aabb-50755f531307",
    "ExecuteTime": {
     "end_time": "2024-01-21T14:42:24.765804Z",
     "start_time": "2024-01-21T14:42:24.728424Z"
    }
   },
   "source": [
    "from typing import Dict\n",
    "\n",
    "idx_rename: Dict[str, str] = {  \n",
    "    'Avatar': 'Avatar II',\n",
    "    'Spectre': 'Spectre II',\n",
    "}\n",
    "\n",
    "col_rename: Dict[str, str] = {  \n",
    "    'director_facebook_likes': 'Director FB likes',\n",
    "    'num_critic_for_reviews': 'Num critic for reviews',\n",
    "}\n",
    "\n",
    "movie_new_idx = movie_new_idx.rename(index=idx_rename, columns=col_rename)  \n",
    "\n",
    "movie_new_idx.head(n=7)  "
   ],
   "execution_count": 11,
   "outputs": [
    {
     "data": {
      "text/plain": "                                            color      director_name  \\\nmovie_title                                                            \nAvatar II                                   Color      James Cameron   \nPirates of the Caribbean: At World's End    Color     Gore Verbinski   \nSpectre II                                  Color         Sam Mendes   \nThe Dark Knight Rises                       Color  Christopher Nolan   \nStar Wars: Episode VII - The Force Awakens    NaN        Doug Walker   \nJohn Carter                                 Color     Andrew Stanton   \nSpider-Man 3                                Color          Sam Raimi   \n\n                                            Num critic for reviews  duration  \\\nmovie_title                                                                    \nAvatar II                                                    723.0     178.0   \nPirates of the Caribbean: At World's End                     302.0     169.0   \nSpectre II                                                   602.0     148.0   \nThe Dark Knight Rises                                        813.0     164.0   \nStar Wars: Episode VII - The Force Awakens                     NaN       NaN   \nJohn Carter                                                  462.0     132.0   \nSpider-Man 3                                                 392.0     156.0   \n\n                                            Director FB likes  \\\nmovie_title                                                     \nAvatar II                                                 0.0   \nPirates of the Caribbean: At World's End                563.0   \nSpectre II                                                0.0   \nThe Dark Knight Rises                                 22000.0   \nStar Wars: Episode VII - The Force Awakens              131.0   \nJohn Carter                                             475.0   \nSpider-Man 3                                              0.0   \n\n                                            actor_3_facebook_likes  \\\nmovie_title                                                          \nAvatar II                                                    855.0   \nPirates of the Caribbean: At World's End                    1000.0   \nSpectre II                                                   161.0   \nThe Dark Knight Rises                                      23000.0   \nStar Wars: Episode VII - The Force Awakens                     NaN   \nJohn Carter                                                  530.0   \nSpider-Man 3                                                4000.0   \n\n                                                actor_2_name  \\\nmovie_title                                                    \nAvatar II                                   Joel David Moore   \nPirates of the Caribbean: At World's End       Orlando Bloom   \nSpectre II                                      Rory Kinnear   \nThe Dark Knight Rises                         Christian Bale   \nStar Wars: Episode VII - The Force Awakens        Rob Walker   \nJohn Carter                                  Samantha Morton   \nSpider-Man 3                                    James Franco   \n\n                                            actor_1_facebook_likes  \\\nmovie_title                                                          \nAvatar II                                                   1000.0   \nPirates of the Caribbean: At World's End                   40000.0   \nSpectre II                                                 11000.0   \nThe Dark Knight Rises                                      27000.0   \nStar Wars: Episode VII - The Force Awakens                   131.0   \nJohn Carter                                                  640.0   \nSpider-Man 3                                               24000.0   \n\n                                                  gross  \\\nmovie_title                                               \nAvatar II                                   760505847.0   \nPirates of the Caribbean: At World's End    309404152.0   \nSpectre II                                  200074175.0   \nThe Dark Knight Rises                       448130642.0   \nStar Wars: Episode VII - The Force Awakens          NaN   \nJohn Carter                                  73058679.0   \nSpider-Man 3                                336530303.0   \n\n                                                                     genres  \\\nmovie_title                                                                   \nAvatar II                                   Action|Adventure|Fantasy|Sci-Fi   \nPirates of the Caribbean: At World's End           Action|Adventure|Fantasy   \nSpectre II                                        Action|Adventure|Thriller   \nThe Dark Knight Rises                                       Action|Thriller   \nStar Wars: Episode VII - The Force Awakens                      Documentary   \nJohn Carter                                         Action|Adventure|Sci-Fi   \nSpider-Man 3                                       Action|Adventure|Romance   \n\n                                            ... num_user_for_reviews  \\\nmovie_title                                 ...                        \nAvatar II                                   ...               3054.0   \nPirates of the Caribbean: At World's End    ...               1238.0   \nSpectre II                                  ...                994.0   \nThe Dark Knight Rises                       ...               2701.0   \nStar Wars: Episode VII - The Force Awakens  ...                  NaN   \nJohn Carter                                 ...                738.0   \nSpider-Man 3                                ...               1902.0   \n\n                                            language  country content_rating  \\\nmovie_title                                                                    \nAvatar II                                    English      USA          PG-13   \nPirates of the Caribbean: At World's End     English      USA          PG-13   \nSpectre II                                   English       UK          PG-13   \nThe Dark Knight Rises                        English      USA          PG-13   \nStar Wars: Episode VII - The Force Awakens       NaN      NaN            NaN   \nJohn Carter                                  English      USA          PG-13   \nSpider-Man 3                                 English      USA          PG-13   \n\n                                                 budget title_year  \\\nmovie_title                                                          \nAvatar II                                   237000000.0     2009.0   \nPirates of the Caribbean: At World's End    300000000.0     2007.0   \nSpectre II                                  245000000.0     2015.0   \nThe Dark Knight Rises                       250000000.0     2012.0   \nStar Wars: Episode VII - The Force Awakens          NaN        NaN   \nJohn Carter                                 263700000.0     2012.0   \nSpider-Man 3                                258000000.0     2007.0   \n\n                                           actor_2_facebook_likes  imdb_score  \\\nmovie_title                                                                     \nAvatar II                                                   936.0         7.9   \nPirates of the Caribbean: At World's End                   5000.0         7.1   \nSpectre II                                                  393.0         6.8   \nThe Dark Knight Rises                                     23000.0         8.5   \nStar Wars: Episode VII - The Force Awakens                   12.0         7.1   \nJohn Carter                                                 632.0         6.6   \nSpider-Man 3                                              11000.0         6.2   \n\n                                           aspect_ratio movie_facebook_likes  \nmovie_title                                                                   \nAvatar II                                          1.78                33000  \nPirates of the Caribbean: At World's End           2.35                    0  \nSpectre II                                         2.35                85000  \nThe Dark Knight Rises                              2.35               164000  \nStar Wars: Episode VII - The Force Awakens          NaN                    0  \nJohn Carter                                        2.35                24000  \nSpider-Man 3                                       2.35                    0  \n\n[7 rows x 27 columns]",
      "text/html": "<div>\n<style scoped>\n    .dataframe tbody tr th:only-of-type {\n        vertical-align: middle;\n    }\n\n    .dataframe tbody tr th {\n        vertical-align: top;\n    }\n\n    .dataframe thead th {\n        text-align: right;\n    }\n</style>\n<table border=\"1\" class=\"dataframe\">\n  <thead>\n    <tr style=\"text-align: right;\">\n      <th></th>\n      <th>color</th>\n      <th>director_name</th>\n      <th>Num critic for reviews</th>\n      <th>duration</th>\n      <th>Director FB likes</th>\n      <th>actor_3_facebook_likes</th>\n      <th>actor_2_name</th>\n      <th>actor_1_facebook_likes</th>\n      <th>gross</th>\n      <th>genres</th>\n      <th>...</th>\n      <th>num_user_for_reviews</th>\n      <th>language</th>\n      <th>country</th>\n      <th>content_rating</th>\n      <th>budget</th>\n      <th>title_year</th>\n      <th>actor_2_facebook_likes</th>\n      <th>imdb_score</th>\n      <th>aspect_ratio</th>\n      <th>movie_facebook_likes</th>\n    </tr>\n    <tr>\n      <th>movie_title</th>\n      <th></th>\n      <th></th>\n      <th></th>\n      <th></th>\n      <th></th>\n      <th></th>\n      <th></th>\n      <th></th>\n      <th></th>\n      <th></th>\n      <th></th>\n      <th></th>\n      <th></th>\n      <th></th>\n      <th></th>\n      <th></th>\n      <th></th>\n      <th></th>\n      <th></th>\n      <th></th>\n      <th></th>\n    </tr>\n  </thead>\n  <tbody>\n    <tr>\n      <th>Avatar II</th>\n      <td>Color</td>\n      <td>James Cameron</td>\n      <td>723.0</td>\n      <td>178.0</td>\n      <td>0.0</td>\n      <td>855.0</td>\n      <td>Joel David Moore</td>\n      <td>1000.0</td>\n      <td>760505847.0</td>\n      <td>Action|Adventure|Fantasy|Sci-Fi</td>\n      <td>...</td>\n      <td>3054.0</td>\n      <td>English</td>\n      <td>USA</td>\n      <td>PG-13</td>\n      <td>237000000.0</td>\n      <td>2009.0</td>\n      <td>936.0</td>\n      <td>7.9</td>\n      <td>1.78</td>\n      <td>33000</td>\n    </tr>\n    <tr>\n      <th>Pirates of the Caribbean: At World's End</th>\n      <td>Color</td>\n      <td>Gore Verbinski</td>\n      <td>302.0</td>\n      <td>169.0</td>\n      <td>563.0</td>\n      <td>1000.0</td>\n      <td>Orlando Bloom</td>\n      <td>40000.0</td>\n      <td>309404152.0</td>\n      <td>Action|Adventure|Fantasy</td>\n      <td>...</td>\n      <td>1238.0</td>\n      <td>English</td>\n      <td>USA</td>\n      <td>PG-13</td>\n      <td>300000000.0</td>\n      <td>2007.0</td>\n      <td>5000.0</td>\n      <td>7.1</td>\n      <td>2.35</td>\n      <td>0</td>\n    </tr>\n    <tr>\n      <th>Spectre II</th>\n      <td>Color</td>\n      <td>Sam Mendes</td>\n      <td>602.0</td>\n      <td>148.0</td>\n      <td>0.0</td>\n      <td>161.0</td>\n      <td>Rory Kinnear</td>\n      <td>11000.0</td>\n      <td>200074175.0</td>\n      <td>Action|Adventure|Thriller</td>\n      <td>...</td>\n      <td>994.0</td>\n      <td>English</td>\n      <td>UK</td>\n      <td>PG-13</td>\n      <td>245000000.0</td>\n      <td>2015.0</td>\n      <td>393.0</td>\n      <td>6.8</td>\n      <td>2.35</td>\n      <td>85000</td>\n    </tr>\n    <tr>\n      <th>The Dark Knight Rises</th>\n      <td>Color</td>\n      <td>Christopher Nolan</td>\n      <td>813.0</td>\n      <td>164.0</td>\n      <td>22000.0</td>\n      <td>23000.0</td>\n      <td>Christian Bale</td>\n      <td>27000.0</td>\n      <td>448130642.0</td>\n      <td>Action|Thriller</td>\n      <td>...</td>\n      <td>2701.0</td>\n      <td>English</td>\n      <td>USA</td>\n      <td>PG-13</td>\n      <td>250000000.0</td>\n      <td>2012.0</td>\n      <td>23000.0</td>\n      <td>8.5</td>\n      <td>2.35</td>\n      <td>164000</td>\n    </tr>\n    <tr>\n      <th>Star Wars: Episode VII - The Force Awakens</th>\n      <td>NaN</td>\n      <td>Doug Walker</td>\n      <td>NaN</td>\n      <td>NaN</td>\n      <td>131.0</td>\n      <td>NaN</td>\n      <td>Rob Walker</td>\n      <td>131.0</td>\n      <td>NaN</td>\n      <td>Documentary</td>\n      <td>...</td>\n      <td>NaN</td>\n      <td>NaN</td>\n      <td>NaN</td>\n      <td>NaN</td>\n      <td>NaN</td>\n      <td>NaN</td>\n      <td>12.0</td>\n      <td>7.1</td>\n      <td>NaN</td>\n      <td>0</td>\n    </tr>\n    <tr>\n      <th>John Carter</th>\n      <td>Color</td>\n      <td>Andrew Stanton</td>\n      <td>462.0</td>\n      <td>132.0</td>\n      <td>475.0</td>\n      <td>530.0</td>\n      <td>Samantha Morton</td>\n      <td>640.0</td>\n      <td>73058679.0</td>\n      <td>Action|Adventure|Sci-Fi</td>\n      <td>...</td>\n      <td>738.0</td>\n      <td>English</td>\n      <td>USA</td>\n      <td>PG-13</td>\n      <td>263700000.0</td>\n      <td>2012.0</td>\n      <td>632.0</td>\n      <td>6.6</td>\n      <td>2.35</td>\n      <td>24000</td>\n    </tr>\n    <tr>\n      <th>Spider-Man 3</th>\n      <td>Color</td>\n      <td>Sam Raimi</td>\n      <td>392.0</td>\n      <td>156.0</td>\n      <td>0.0</td>\n      <td>4000.0</td>\n      <td>James Franco</td>\n      <td>24000.0</td>\n      <td>336530303.0</td>\n      <td>Action|Adventure|Romance</td>\n      <td>...</td>\n      <td>1902.0</td>\n      <td>English</td>\n      <td>USA</td>\n      <td>PG-13</td>\n      <td>258000000.0</td>\n      <td>2007.0</td>\n      <td>11000.0</td>\n      <td>6.2</td>\n      <td>2.35</td>\n      <td>0</td>\n    </tr>\n  </tbody>\n</table>\n<p>7 rows × 27 columns</p>\n</div>"
     },
     "execution_count": 11,
     "metadata": {},
     "output_type": "execute_result"
    }
   ]
  },
  {
   "cell_type": "markdown",
   "metadata": {
    "id": "aa1jRU2G_OSR"
   },
   "source": [
    "## Tworzenie nowych kolumn\n",
    "\n",
    "Kolumnę ze stałymi wartościami (np. 100) można dodać następująco: (kolumna znajdzie się na końcu ramki)"
   ]
  },
  {
   "cell_type": "code",
   "metadata": {
    "colab": {
     "base_uri": "https://localhost:8080/",
     "height": 442
    },
    "id": "VQ5SQSka_BPJ",
    "executionInfo": {
     "status": "ok",
     "timestamp": 1618402197683,
     "user_tz": -120,
     "elapsed": 2487,
     "user": {
      "displayName": "Tomasz",
      "photoUrl": "",
      "userId": "05358483110003930735"
     }
    },
    "outputId": "a298a973-a2e0-4c8b-c969-d65ae3b1a908",
    "ExecuteTime": {
     "end_time": "2024-01-21T14:46:06.803795Z",
     "start_time": "2024-01-21T14:46:06.792930Z"
    }
   },
   "source": [
    "movie_new_idx['visits_num'] = 100  \n",
    "\n",
    "movie_new_idx.head()"
   ],
   "execution_count": 12,
   "outputs": [
    {
     "data": {
      "text/plain": "                                            color      director_name  \\\nmovie_title                                                            \nAvatar II                                   Color      James Cameron   \nPirates of the Caribbean: At World's End    Color     Gore Verbinski   \nSpectre II                                  Color         Sam Mendes   \nThe Dark Knight Rises                       Color  Christopher Nolan   \nStar Wars: Episode VII - The Force Awakens    NaN        Doug Walker   \n\n                                            Num critic for reviews  duration  \\\nmovie_title                                                                    \nAvatar II                                                    723.0     178.0   \nPirates of the Caribbean: At World's End                     302.0     169.0   \nSpectre II                                                   602.0     148.0   \nThe Dark Knight Rises                                        813.0     164.0   \nStar Wars: Episode VII - The Force Awakens                     NaN       NaN   \n\n                                            Director FB likes  \\\nmovie_title                                                     \nAvatar II                                                 0.0   \nPirates of the Caribbean: At World's End                563.0   \nSpectre II                                                0.0   \nThe Dark Knight Rises                                 22000.0   \nStar Wars: Episode VII - The Force Awakens              131.0   \n\n                                            actor_3_facebook_likes  \\\nmovie_title                                                          \nAvatar II                                                    855.0   \nPirates of the Caribbean: At World's End                    1000.0   \nSpectre II                                                   161.0   \nThe Dark Knight Rises                                      23000.0   \nStar Wars: Episode VII - The Force Awakens                     NaN   \n\n                                                actor_2_name  \\\nmovie_title                                                    \nAvatar II                                   Joel David Moore   \nPirates of the Caribbean: At World's End       Orlando Bloom   \nSpectre II                                      Rory Kinnear   \nThe Dark Knight Rises                         Christian Bale   \nStar Wars: Episode VII - The Force Awakens        Rob Walker   \n\n                                            actor_1_facebook_likes  \\\nmovie_title                                                          \nAvatar II                                                   1000.0   \nPirates of the Caribbean: At World's End                   40000.0   \nSpectre II                                                 11000.0   \nThe Dark Knight Rises                                      27000.0   \nStar Wars: Episode VII - The Force Awakens                   131.0   \n\n                                                  gross  \\\nmovie_title                                               \nAvatar II                                   760505847.0   \nPirates of the Caribbean: At World's End    309404152.0   \nSpectre II                                  200074175.0   \nThe Dark Knight Rises                       448130642.0   \nStar Wars: Episode VII - The Force Awakens          NaN   \n\n                                                                     genres  \\\nmovie_title                                                                   \nAvatar II                                   Action|Adventure|Fantasy|Sci-Fi   \nPirates of the Caribbean: At World's End           Action|Adventure|Fantasy   \nSpectre II                                        Action|Adventure|Thriller   \nThe Dark Knight Rises                                       Action|Thriller   \nStar Wars: Episode VII - The Force Awakens                      Documentary   \n\n                                            ... language  country  \\\nmovie_title                                 ...                     \nAvatar II                                   ...  English      USA   \nPirates of the Caribbean: At World's End    ...  English      USA   \nSpectre II                                  ...  English       UK   \nThe Dark Knight Rises                       ...  English      USA   \nStar Wars: Episode VII - The Force Awakens  ...      NaN      NaN   \n\n                                            content_rating       budget  \\\nmovie_title                                                               \nAvatar II                                            PG-13  237000000.0   \nPirates of the Caribbean: At World's End             PG-13  300000000.0   \nSpectre II                                           PG-13  245000000.0   \nThe Dark Knight Rises                                PG-13  250000000.0   \nStar Wars: Episode VII - The Force Awakens             NaN          NaN   \n\n                                            title_year actor_2_facebook_likes  \\\nmovie_title                                                                     \nAvatar II                                       2009.0                  936.0   \nPirates of the Caribbean: At World's End        2007.0                 5000.0   \nSpectre II                                      2015.0                  393.0   \nThe Dark Knight Rises                           2012.0                23000.0   \nStar Wars: Episode VII - The Force Awakens         NaN                   12.0   \n\n                                           imdb_score  aspect_ratio  \\\nmovie_title                                                           \nAvatar II                                         7.9          1.78   \nPirates of the Caribbean: At World's End          7.1          2.35   \nSpectre II                                        6.8          2.35   \nThe Dark Knight Rises                             8.5          2.35   \nStar Wars: Episode VII - The Force Awakens        7.1           NaN   \n\n                                           movie_facebook_likes visits_num  \nmovie_title                                                                 \nAvatar II                                                 33000        100  \nPirates of the Caribbean: At World's End                      0        100  \nSpectre II                                                85000        100  \nThe Dark Knight Rises                                    164000        100  \nStar Wars: Episode VII - The Force Awakens                    0        100  \n\n[5 rows x 28 columns]",
      "text/html": "<div>\n<style scoped>\n    .dataframe tbody tr th:only-of-type {\n        vertical-align: middle;\n    }\n\n    .dataframe tbody tr th {\n        vertical-align: top;\n    }\n\n    .dataframe thead th {\n        text-align: right;\n    }\n</style>\n<table border=\"1\" class=\"dataframe\">\n  <thead>\n    <tr style=\"text-align: right;\">\n      <th></th>\n      <th>color</th>\n      <th>director_name</th>\n      <th>Num critic for reviews</th>\n      <th>duration</th>\n      <th>Director FB likes</th>\n      <th>actor_3_facebook_likes</th>\n      <th>actor_2_name</th>\n      <th>actor_1_facebook_likes</th>\n      <th>gross</th>\n      <th>genres</th>\n      <th>...</th>\n      <th>language</th>\n      <th>country</th>\n      <th>content_rating</th>\n      <th>budget</th>\n      <th>title_year</th>\n      <th>actor_2_facebook_likes</th>\n      <th>imdb_score</th>\n      <th>aspect_ratio</th>\n      <th>movie_facebook_likes</th>\n      <th>visits_num</th>\n    </tr>\n    <tr>\n      <th>movie_title</th>\n      <th></th>\n      <th></th>\n      <th></th>\n      <th></th>\n      <th></th>\n      <th></th>\n      <th></th>\n      <th></th>\n      <th></th>\n      <th></th>\n      <th></th>\n      <th></th>\n      <th></th>\n      <th></th>\n      <th></th>\n      <th></th>\n      <th></th>\n      <th></th>\n      <th></th>\n      <th></th>\n      <th></th>\n    </tr>\n  </thead>\n  <tbody>\n    <tr>\n      <th>Avatar II</th>\n      <td>Color</td>\n      <td>James Cameron</td>\n      <td>723.0</td>\n      <td>178.0</td>\n      <td>0.0</td>\n      <td>855.0</td>\n      <td>Joel David Moore</td>\n      <td>1000.0</td>\n      <td>760505847.0</td>\n      <td>Action|Adventure|Fantasy|Sci-Fi</td>\n      <td>...</td>\n      <td>English</td>\n      <td>USA</td>\n      <td>PG-13</td>\n      <td>237000000.0</td>\n      <td>2009.0</td>\n      <td>936.0</td>\n      <td>7.9</td>\n      <td>1.78</td>\n      <td>33000</td>\n      <td>100</td>\n    </tr>\n    <tr>\n      <th>Pirates of the Caribbean: At World's End</th>\n      <td>Color</td>\n      <td>Gore Verbinski</td>\n      <td>302.0</td>\n      <td>169.0</td>\n      <td>563.0</td>\n      <td>1000.0</td>\n      <td>Orlando Bloom</td>\n      <td>40000.0</td>\n      <td>309404152.0</td>\n      <td>Action|Adventure|Fantasy</td>\n      <td>...</td>\n      <td>English</td>\n      <td>USA</td>\n      <td>PG-13</td>\n      <td>300000000.0</td>\n      <td>2007.0</td>\n      <td>5000.0</td>\n      <td>7.1</td>\n      <td>2.35</td>\n      <td>0</td>\n      <td>100</td>\n    </tr>\n    <tr>\n      <th>Spectre II</th>\n      <td>Color</td>\n      <td>Sam Mendes</td>\n      <td>602.0</td>\n      <td>148.0</td>\n      <td>0.0</td>\n      <td>161.0</td>\n      <td>Rory Kinnear</td>\n      <td>11000.0</td>\n      <td>200074175.0</td>\n      <td>Action|Adventure|Thriller</td>\n      <td>...</td>\n      <td>English</td>\n      <td>UK</td>\n      <td>PG-13</td>\n      <td>245000000.0</td>\n      <td>2015.0</td>\n      <td>393.0</td>\n      <td>6.8</td>\n      <td>2.35</td>\n      <td>85000</td>\n      <td>100</td>\n    </tr>\n    <tr>\n      <th>The Dark Knight Rises</th>\n      <td>Color</td>\n      <td>Christopher Nolan</td>\n      <td>813.0</td>\n      <td>164.0</td>\n      <td>22000.0</td>\n      <td>23000.0</td>\n      <td>Christian Bale</td>\n      <td>27000.0</td>\n      <td>448130642.0</td>\n      <td>Action|Thriller</td>\n      <td>...</td>\n      <td>English</td>\n      <td>USA</td>\n      <td>PG-13</td>\n      <td>250000000.0</td>\n      <td>2012.0</td>\n      <td>23000.0</td>\n      <td>8.5</td>\n      <td>2.35</td>\n      <td>164000</td>\n      <td>100</td>\n    </tr>\n    <tr>\n      <th>Star Wars: Episode VII - The Force Awakens</th>\n      <td>NaN</td>\n      <td>Doug Walker</td>\n      <td>NaN</td>\n      <td>NaN</td>\n      <td>131.0</td>\n      <td>NaN</td>\n      <td>Rob Walker</td>\n      <td>131.0</td>\n      <td>NaN</td>\n      <td>Documentary</td>\n      <td>...</td>\n      <td>NaN</td>\n      <td>NaN</td>\n      <td>NaN</td>\n      <td>NaN</td>\n      <td>NaN</td>\n      <td>12.0</td>\n      <td>7.1</td>\n      <td>NaN</td>\n      <td>0</td>\n      <td>100</td>\n    </tr>\n  </tbody>\n</table>\n<p>5 rows × 28 columns</p>\n</div>"
     },
     "execution_count": 12,
     "metadata": {},
     "output_type": "execute_result"
    }
   ]
  },
  {
   "cell_type": "markdown",
   "metadata": {
    "id": "QZcMQKU7A6Iv"
   },
   "source": [
    "Biblioteka pandas umożliwia również tworzenie nowych kolumn w ramce na podstawie istniejących. Przykładowo, będzie to kolumna sumująca wszystkie lajki uzyskane przez aktorów i reżysera:"
   ]
  },
  {
   "cell_type": "code",
   "metadata": {
    "colab": {
     "base_uri": "https://localhost:8080/",
     "height": 442
    },
    "id": "VVPQig1gA0HI",
    "executionInfo": {
     "status": "ok",
     "timestamp": 1618402197683,
     "user_tz": -120,
     "elapsed": 2485,
     "user": {
      "displayName": "Tomasz",
      "photoUrl": "",
      "userId": "05358483110003930735"
     }
    },
    "outputId": "16fa5723-b21b-4271-aeed-cbecfa12cb4a",
    "ExecuteTime": {
     "end_time": "2024-01-21T14:46:14.754199Z",
     "start_time": "2024-01-21T14:46:14.714934Z"
    }
   },
   "source": [
    "movie_new_idx['total_facebook_likes'] = (movie_new_idx['actor_1_facebook_likes'] + movie_new_idx['actor_2_facebook_likes'] + movie_new_idx['actor_3_facebook_likes'] + movie_new_idx['Director FB likes'])\n",
    "\n",
    "movie_new_idx.head() "
   ],
   "execution_count": 13,
   "outputs": [
    {
     "data": {
      "text/plain": "                                            color      director_name  \\\nmovie_title                                                            \nAvatar II                                   Color      James Cameron   \nPirates of the Caribbean: At World's End    Color     Gore Verbinski   \nSpectre II                                  Color         Sam Mendes   \nThe Dark Knight Rises                       Color  Christopher Nolan   \nStar Wars: Episode VII - The Force Awakens    NaN        Doug Walker   \n\n                                            Num critic for reviews  duration  \\\nmovie_title                                                                    \nAvatar II                                                    723.0     178.0   \nPirates of the Caribbean: At World's End                     302.0     169.0   \nSpectre II                                                   602.0     148.0   \nThe Dark Knight Rises                                        813.0     164.0   \nStar Wars: Episode VII - The Force Awakens                     NaN       NaN   \n\n                                            Director FB likes  \\\nmovie_title                                                     \nAvatar II                                                 0.0   \nPirates of the Caribbean: At World's End                563.0   \nSpectre II                                                0.0   \nThe Dark Knight Rises                                 22000.0   \nStar Wars: Episode VII - The Force Awakens              131.0   \n\n                                            actor_3_facebook_likes  \\\nmovie_title                                                          \nAvatar II                                                    855.0   \nPirates of the Caribbean: At World's End                    1000.0   \nSpectre II                                                   161.0   \nThe Dark Knight Rises                                      23000.0   \nStar Wars: Episode VII - The Force Awakens                     NaN   \n\n                                                actor_2_name  \\\nmovie_title                                                    \nAvatar II                                   Joel David Moore   \nPirates of the Caribbean: At World's End       Orlando Bloom   \nSpectre II                                      Rory Kinnear   \nThe Dark Knight Rises                         Christian Bale   \nStar Wars: Episode VII - The Force Awakens        Rob Walker   \n\n                                            actor_1_facebook_likes  \\\nmovie_title                                                          \nAvatar II                                                   1000.0   \nPirates of the Caribbean: At World's End                   40000.0   \nSpectre II                                                 11000.0   \nThe Dark Knight Rises                                      27000.0   \nStar Wars: Episode VII - The Force Awakens                   131.0   \n\n                                                  gross  \\\nmovie_title                                               \nAvatar II                                   760505847.0   \nPirates of the Caribbean: At World's End    309404152.0   \nSpectre II                                  200074175.0   \nThe Dark Knight Rises                       448130642.0   \nStar Wars: Episode VII - The Force Awakens          NaN   \n\n                                                                     genres  \\\nmovie_title                                                                   \nAvatar II                                   Action|Adventure|Fantasy|Sci-Fi   \nPirates of the Caribbean: At World's End           Action|Adventure|Fantasy   \nSpectre II                                        Action|Adventure|Thriller   \nThe Dark Knight Rises                                       Action|Thriller   \nStar Wars: Episode VII - The Force Awakens                      Documentary   \n\n                                            ... country  content_rating  \\\nmovie_title                                 ...                           \nAvatar II                                   ...     USA           PG-13   \nPirates of the Caribbean: At World's End    ...     USA           PG-13   \nSpectre II                                  ...      UK           PG-13   \nThe Dark Knight Rises                       ...     USA           PG-13   \nStar Wars: Episode VII - The Force Awakens  ...     NaN             NaN   \n\n                                                 budget title_year  \\\nmovie_title                                                          \nAvatar II                                   237000000.0     2009.0   \nPirates of the Caribbean: At World's End    300000000.0     2007.0   \nSpectre II                                  245000000.0     2015.0   \nThe Dark Knight Rises                       250000000.0     2012.0   \nStar Wars: Episode VII - The Force Awakens          NaN        NaN   \n\n                                            actor_2_facebook_likes imdb_score  \\\nmovie_title                                                                     \nAvatar II                                                    936.0        7.9   \nPirates of the Caribbean: At World's End                    5000.0        7.1   \nSpectre II                                                   393.0        6.8   \nThe Dark Knight Rises                                      23000.0        8.5   \nStar Wars: Episode VII - The Force Awakens                    12.0        7.1   \n\n                                           aspect_ratio  movie_facebook_likes  \\\nmovie_title                                                                     \nAvatar II                                          1.78                 33000   \nPirates of the Caribbean: At World's End           2.35                     0   \nSpectre II                                         2.35                 85000   \nThe Dark Knight Rises                              2.35                164000   \nStar Wars: Episode VII - The Force Awakens          NaN                     0   \n\n                                           visits_num total_facebook_likes  \nmovie_title                                                                 \nAvatar II                                         100               2791.0  \nPirates of the Caribbean: At World's End          100              46563.0  \nSpectre II                                        100              11554.0  \nThe Dark Knight Rises                             100              95000.0  \nStar Wars: Episode VII - The Force Awakens        100                  NaN  \n\n[5 rows x 29 columns]",
      "text/html": "<div>\n<style scoped>\n    .dataframe tbody tr th:only-of-type {\n        vertical-align: middle;\n    }\n\n    .dataframe tbody tr th {\n        vertical-align: top;\n    }\n\n    .dataframe thead th {\n        text-align: right;\n    }\n</style>\n<table border=\"1\" class=\"dataframe\">\n  <thead>\n    <tr style=\"text-align: right;\">\n      <th></th>\n      <th>color</th>\n      <th>director_name</th>\n      <th>Num critic for reviews</th>\n      <th>duration</th>\n      <th>Director FB likes</th>\n      <th>actor_3_facebook_likes</th>\n      <th>actor_2_name</th>\n      <th>actor_1_facebook_likes</th>\n      <th>gross</th>\n      <th>genres</th>\n      <th>...</th>\n      <th>country</th>\n      <th>content_rating</th>\n      <th>budget</th>\n      <th>title_year</th>\n      <th>actor_2_facebook_likes</th>\n      <th>imdb_score</th>\n      <th>aspect_ratio</th>\n      <th>movie_facebook_likes</th>\n      <th>visits_num</th>\n      <th>total_facebook_likes</th>\n    </tr>\n    <tr>\n      <th>movie_title</th>\n      <th></th>\n      <th></th>\n      <th></th>\n      <th></th>\n      <th></th>\n      <th></th>\n      <th></th>\n      <th></th>\n      <th></th>\n      <th></th>\n      <th></th>\n      <th></th>\n      <th></th>\n      <th></th>\n      <th></th>\n      <th></th>\n      <th></th>\n      <th></th>\n      <th></th>\n      <th></th>\n      <th></th>\n    </tr>\n  </thead>\n  <tbody>\n    <tr>\n      <th>Avatar II</th>\n      <td>Color</td>\n      <td>James Cameron</td>\n      <td>723.0</td>\n      <td>178.0</td>\n      <td>0.0</td>\n      <td>855.0</td>\n      <td>Joel David Moore</td>\n      <td>1000.0</td>\n      <td>760505847.0</td>\n      <td>Action|Adventure|Fantasy|Sci-Fi</td>\n      <td>...</td>\n      <td>USA</td>\n      <td>PG-13</td>\n      <td>237000000.0</td>\n      <td>2009.0</td>\n      <td>936.0</td>\n      <td>7.9</td>\n      <td>1.78</td>\n      <td>33000</td>\n      <td>100</td>\n      <td>2791.0</td>\n    </tr>\n    <tr>\n      <th>Pirates of the Caribbean: At World's End</th>\n      <td>Color</td>\n      <td>Gore Verbinski</td>\n      <td>302.0</td>\n      <td>169.0</td>\n      <td>563.0</td>\n      <td>1000.0</td>\n      <td>Orlando Bloom</td>\n      <td>40000.0</td>\n      <td>309404152.0</td>\n      <td>Action|Adventure|Fantasy</td>\n      <td>...</td>\n      <td>USA</td>\n      <td>PG-13</td>\n      <td>300000000.0</td>\n      <td>2007.0</td>\n      <td>5000.0</td>\n      <td>7.1</td>\n      <td>2.35</td>\n      <td>0</td>\n      <td>100</td>\n      <td>46563.0</td>\n    </tr>\n    <tr>\n      <th>Spectre II</th>\n      <td>Color</td>\n      <td>Sam Mendes</td>\n      <td>602.0</td>\n      <td>148.0</td>\n      <td>0.0</td>\n      <td>161.0</td>\n      <td>Rory Kinnear</td>\n      <td>11000.0</td>\n      <td>200074175.0</td>\n      <td>Action|Adventure|Thriller</td>\n      <td>...</td>\n      <td>UK</td>\n      <td>PG-13</td>\n      <td>245000000.0</td>\n      <td>2015.0</td>\n      <td>393.0</td>\n      <td>6.8</td>\n      <td>2.35</td>\n      <td>85000</td>\n      <td>100</td>\n      <td>11554.0</td>\n    </tr>\n    <tr>\n      <th>The Dark Knight Rises</th>\n      <td>Color</td>\n      <td>Christopher Nolan</td>\n      <td>813.0</td>\n      <td>164.0</td>\n      <td>22000.0</td>\n      <td>23000.0</td>\n      <td>Christian Bale</td>\n      <td>27000.0</td>\n      <td>448130642.0</td>\n      <td>Action|Thriller</td>\n      <td>...</td>\n      <td>USA</td>\n      <td>PG-13</td>\n      <td>250000000.0</td>\n      <td>2012.0</td>\n      <td>23000.0</td>\n      <td>8.5</td>\n      <td>2.35</td>\n      <td>164000</td>\n      <td>100</td>\n      <td>95000.0</td>\n    </tr>\n    <tr>\n      <th>Star Wars: Episode VII - The Force Awakens</th>\n      <td>NaN</td>\n      <td>Doug Walker</td>\n      <td>NaN</td>\n      <td>NaN</td>\n      <td>131.0</td>\n      <td>NaN</td>\n      <td>Rob Walker</td>\n      <td>131.0</td>\n      <td>NaN</td>\n      <td>Documentary</td>\n      <td>...</td>\n      <td>NaN</td>\n      <td>NaN</td>\n      <td>NaN</td>\n      <td>NaN</td>\n      <td>12.0</td>\n      <td>7.1</td>\n      <td>NaN</td>\n      <td>0</td>\n      <td>100</td>\n      <td>NaN</td>\n    </tr>\n  </tbody>\n</table>\n<p>5 rows × 29 columns</p>\n</div>"
     },
     "execution_count": 13,
     "metadata": {},
     "output_type": "execute_result"
    }
   ]
  },
  {
   "cell_type": "markdown",
   "metadata": {
    "id": "vKLJSM4RCi3s"
   },
   "source": [
    "## Usuwanie kolumn\n",
    "\n",
    "Do usuwania kolumn z ramki danych można wykorzystać instrukcję del:"
   ]
  },
  {
   "cell_type": "code",
   "metadata": {
    "colab": {
     "base_uri": "https://localhost:8080/",
     "height": 442
    },
    "id": "VqWpdtDRBf5m",
    "executionInfo": {
     "status": "ok",
     "timestamp": 1618402197684,
     "user_tz": -120,
     "elapsed": 2483,
     "user": {
      "displayName": "Tomasz",
      "photoUrl": "",
      "userId": "05358483110003930735"
     }
    },
    "outputId": "8e7832f4-f01c-4a4b-daf0-a626b84cd0ac",
    "ExecuteTime": {
     "end_time": "2024-01-21T14:48:27.526403Z",
     "start_time": "2024-01-21T14:48:27.499261Z"
    }
   },
   "source": [
    "del movie_new_idx['color']  \n",
    "\n",
    "movie_new_idx.head()"
   ],
   "execution_count": 14,
   "outputs": [
    {
     "data": {
      "text/plain": "                                                director_name  \\\nmovie_title                                                     \nAvatar II                                       James Cameron   \nPirates of the Caribbean: At World's End       Gore Verbinski   \nSpectre II                                         Sam Mendes   \nThe Dark Knight Rises                       Christopher Nolan   \nStar Wars: Episode VII - The Force Awakens        Doug Walker   \n\n                                            Num critic for reviews  duration  \\\nmovie_title                                                                    \nAvatar II                                                    723.0     178.0   \nPirates of the Caribbean: At World's End                     302.0     169.0   \nSpectre II                                                   602.0     148.0   \nThe Dark Knight Rises                                        813.0     164.0   \nStar Wars: Episode VII - The Force Awakens                     NaN       NaN   \n\n                                            Director FB likes  \\\nmovie_title                                                     \nAvatar II                                                 0.0   \nPirates of the Caribbean: At World's End                563.0   \nSpectre II                                                0.0   \nThe Dark Knight Rises                                 22000.0   \nStar Wars: Episode VII - The Force Awakens              131.0   \n\n                                            actor_3_facebook_likes  \\\nmovie_title                                                          \nAvatar II                                                    855.0   \nPirates of the Caribbean: At World's End                    1000.0   \nSpectre II                                                   161.0   \nThe Dark Knight Rises                                      23000.0   \nStar Wars: Episode VII - The Force Awakens                     NaN   \n\n                                                actor_2_name  \\\nmovie_title                                                    \nAvatar II                                   Joel David Moore   \nPirates of the Caribbean: At World's End       Orlando Bloom   \nSpectre II                                      Rory Kinnear   \nThe Dark Knight Rises                         Christian Bale   \nStar Wars: Episode VII - The Force Awakens        Rob Walker   \n\n                                            actor_1_facebook_likes  \\\nmovie_title                                                          \nAvatar II                                                   1000.0   \nPirates of the Caribbean: At World's End                   40000.0   \nSpectre II                                                 11000.0   \nThe Dark Knight Rises                                      27000.0   \nStar Wars: Episode VII - The Force Awakens                   131.0   \n\n                                                  gross  \\\nmovie_title                                               \nAvatar II                                   760505847.0   \nPirates of the Caribbean: At World's End    309404152.0   \nSpectre II                                  200074175.0   \nThe Dark Knight Rises                       448130642.0   \nStar Wars: Episode VII - The Force Awakens          NaN   \n\n                                                                     genres  \\\nmovie_title                                                                   \nAvatar II                                   Action|Adventure|Fantasy|Sci-Fi   \nPirates of the Caribbean: At World's End           Action|Adventure|Fantasy   \nSpectre II                                        Action|Adventure|Thriller   \nThe Dark Knight Rises                                       Action|Thriller   \nStar Wars: Episode VII - The Force Awakens                      Documentary   \n\n                                               actor_1_name  ...  country  \\\nmovie_title                                                  ...            \nAvatar II                                       CCH Pounder  ...      USA   \nPirates of the Caribbean: At World's End        Johnny Depp  ...      USA   \nSpectre II                                  Christoph Waltz  ...       UK   \nThe Dark Knight Rises                             Tom Hardy  ...      USA   \nStar Wars: Episode VII - The Force Awakens      Doug Walker  ...      NaN   \n\n                                            content_rating       budget  \\\nmovie_title                                                               \nAvatar II                                            PG-13  237000000.0   \nPirates of the Caribbean: At World's End             PG-13  300000000.0   \nSpectre II                                           PG-13  245000000.0   \nThe Dark Knight Rises                                PG-13  250000000.0   \nStar Wars: Episode VII - The Force Awakens             NaN          NaN   \n\n                                            title_year actor_2_facebook_likes  \\\nmovie_title                                                                     \nAvatar II                                       2009.0                  936.0   \nPirates of the Caribbean: At World's End        2007.0                 5000.0   \nSpectre II                                      2015.0                  393.0   \nThe Dark Knight Rises                           2012.0                23000.0   \nStar Wars: Episode VII - The Force Awakens         NaN                   12.0   \n\n                                           imdb_score  aspect_ratio  \\\nmovie_title                                                           \nAvatar II                                         7.9          1.78   \nPirates of the Caribbean: At World's End          7.1          2.35   \nSpectre II                                        6.8          2.35   \nThe Dark Knight Rises                             8.5          2.35   \nStar Wars: Episode VII - The Force Awakens        7.1           NaN   \n\n                                           movie_facebook_likes visits_num  \\\nmovie_title                                                                  \nAvatar II                                                 33000        100   \nPirates of the Caribbean: At World's End                      0        100   \nSpectre II                                                85000        100   \nThe Dark Knight Rises                                    164000        100   \nStar Wars: Episode VII - The Force Awakens                    0        100   \n\n                                           total_facebook_likes  \nmovie_title                                                      \nAvatar II                                                2791.0  \nPirates of the Caribbean: At World's End                46563.0  \nSpectre II                                              11554.0  \nThe Dark Knight Rises                                   95000.0  \nStar Wars: Episode VII - The Force Awakens                  NaN  \n\n[5 rows x 28 columns]",
      "text/html": "<div>\n<style scoped>\n    .dataframe tbody tr th:only-of-type {\n        vertical-align: middle;\n    }\n\n    .dataframe tbody tr th {\n        vertical-align: top;\n    }\n\n    .dataframe thead th {\n        text-align: right;\n    }\n</style>\n<table border=\"1\" class=\"dataframe\">\n  <thead>\n    <tr style=\"text-align: right;\">\n      <th></th>\n      <th>director_name</th>\n      <th>Num critic for reviews</th>\n      <th>duration</th>\n      <th>Director FB likes</th>\n      <th>actor_3_facebook_likes</th>\n      <th>actor_2_name</th>\n      <th>actor_1_facebook_likes</th>\n      <th>gross</th>\n      <th>genres</th>\n      <th>actor_1_name</th>\n      <th>...</th>\n      <th>country</th>\n      <th>content_rating</th>\n      <th>budget</th>\n      <th>title_year</th>\n      <th>actor_2_facebook_likes</th>\n      <th>imdb_score</th>\n      <th>aspect_ratio</th>\n      <th>movie_facebook_likes</th>\n      <th>visits_num</th>\n      <th>total_facebook_likes</th>\n    </tr>\n    <tr>\n      <th>movie_title</th>\n      <th></th>\n      <th></th>\n      <th></th>\n      <th></th>\n      <th></th>\n      <th></th>\n      <th></th>\n      <th></th>\n      <th></th>\n      <th></th>\n      <th></th>\n      <th></th>\n      <th></th>\n      <th></th>\n      <th></th>\n      <th></th>\n      <th></th>\n      <th></th>\n      <th></th>\n      <th></th>\n      <th></th>\n    </tr>\n  </thead>\n  <tbody>\n    <tr>\n      <th>Avatar II</th>\n      <td>James Cameron</td>\n      <td>723.0</td>\n      <td>178.0</td>\n      <td>0.0</td>\n      <td>855.0</td>\n      <td>Joel David Moore</td>\n      <td>1000.0</td>\n      <td>760505847.0</td>\n      <td>Action|Adventure|Fantasy|Sci-Fi</td>\n      <td>CCH Pounder</td>\n      <td>...</td>\n      <td>USA</td>\n      <td>PG-13</td>\n      <td>237000000.0</td>\n      <td>2009.0</td>\n      <td>936.0</td>\n      <td>7.9</td>\n      <td>1.78</td>\n      <td>33000</td>\n      <td>100</td>\n      <td>2791.0</td>\n    </tr>\n    <tr>\n      <th>Pirates of the Caribbean: At World's End</th>\n      <td>Gore Verbinski</td>\n      <td>302.0</td>\n      <td>169.0</td>\n      <td>563.0</td>\n      <td>1000.0</td>\n      <td>Orlando Bloom</td>\n      <td>40000.0</td>\n      <td>309404152.0</td>\n      <td>Action|Adventure|Fantasy</td>\n      <td>Johnny Depp</td>\n      <td>...</td>\n      <td>USA</td>\n      <td>PG-13</td>\n      <td>300000000.0</td>\n      <td>2007.0</td>\n      <td>5000.0</td>\n      <td>7.1</td>\n      <td>2.35</td>\n      <td>0</td>\n      <td>100</td>\n      <td>46563.0</td>\n    </tr>\n    <tr>\n      <th>Spectre II</th>\n      <td>Sam Mendes</td>\n      <td>602.0</td>\n      <td>148.0</td>\n      <td>0.0</td>\n      <td>161.0</td>\n      <td>Rory Kinnear</td>\n      <td>11000.0</td>\n      <td>200074175.0</td>\n      <td>Action|Adventure|Thriller</td>\n      <td>Christoph Waltz</td>\n      <td>...</td>\n      <td>UK</td>\n      <td>PG-13</td>\n      <td>245000000.0</td>\n      <td>2015.0</td>\n      <td>393.0</td>\n      <td>6.8</td>\n      <td>2.35</td>\n      <td>85000</td>\n      <td>100</td>\n      <td>11554.0</td>\n    </tr>\n    <tr>\n      <th>The Dark Knight Rises</th>\n      <td>Christopher Nolan</td>\n      <td>813.0</td>\n      <td>164.0</td>\n      <td>22000.0</td>\n      <td>23000.0</td>\n      <td>Christian Bale</td>\n      <td>27000.0</td>\n      <td>448130642.0</td>\n      <td>Action|Thriller</td>\n      <td>Tom Hardy</td>\n      <td>...</td>\n      <td>USA</td>\n      <td>PG-13</td>\n      <td>250000000.0</td>\n      <td>2012.0</td>\n      <td>23000.0</td>\n      <td>8.5</td>\n      <td>2.35</td>\n      <td>164000</td>\n      <td>100</td>\n      <td>95000.0</td>\n    </tr>\n    <tr>\n      <th>Star Wars: Episode VII - The Force Awakens</th>\n      <td>Doug Walker</td>\n      <td>NaN</td>\n      <td>NaN</td>\n      <td>131.0</td>\n      <td>NaN</td>\n      <td>Rob Walker</td>\n      <td>131.0</td>\n      <td>NaN</td>\n      <td>Documentary</td>\n      <td>Doug Walker</td>\n      <td>...</td>\n      <td>NaN</td>\n      <td>NaN</td>\n      <td>NaN</td>\n      <td>NaN</td>\n      <td>12.0</td>\n      <td>7.1</td>\n      <td>NaN</td>\n      <td>0</td>\n      <td>100</td>\n      <td>NaN</td>\n    </tr>\n  </tbody>\n</table>\n<p>5 rows × 28 columns</p>\n</div>"
     },
     "execution_count": 14,
     "metadata": {},
     "output_type": "execute_result"
    }
   ]
  },
  {
   "cell_type": "markdown",
   "metadata": {
    "id": "sD08rwtsH3Y8"
   },
   "source": [
    "## Wybór wierszy\n",
    "\n",
    "Za pomocą atrybutu tablicowego loc ramki danych można wskazać wiersz lub wiersze do wyboru wskazując indeks:"
   ]
  },
  {
   "cell_type": "code",
   "metadata": {
    "colab": {
     "base_uri": "https://localhost:8080/"
    },
    "id": "TjimBiIGCtNf",
    "executionInfo": {
     "status": "ok",
     "timestamp": 1618402197684,
     "user_tz": -120,
     "elapsed": 2481,
     "user": {
      "displayName": "Tomasz",
      "photoUrl": "",
      "userId": "05358483110003930735"
     }
    },
    "outputId": "6f1ad07e-6361-4b88-8d26-b4a3cd54e64d",
    "ExecuteTime": {
     "end_time": "2024-01-20T10:43:35.292078Z",
     "start_time": "2024-01-20T10:43:34.996609Z"
    }
   },
   "source": [
    "movie_new_idx.loc['Avatar II']"
   ],
   "execution_count": 44,
   "outputs": [
    {
     "data": {
      "text/plain": "director_name                                                    James Cameron\nNum critic for reviews                                                   723.0\nduration                                                                 178.0\nDirector FB likes                                                          0.0\nactor_3_facebook_likes                                                   855.0\nactor_2_name                                                  Joel David Moore\nactor_1_facebook_likes                                                  1000.0\ngross                                                              760505847.0\ngenres                                         Action|Adventure|Fantasy|Sci-Fi\nactor_1_name                                                       CCH Pounder\nnum_voted_users                                                         886204\ncast_total_facebook_likes                                                 4834\nactor_3_name                                                         Wes Studi\nfacenumber_in_poster                                                       0.0\nplot_keywords                           avatar|future|marine|native|paraplegic\nmovie_imdb_link              http://www.imdb.com/title/tt0499549/?ref_=fn_t...\nnum_user_for_reviews                                                    3054.0\nlanguage                                                               English\ncountry                                                                    USA\ncontent_rating                                                           PG-13\nbudget                                                             237000000.0\ntitle_year                                                              2009.0\nactor_2_facebook_likes                                                   936.0\nimdb_score                                                                 7.9\naspect_ratio                                                              1.78\nmovie_facebook_likes                                                     33000\nvisits_num                                                                 100\ntotal_facebook_likes                                                    2791.0\nName: Avatar II, dtype: object"
     },
     "execution_count": 44,
     "metadata": {},
     "output_type": "execute_result"
    }
   ]
  },
  {
   "cell_type": "code",
   "metadata": {
    "colab": {
     "base_uri": "https://localhost:8080/",
     "height": 247
    },
    "id": "ATVDr4ZNIZLt",
    "executionInfo": {
     "status": "ok",
     "timestamp": 1618402197684,
     "user_tz": -120,
     "elapsed": 2479,
     "user": {
      "displayName": "Tomasz",
      "photoUrl": "",
      "userId": "05358483110003930735"
     }
    },
    "outputId": "d88ce246-3d2c-4271-940b-c354e2c03108",
    "ExecuteTime": {
     "end_time": "2024-01-20T10:43:35.292384Z",
     "start_time": "2024-01-20T10:43:35.006150Z"
    }
   },
   "source": [
    "movie_new_idx.loc[['Avatar II', 'Spectre II']]  "
   ],
   "execution_count": 45,
   "outputs": [
    {
     "data": {
      "text/plain": "             director_name  Num critic for reviews  duration  \\\nmovie_title                                                    \nAvatar II    James Cameron                   723.0     178.0   \nSpectre II      Sam Mendes                   602.0     148.0   \n\n             Director FB likes  actor_3_facebook_likes      actor_2_name  \\\nmovie_title                                                                \nAvatar II                  0.0                   855.0  Joel David Moore   \nSpectre II                 0.0                   161.0      Rory Kinnear   \n\n             actor_1_facebook_likes        gross  \\\nmovie_title                                        \nAvatar II                    1000.0  760505847.0   \nSpectre II                  11000.0  200074175.0   \n\n                                      genres     actor_1_name  ...  country  \\\nmovie_title                                                    ...            \nAvatar II    Action|Adventure|Fantasy|Sci-Fi      CCH Pounder  ...      USA   \nSpectre II         Action|Adventure|Thriller  Christoph Waltz  ...       UK   \n\n             content_rating       budget  title_year actor_2_facebook_likes  \\\nmovie_title                                                                   \nAvatar II             PG-13  237000000.0      2009.0                  936.0   \nSpectre II            PG-13  245000000.0      2015.0                  393.0   \n\n            imdb_score  aspect_ratio movie_facebook_likes visits_num  \\\nmovie_title                                                            \nAvatar II          7.9          1.78                33000        100   \nSpectre II         6.8          2.35                85000        100   \n\n            total_facebook_likes  \nmovie_title                       \nAvatar II                 2791.0  \nSpectre II               11554.0  \n\n[2 rows x 28 columns]",
      "text/html": "<div>\n<style scoped>\n    .dataframe tbody tr th:only-of-type {\n        vertical-align: middle;\n    }\n\n    .dataframe tbody tr th {\n        vertical-align: top;\n    }\n\n    .dataframe thead th {\n        text-align: right;\n    }\n</style>\n<table border=\"1\" class=\"dataframe\">\n  <thead>\n    <tr style=\"text-align: right;\">\n      <th></th>\n      <th>director_name</th>\n      <th>Num critic for reviews</th>\n      <th>duration</th>\n      <th>Director FB likes</th>\n      <th>actor_3_facebook_likes</th>\n      <th>actor_2_name</th>\n      <th>actor_1_facebook_likes</th>\n      <th>gross</th>\n      <th>genres</th>\n      <th>actor_1_name</th>\n      <th>...</th>\n      <th>country</th>\n      <th>content_rating</th>\n      <th>budget</th>\n      <th>title_year</th>\n      <th>actor_2_facebook_likes</th>\n      <th>imdb_score</th>\n      <th>aspect_ratio</th>\n      <th>movie_facebook_likes</th>\n      <th>visits_num</th>\n      <th>total_facebook_likes</th>\n    </tr>\n    <tr>\n      <th>movie_title</th>\n      <th></th>\n      <th></th>\n      <th></th>\n      <th></th>\n      <th></th>\n      <th></th>\n      <th></th>\n      <th></th>\n      <th></th>\n      <th></th>\n      <th></th>\n      <th></th>\n      <th></th>\n      <th></th>\n      <th></th>\n      <th></th>\n      <th></th>\n      <th></th>\n      <th></th>\n      <th></th>\n      <th></th>\n    </tr>\n  </thead>\n  <tbody>\n    <tr>\n      <th>Avatar II</th>\n      <td>James Cameron</td>\n      <td>723.0</td>\n      <td>178.0</td>\n      <td>0.0</td>\n      <td>855.0</td>\n      <td>Joel David Moore</td>\n      <td>1000.0</td>\n      <td>760505847.0</td>\n      <td>Action|Adventure|Fantasy|Sci-Fi</td>\n      <td>CCH Pounder</td>\n      <td>...</td>\n      <td>USA</td>\n      <td>PG-13</td>\n      <td>237000000.0</td>\n      <td>2009.0</td>\n      <td>936.0</td>\n      <td>7.9</td>\n      <td>1.78</td>\n      <td>33000</td>\n      <td>100</td>\n      <td>2791.0</td>\n    </tr>\n    <tr>\n      <th>Spectre II</th>\n      <td>Sam Mendes</td>\n      <td>602.0</td>\n      <td>148.0</td>\n      <td>0.0</td>\n      <td>161.0</td>\n      <td>Rory Kinnear</td>\n      <td>11000.0</td>\n      <td>200074175.0</td>\n      <td>Action|Adventure|Thriller</td>\n      <td>Christoph Waltz</td>\n      <td>...</td>\n      <td>UK</td>\n      <td>PG-13</td>\n      <td>245000000.0</td>\n      <td>2015.0</td>\n      <td>393.0</td>\n      <td>6.8</td>\n      <td>2.35</td>\n      <td>85000</td>\n      <td>100</td>\n      <td>11554.0</td>\n    </tr>\n  </tbody>\n</table>\n<p>2 rows × 28 columns</p>\n</div>"
     },
     "execution_count": 45,
     "metadata": {},
     "output_type": "execute_result"
    }
   ]
  },
  {
   "cell_type": "markdown",
   "metadata": {
    "id": "Of9LeRWvIiWV"
   },
   "source": [
    "Jeżeli ramka danych posiada indeks numeryczny, w atrybucie loc wystarczy wskazać numeryczne pozycje wierszy:"
   ]
  },
  {
   "cell_type": "code",
   "metadata": {
    "colab": {
     "base_uri": "https://localhost:8080/",
     "height": 230
    },
    "id": "3E7RIoG8If-P",
    "executionInfo": {
     "status": "ok",
     "timestamp": 1618402197685,
     "user_tz": -120,
     "elapsed": 2477,
     "user": {
      "displayName": "Tomasz",
      "photoUrl": "",
      "userId": "05358483110003930735"
     }
    },
    "outputId": "6a39af85-d3d4-4ce9-e50b-070c312cf9bc",
    "ExecuteTime": {
     "end_time": "2024-01-20T10:43:35.292674Z",
     "start_time": "2024-01-20T10:43:35.014410Z"
    }
   },
   "source": [
    "movie.loc[[0, 1, 2]]  "
   ],
   "execution_count": 46,
   "outputs": [
    {
     "data": {
      "text/plain": "   color   director_name  num_critic_for_reviews  duration  \\\n0  Color   James Cameron                   723.0     178.0   \n1  Color  Gore Verbinski                   302.0     169.0   \n2  Color      Sam Mendes                   602.0     148.0   \n\n   director_facebook_likes  actor_3_facebook_likes      actor_2_name  \\\n0                      0.0                   855.0  Joel David Moore   \n1                    563.0                  1000.0     Orlando Bloom   \n2                      0.0                   161.0      Rory Kinnear   \n\n   actor_1_facebook_likes        gross                           genres  ...  \\\n0                  1000.0  760505847.0  Action|Adventure|Fantasy|Sci-Fi  ...   \n1                 40000.0  309404152.0         Action|Adventure|Fantasy  ...   \n2                 11000.0  200074175.0        Action|Adventure|Thriller  ...   \n\n  num_user_for_reviews language  country  content_rating       budget  \\\n0               3054.0  English      USA           PG-13  237000000.0   \n1               1238.0  English      USA           PG-13  300000000.0   \n2                994.0  English       UK           PG-13  245000000.0   \n\n   title_year actor_2_facebook_likes imdb_score  aspect_ratio  \\\n0      2009.0                  936.0        7.9          1.78   \n1      2007.0                 5000.0        7.1          2.35   \n2      2015.0                  393.0        6.8          2.35   \n\n  movie_facebook_likes  \n0                33000  \n1                    0  \n2                85000  \n\n[3 rows x 28 columns]",
      "text/html": "<div>\n<style scoped>\n    .dataframe tbody tr th:only-of-type {\n        vertical-align: middle;\n    }\n\n    .dataframe tbody tr th {\n        vertical-align: top;\n    }\n\n    .dataframe thead th {\n        text-align: right;\n    }\n</style>\n<table border=\"1\" class=\"dataframe\">\n  <thead>\n    <tr style=\"text-align: right;\">\n      <th></th>\n      <th>color</th>\n      <th>director_name</th>\n      <th>num_critic_for_reviews</th>\n      <th>duration</th>\n      <th>director_facebook_likes</th>\n      <th>actor_3_facebook_likes</th>\n      <th>actor_2_name</th>\n      <th>actor_1_facebook_likes</th>\n      <th>gross</th>\n      <th>genres</th>\n      <th>...</th>\n      <th>num_user_for_reviews</th>\n      <th>language</th>\n      <th>country</th>\n      <th>content_rating</th>\n      <th>budget</th>\n      <th>title_year</th>\n      <th>actor_2_facebook_likes</th>\n      <th>imdb_score</th>\n      <th>aspect_ratio</th>\n      <th>movie_facebook_likes</th>\n    </tr>\n  </thead>\n  <tbody>\n    <tr>\n      <th>0</th>\n      <td>Color</td>\n      <td>James Cameron</td>\n      <td>723.0</td>\n      <td>178.0</td>\n      <td>0.0</td>\n      <td>855.0</td>\n      <td>Joel David Moore</td>\n      <td>1000.0</td>\n      <td>760505847.0</td>\n      <td>Action|Adventure|Fantasy|Sci-Fi</td>\n      <td>...</td>\n      <td>3054.0</td>\n      <td>English</td>\n      <td>USA</td>\n      <td>PG-13</td>\n      <td>237000000.0</td>\n      <td>2009.0</td>\n      <td>936.0</td>\n      <td>7.9</td>\n      <td>1.78</td>\n      <td>33000</td>\n    </tr>\n    <tr>\n      <th>1</th>\n      <td>Color</td>\n      <td>Gore Verbinski</td>\n      <td>302.0</td>\n      <td>169.0</td>\n      <td>563.0</td>\n      <td>1000.0</td>\n      <td>Orlando Bloom</td>\n      <td>40000.0</td>\n      <td>309404152.0</td>\n      <td>Action|Adventure|Fantasy</td>\n      <td>...</td>\n      <td>1238.0</td>\n      <td>English</td>\n      <td>USA</td>\n      <td>PG-13</td>\n      <td>300000000.0</td>\n      <td>2007.0</td>\n      <td>5000.0</td>\n      <td>7.1</td>\n      <td>2.35</td>\n      <td>0</td>\n    </tr>\n    <tr>\n      <th>2</th>\n      <td>Color</td>\n      <td>Sam Mendes</td>\n      <td>602.0</td>\n      <td>148.0</td>\n      <td>0.0</td>\n      <td>161.0</td>\n      <td>Rory Kinnear</td>\n      <td>11000.0</td>\n      <td>200074175.0</td>\n      <td>Action|Adventure|Thriller</td>\n      <td>...</td>\n      <td>994.0</td>\n      <td>English</td>\n      <td>UK</td>\n      <td>PG-13</td>\n      <td>245000000.0</td>\n      <td>2015.0</td>\n      <td>393.0</td>\n      <td>6.8</td>\n      <td>2.35</td>\n      <td>85000</td>\n    </tr>\n  </tbody>\n</table>\n<p>3 rows × 28 columns</p>\n</div>"
     },
     "execution_count": 46,
     "metadata": {},
     "output_type": "execute_result"
    }
   ]
  },
  {
   "cell_type": "markdown",
   "metadata": {
    "id": "_cKctQIZI1Ig"
   },
   "source": [
    "Atrybut tablicowy iloc (podobnie jak w bibliotece NumPy) służy do wybierania wierszy i kolumn wskazując ich pozycje numerycznie:"
   ]
  },
  {
   "cell_type": "code",
   "metadata": {
    "colab": {
     "base_uri": "https://localhost:8080/",
     "height": 699
    },
    "id": "vx9I9QulIlbg",
    "executionInfo": {
     "status": "ok",
     "timestamp": 1618402197685,
     "user_tz": -120,
     "elapsed": 2474,
     "user": {
      "displayName": "Tomasz",
      "photoUrl": "",
      "userId": "05358483110003930735"
     }
    },
    "outputId": "fd6b0939-311a-4424-feac-7f5297056392",
    "ExecuteTime": {
     "end_time": "2024-01-21T14:52:06.105655Z",
     "start_time": "2024-01-21T14:52:06.081926Z"
    }
   },
   "source": [
    "movie_new_idx.iloc[0:10, :2]  "
   ],
   "execution_count": 15,
   "outputs": [
    {
     "data": {
      "text/plain": "                                                director_name  \\\nmovie_title                                                     \nAvatar II                                       James Cameron   \nPirates of the Caribbean: At World's End       Gore Verbinski   \nSpectre II                                         Sam Mendes   \nThe Dark Knight Rises                       Christopher Nolan   \nStar Wars: Episode VII - The Force Awakens        Doug Walker   \nJohn Carter                                    Andrew Stanton   \nSpider-Man 3                                        Sam Raimi   \nTangled                                          Nathan Greno   \nAvengers: Age of Ultron                           Joss Whedon   \nHarry Potter and the Half-Blood Prince            David Yates   \n\n                                            Num critic for reviews  \nmovie_title                                                         \nAvatar II                                                    723.0  \nPirates of the Caribbean: At World's End                     302.0  \nSpectre II                                                   602.0  \nThe Dark Knight Rises                                        813.0  \nStar Wars: Episode VII - The Force Awakens                     NaN  \nJohn Carter                                                  462.0  \nSpider-Man 3                                                 392.0  \nTangled                                                      324.0  \nAvengers: Age of Ultron                                      635.0  \nHarry Potter and the Half-Blood Prince                       375.0  ",
      "text/html": "<div>\n<style scoped>\n    .dataframe tbody tr th:only-of-type {\n        vertical-align: middle;\n    }\n\n    .dataframe tbody tr th {\n        vertical-align: top;\n    }\n\n    .dataframe thead th {\n        text-align: right;\n    }\n</style>\n<table border=\"1\" class=\"dataframe\">\n  <thead>\n    <tr style=\"text-align: right;\">\n      <th></th>\n      <th>director_name</th>\n      <th>Num critic for reviews</th>\n    </tr>\n    <tr>\n      <th>movie_title</th>\n      <th></th>\n      <th></th>\n    </tr>\n  </thead>\n  <tbody>\n    <tr>\n      <th>Avatar II</th>\n      <td>James Cameron</td>\n      <td>723.0</td>\n    </tr>\n    <tr>\n      <th>Pirates of the Caribbean: At World's End</th>\n      <td>Gore Verbinski</td>\n      <td>302.0</td>\n    </tr>\n    <tr>\n      <th>Spectre II</th>\n      <td>Sam Mendes</td>\n      <td>602.0</td>\n    </tr>\n    <tr>\n      <th>The Dark Knight Rises</th>\n      <td>Christopher Nolan</td>\n      <td>813.0</td>\n    </tr>\n    <tr>\n      <th>Star Wars: Episode VII - The Force Awakens</th>\n      <td>Doug Walker</td>\n      <td>NaN</td>\n    </tr>\n    <tr>\n      <th>John Carter</th>\n      <td>Andrew Stanton</td>\n      <td>462.0</td>\n    </tr>\n    <tr>\n      <th>Spider-Man 3</th>\n      <td>Sam Raimi</td>\n      <td>392.0</td>\n    </tr>\n    <tr>\n      <th>Tangled</th>\n      <td>Nathan Greno</td>\n      <td>324.0</td>\n    </tr>\n    <tr>\n      <th>Avengers: Age of Ultron</th>\n      <td>Joss Whedon</td>\n      <td>635.0</td>\n    </tr>\n    <tr>\n      <th>Harry Potter and the Half-Blood Prince</th>\n      <td>David Yates</td>\n      <td>375.0</td>\n    </tr>\n  </tbody>\n</table>\n</div>"
     },
     "execution_count": 15,
     "metadata": {},
     "output_type": "execute_result"
    }
   ]
  },
  {
   "cell_type": "code",
   "metadata": {
    "colab": {
     "base_uri": "https://localhost:8080/",
     "height": 450
    },
    "id": "emIEomp5JYGs",
    "executionInfo": {
     "status": "ok",
     "timestamp": 1618402197877,
     "user_tz": -120,
     "elapsed": 2664,
     "user": {
      "displayName": "Tomasz",
      "photoUrl": "",
      "userId": "05358483110003930735"
     }
    },
    "outputId": "a952baa6-c305-4179-ee04-b343ffd38482",
    "ExecuteTime": {
     "end_time": "2024-01-20T10:43:35.297800Z",
     "start_time": "2024-01-20T10:43:35.029394Z"
    }
   },
   "source": "movie_new_idx.iloc[:, 3:7]",
   "execution_count": 48,
   "outputs": [
    {
     "data": {
      "text/plain": "                                            Director FB likes  \\\nmovie_title                                                     \nAvatar II                                                 0.0   \nPirates of the Caribbean: At World's End                563.0   \nSpectre II                                                0.0   \nThe Dark Knight Rises                                 22000.0   \nStar Wars: Episode VII - The Force Awakens              131.0   \n...                                                       ...   \nSigned Sealed Delivered                                   2.0   \nThe Following                                             NaN   \nA Plague So Pleasant                                      0.0   \nShanghai Calling                                          0.0   \nMy Date with Drew                                        16.0   \n\n                                            actor_3_facebook_likes  \\\nmovie_title                                                          \nAvatar II                                                    855.0   \nPirates of the Caribbean: At World's End                    1000.0   \nSpectre II                                                   161.0   \nThe Dark Knight Rises                                      23000.0   \nStar Wars: Episode VII - The Force Awakens                     NaN   \n...                                                            ...   \nSigned Sealed Delivered                                      318.0   \nThe Following                                                319.0   \nA Plague So Pleasant                                           0.0   \nShanghai Calling                                             489.0   \nMy Date with Drew                                             16.0   \n\n                                                actor_2_name  \\\nmovie_title                                                    \nAvatar II                                   Joel David Moore   \nPirates of the Caribbean: At World's End       Orlando Bloom   \nSpectre II                                      Rory Kinnear   \nThe Dark Knight Rises                         Christian Bale   \nStar Wars: Episode VII - The Force Awakens        Rob Walker   \n...                                                      ...   \nSigned Sealed Delivered                        Daphne Zuniga   \nThe Following                                  Valorie Curry   \nA Plague So Pleasant                           Maxwell Moody   \nShanghai Calling                               Daniel Henney   \nMy Date with Drew                           Brian Herzlinger   \n\n                                            actor_1_facebook_likes  \nmovie_title                                                         \nAvatar II                                                   1000.0  \nPirates of the Caribbean: At World's End                   40000.0  \nSpectre II                                                 11000.0  \nThe Dark Knight Rises                                      27000.0  \nStar Wars: Episode VII - The Force Awakens                   131.0  \n...                                                            ...  \nSigned Sealed Delivered                                      637.0  \nThe Following                                                841.0  \nA Plague So Pleasant                                           0.0  \nShanghai Calling                                             946.0  \nMy Date with Drew                                             86.0  \n\n[4916 rows x 4 columns]",
      "text/html": "<div>\n<style scoped>\n    .dataframe tbody tr th:only-of-type {\n        vertical-align: middle;\n    }\n\n    .dataframe tbody tr th {\n        vertical-align: top;\n    }\n\n    .dataframe thead th {\n        text-align: right;\n    }\n</style>\n<table border=\"1\" class=\"dataframe\">\n  <thead>\n    <tr style=\"text-align: right;\">\n      <th></th>\n      <th>Director FB likes</th>\n      <th>actor_3_facebook_likes</th>\n      <th>actor_2_name</th>\n      <th>actor_1_facebook_likes</th>\n    </tr>\n    <tr>\n      <th>movie_title</th>\n      <th></th>\n      <th></th>\n      <th></th>\n      <th></th>\n    </tr>\n  </thead>\n  <tbody>\n    <tr>\n      <th>Avatar II</th>\n      <td>0.0</td>\n      <td>855.0</td>\n      <td>Joel David Moore</td>\n      <td>1000.0</td>\n    </tr>\n    <tr>\n      <th>Pirates of the Caribbean: At World's End</th>\n      <td>563.0</td>\n      <td>1000.0</td>\n      <td>Orlando Bloom</td>\n      <td>40000.0</td>\n    </tr>\n    <tr>\n      <th>Spectre II</th>\n      <td>0.0</td>\n      <td>161.0</td>\n      <td>Rory Kinnear</td>\n      <td>11000.0</td>\n    </tr>\n    <tr>\n      <th>The Dark Knight Rises</th>\n      <td>22000.0</td>\n      <td>23000.0</td>\n      <td>Christian Bale</td>\n      <td>27000.0</td>\n    </tr>\n    <tr>\n      <th>Star Wars: Episode VII - The Force Awakens</th>\n      <td>131.0</td>\n      <td>NaN</td>\n      <td>Rob Walker</td>\n      <td>131.0</td>\n    </tr>\n    <tr>\n      <th>...</th>\n      <td>...</td>\n      <td>...</td>\n      <td>...</td>\n      <td>...</td>\n    </tr>\n    <tr>\n      <th>Signed Sealed Delivered</th>\n      <td>2.0</td>\n      <td>318.0</td>\n      <td>Daphne Zuniga</td>\n      <td>637.0</td>\n    </tr>\n    <tr>\n      <th>The Following</th>\n      <td>NaN</td>\n      <td>319.0</td>\n      <td>Valorie Curry</td>\n      <td>841.0</td>\n    </tr>\n    <tr>\n      <th>A Plague So Pleasant</th>\n      <td>0.0</td>\n      <td>0.0</td>\n      <td>Maxwell Moody</td>\n      <td>0.0</td>\n    </tr>\n    <tr>\n      <th>Shanghai Calling</th>\n      <td>0.0</td>\n      <td>489.0</td>\n      <td>Daniel Henney</td>\n      <td>946.0</td>\n    </tr>\n    <tr>\n      <th>My Date with Drew</th>\n      <td>16.0</td>\n      <td>16.0</td>\n      <td>Brian Herzlinger</td>\n      <td>86.0</td>\n    </tr>\n  </tbody>\n</table>\n<p>4916 rows × 4 columns</p>\n</div>"
     },
     "execution_count": 48,
     "metadata": {},
     "output_type": "execute_result"
    }
   ]
  },
  {
   "cell_type": "code",
   "metadata": {
    "id": "aPhbry345u28",
    "ExecuteTime": {
     "end_time": "2024-01-20T10:43:35.297901Z",
     "start_time": "2024-01-20T10:43:35.035205Z"
    }
   },
   "source": [],
   "execution_count": 48,
   "outputs": []
  }
 ]
}
